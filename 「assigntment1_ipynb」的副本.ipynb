{
  "nbformat": 4,
  "nbformat_minor": 0,
  "metadata": {
    "colab": {
      "name": "「assigntment1.ipynb」的副本",
      "provenance": [],
      "collapsed_sections": [],
      "include_colab_link": true
    },
    "kernelspec": {
      "name": "ir",
      "display_name": "R"
    }
  },
  "cells": [
    {
      "cell_type": "markdown",
      "metadata": {
        "id": "view-in-github",
        "colab_type": "text"
      },
      "source": [
        "<a href=\"https://colab.research.google.com/github/ks891027/Data/blob/master/%E3%80%8Cassigntment1_ipynb%E3%80%8D%E7%9A%84%E5%89%AF%E6%9C%AC.ipynb\" target=\"_parent\"><img src=\"https://colab.research.google.com/assets/colab-badge.svg\" alt=\"Open In Colab\"/></a>"
      ]
    },
    {
      "cell_type": "code",
      "metadata": {
        "id": "TUkNoe0kWfgn",
        "colab_type": "code",
        "colab": {
          "base_uri": "https://localhost:8080/",
          "height": 34
        },
        "outputId": "f1f21964-7dbf-41d8-e988-7193d4cbdd72"
      },
      "source": [
        "class(\"hi\")"
      ],
      "execution_count": null,
      "outputs": [
        {
          "output_type": "display_data",
          "data": {
            "text/plain": [
              "[1] \"character\""
            ],
            "text/latex": "'character'",
            "text/markdown": "'character'",
            "text/html": [
              "'character'"
            ]
          },
          "metadata": {
            "tags": []
          }
        }
      ]
    },
    {
      "cell_type": "code",
      "metadata": {
        "id": "v7E7R9ejXQLC",
        "colab_type": "code",
        "colab": {
          "base_uri": "https://localhost:8080/",
          "height": 34
        },
        "outputId": "059c72dc-d235-48da-af39-ec8326c34394"
      },
      "source": [
        "class(2)"
      ],
      "execution_count": null,
      "outputs": [
        {
          "output_type": "display_data",
          "data": {
            "text/plain": [
              "[1] \"numeric\""
            ],
            "text/latex": "'numeric'",
            "text/markdown": "'numeric'",
            "text/html": [
              "'numeric'"
            ]
          },
          "metadata": {
            "tags": []
          }
        }
      ]
    },
    {
      "cell_type": "code",
      "metadata": {
        "id": "5o5HdCO-X0tQ",
        "colab_type": "code",
        "colab": {
          "base_uri": "https://localhost:8080/",
          "height": 34
        },
        "outputId": "14a3daa6-b292-47af-92e3-3b93a0487cc1"
      },
      "source": [
        "8 + 7"
      ],
      "execution_count": null,
      "outputs": [
        {
          "output_type": "display_data",
          "data": {
            "text/plain": [
              "[1] 15"
            ],
            "text/latex": "15",
            "text/markdown": "15",
            "text/html": [
              "15"
            ]
          },
          "metadata": {
            "tags": []
          }
        }
      ]
    },
    {
      "cell_type": "code",
      "metadata": {
        "id": "CB6EnuTFX7W4",
        "colab_type": "code",
        "colab": {
          "base_uri": "https://localhost:8080/",
          "height": 34
        },
        "outputId": "116f7ba1-c531-47ef-f6b9-9e6197aeab4a"
      },
      "source": [
        "8 > 7"
      ],
      "execution_count": null,
      "outputs": [
        {
          "output_type": "display_data",
          "data": {
            "text/plain": [
              "[1] TRUE"
            ],
            "text/latex": "TRUE",
            "text/markdown": "TRUE",
            "text/html": [
              "TRUE"
            ]
          },
          "metadata": {
            "tags": []
          }
        }
      ]
    },
    {
      "cell_type": "code",
      "metadata": {
        "id": "eW0R_eFpX_Ja",
        "colab_type": "code",
        "colab": {}
      },
      "source": [
        "my_H <- 179"
      ],
      "execution_count": null,
      "outputs": []
    },
    {
      "cell_type": "code",
      "metadata": {
        "id": "5rc1qVkJYmp7",
        "colab_type": "code",
        "colab": {}
      },
      "source": [
        "my_W <- 105"
      ],
      "execution_count": null,
      "outputs": []
    },
    {
      "cell_type": "code",
      "metadata": {
        "id": "IVAZtYu7Zak6",
        "colab_type": "code",
        "colab": {}
      },
      "source": [
        "first_name <- \"YANG\""
      ],
      "execution_count": null,
      "outputs": []
    },
    {
      "cell_type": "code",
      "metadata": {
        "id": "oUcGxKIDZh7T",
        "colab_type": "code",
        "colab": {
          "base_uri": "https://localhost:8080/",
          "height": 34
        },
        "outputId": "efe78714-7d14-4869-bb2c-47b6fe150fe6"
      },
      "source": [
        "first_name"
      ],
      "execution_count": null,
      "outputs": [
        {
          "output_type": "display_data",
          "data": {
            "text/plain": [
              "[1] \"YANG\""
            ],
            "text/latex": "'YANG'",
            "text/markdown": "'YANG'",
            "text/html": [
              "'YANG'"
            ]
          },
          "metadata": {
            "tags": []
          }
        }
      ]
    },
    {
      "cell_type": "code",
      "metadata": {
        "id": "boSeIPccb-P6",
        "colab_type": "code",
        "colab": {
          "base_uri": "https://localhost:8080/",
          "height": 34
        },
        "outputId": "9fc81003-a383-4d11-e3f1-f9b24cb56007"
      },
      "source": [
        "my_W / (my_H/100)^2"
      ],
      "execution_count": null,
      "outputs": [
        {
          "output_type": "display_data",
          "data": {
            "text/plain": [
              "[1] 32.77051"
            ],
            "text/latex": "32.7705127805",
            "text/markdown": "32.7705127805",
            "text/html": [
              "32.7705127805"
            ]
          },
          "metadata": {
            "tags": []
          }
        }
      ]
    },
    {
      "cell_type": "code",
      "metadata": {
        "id": "EuO82ed7Yp7L",
        "colab_type": "code",
        "colab": {}
      },
      "source": [
        "BMI <- my_W / (my_H/100)^2"
      ],
      "execution_count": null,
      "outputs": []
    },
    {
      "cell_type": "code",
      "metadata": {
        "id": "Qd5ya7mmbRx2",
        "colab_type": "code",
        "colab": {
          "base_uri": "https://localhost:8080/",
          "height": 34
        },
        "outputId": "69ce4c8e-ff02-4ede-c68c-c16b8a793a63"
      },
      "source": [
        "paste0(\"我是\",first_name,\",我的身高\",my_H,\",我的體重\",my_W,\",我的BMI\",BMI)"
      ],
      "execution_count": null,
      "outputs": [
        {
          "output_type": "display_data",
          "data": {
            "text/plain": [
              "[1] \"我是YANG,我的身高179,我的體重105,我的BMI32.7705127805\""
            ],
            "text/latex": "'我是YANG,我的身高179,我的體重105,我的BMI32.7705127805'",
            "text/markdown": "'我是YANG,我的身高179,我的體重105,我的BMI32.7705127805'",
            "text/html": [
              "'我是YANG,我的身高179,我的體重105,我的BMI32.7705127805'"
            ]
          },
          "metadata": {
            "tags": []
          }
        }
      ]
    }
  ]
}