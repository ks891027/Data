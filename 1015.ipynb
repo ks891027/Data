{
  "nbformat": 4,
  "nbformat_minor": 0,
  "metadata": {
    "colab": {
      "name": "1015.ipynb",
      "provenance": [],
      "collapsed_sections": [],
      "include_colab_link": true
    },
    "kernelspec": {
      "name": "ir",
      "display_name": "R"
    }
  },
  "cells": [
    {
      "cell_type": "markdown",
      "metadata": {
        "id": "view-in-github",
        "colab_type": "text"
      },
      "source": [
        "<a href=\"https://colab.research.google.com/github/ks891027/Data/blob/master/1015.ipynb\" target=\"_parent\"><img src=\"https://colab.research.google.com/assets/colab-badge.svg\" alt=\"Open In Colab\"/></a>"
      ]
    },
    {
      "cell_type": "code",
      "metadata": {
        "id": "AhDKejRkWkrJ",
        "outputId": "09015efc-8f8c-4192-df06-038ab4bb0ca5",
        "colab": {
          "base_uri": "https://localhost:8080/",
          "height": 68
        }
      },
      "source": [
        "a <- 5\n",
        "b <- 3.8\n",
        "c <- -1\n",
        "str(a)\n",
        "str(b)\n",
        "str(c)"
      ],
      "execution_count": 1,
      "outputs": [
        {
          "output_type": "stream",
          "text": [
            " num 5\n",
            " num 3.8\n",
            " num -1\n"
          ],
          "name": "stdout"
        }
      ]
    },
    {
      "cell_type": "code",
      "metadata": {
        "id": "VY_v9qogXR4n",
        "outputId": "4ea59624-2a60-4b28-cea8-695415bdd698",
        "colab": {
          "base_uri": "https://localhost:8080/",
          "height": 85
        }
      },
      "source": [
        "is.numeric(a)\n",
        "is.numeric(b)\n",
        "is.integer(a)\n",
        "is.integer(b)"
      ],
      "execution_count": 2,
      "outputs": [
        {
          "output_type": "display_data",
          "data": {
            "text/plain": [
              "[1] TRUE"
            ],
            "text/latex": "TRUE",
            "text/markdown": "TRUE",
            "text/html": [
              "TRUE"
            ]
          },
          "metadata": {
            "tags": []
          }
        },
        {
          "output_type": "display_data",
          "data": {
            "text/plain": [
              "[1] TRUE"
            ],
            "text/latex": "TRUE",
            "text/markdown": "TRUE",
            "text/html": [
              "TRUE"
            ]
          },
          "metadata": {
            "tags": []
          }
        },
        {
          "output_type": "display_data",
          "data": {
            "text/plain": [
              "[1] FALSE"
            ],
            "text/latex": "FALSE",
            "text/markdown": "FALSE",
            "text/html": [
              "FALSE"
            ]
          },
          "metadata": {
            "tags": []
          }
        },
        {
          "output_type": "display_data",
          "data": {
            "text/plain": [
              "[1] FALSE"
            ],
            "text/latex": "FALSE",
            "text/markdown": "FALSE",
            "text/html": [
              "FALSE"
            ]
          },
          "metadata": {
            "tags": []
          }
        }
      ]
    },
    {
      "cell_type": "code",
      "metadata": {
        "id": "78eg8hnbYR79",
        "outputId": "47c94862-e445-4a86-f74d-9c86f12664e1",
        "colab": {
          "base_uri": "https://localhost:8080/",
          "height": 51
        }
      },
      "source": [
        "d <- \"hello\"\n",
        "e <- \"hi\"\n",
        "str(d)\n",
        "str(e)"
      ],
      "execution_count": 3,
      "outputs": [
        {
          "output_type": "stream",
          "text": [
            " chr \"hello\"\n",
            " chr \"hi\"\n"
          ],
          "name": "stdout"
        }
      ]
    },
    {
      "cell_type": "code",
      "metadata": {
        "id": "upF0qtLhZH2L",
        "outputId": "1bebe3ca-f560-4290-9f40-4aa576d86d10",
        "colab": {
          "base_uri": "https://localhost:8080/",
          "height": 85
        }
      },
      "source": [
        "f <- c(1,2,3,4,5)\n",
        "g <- c(\"小王\",\"小陳\",\"小白\")\n",
        "f[2]\n",
        "g[1]\n",
        "g[c(1,2)]\n",
        "g[c(1,3)]"
      ],
      "execution_count": 11,
      "outputs": [
        {
          "output_type": "display_data",
          "data": {
            "text/plain": [
              "[1] 2"
            ],
            "text/latex": "2",
            "text/markdown": "2",
            "text/html": [
              "2"
            ]
          },
          "metadata": {
            "tags": []
          }
        },
        {
          "output_type": "display_data",
          "data": {
            "text/plain": [
              "[1] \"小王\""
            ],
            "text/latex": "'小王'",
            "text/markdown": "'小王'",
            "text/html": [
              "'小王'"
            ]
          },
          "metadata": {
            "tags": []
          }
        },
        {
          "output_type": "display_data",
          "data": {
            "text/plain": [
              "[1] \"小王\" \"小陳\""
            ],
            "text/latex": "\\begin{enumerate*}\n\\item '小王'\n\\item '小陳'\n\\end{enumerate*}\n",
            "text/markdown": "1. '小王'\n2. '小陳'\n\n\n",
            "text/html": [
              "<style>\n",
              ".list-inline {list-style: none; margin:0; padding: 0}\n",
              ".list-inline>li {display: inline-block}\n",
              ".list-inline>li:not(:last-child)::after {content: \"\\00b7\"; padding: 0 .5ex}\n",
              "</style>\n",
              "<ol class=list-inline><li>'小王'</li><li>'小陳'</li></ol>\n"
            ]
          },
          "metadata": {
            "tags": []
          }
        },
        {
          "output_type": "display_data",
          "data": {
            "text/plain": [
              "[1] \"小王\" \"小白\""
            ],
            "text/latex": "\\begin{enumerate*}\n\\item '小王'\n\\item '小白'\n\\end{enumerate*}\n",
            "text/markdown": "1. '小王'\n2. '小白'\n\n\n",
            "text/html": [
              "<style>\n",
              ".list-inline {list-style: none; margin:0; padding: 0}\n",
              ".list-inline>li {display: inline-block}\n",
              ".list-inline>li:not(:last-child)::after {content: \"\\00b7\"; padding: 0 .5ex}\n",
              "</style>\n",
              "<ol class=list-inline><li>'小王'</li><li>'小白'</li></ol>\n"
            ]
          },
          "metadata": {
            "tags": []
          }
        }
      ]
    },
    {
      "cell_type": "code",
      "metadata": {
        "id": "uHHwys_zZ76B",
        "outputId": "94024889-3522-4d68-99d8-49411194cd2d",
        "colab": {
          "base_uri": "https://localhost:8080/",
          "height": 85
        }
      },
      "source": [
        "h <- c(1,2,3,4,5,6,7,8,9)\n",
        "i <- c(2,3,4,5,6,7,8,9,10)\n",
        "h*i\n",
        "i/h\n",
        "h^3\n",
        "i>5"
      ],
      "execution_count": 9,
      "outputs": [
        {
          "output_type": "display_data",
          "data": {
            "text/plain": [
              "[1]  2  6 12 20 30 42 56 72 90"
            ],
            "text/latex": "\\begin{enumerate*}\n\\item 2\n\\item 6\n\\item 12\n\\item 20\n\\item 30\n\\item 42\n\\item 56\n\\item 72\n\\item 90\n\\end{enumerate*}\n",
            "text/markdown": "1. 2\n2. 6\n3. 12\n4. 20\n5. 30\n6. 42\n7. 56\n8. 72\n9. 90\n\n\n",
            "text/html": [
              "<style>\n",
              ".list-inline {list-style: none; margin:0; padding: 0}\n",
              ".list-inline>li {display: inline-block}\n",
              ".list-inline>li:not(:last-child)::after {content: \"\\00b7\"; padding: 0 .5ex}\n",
              "</style>\n",
              "<ol class=list-inline><li>2</li><li>6</li><li>12</li><li>20</li><li>30</li><li>42</li><li>56</li><li>72</li><li>90</li></ol>\n"
            ]
          },
          "metadata": {
            "tags": []
          }
        },
        {
          "output_type": "display_data",
          "data": {
            "text/plain": [
              "[1] 2.000000 1.500000 1.333333 1.250000 1.200000 1.166667 1.142857 1.125000\n",
              "[9] 1.111111"
            ],
            "text/latex": "\\begin{enumerate*}\n\\item 2\n\\item 1.5\n\\item 1.33333333333333\n\\item 1.25\n\\item 1.2\n\\item 1.16666666666667\n\\item 1.14285714285714\n\\item 1.125\n\\item 1.11111111111111\n\\end{enumerate*}\n",
            "text/markdown": "1. 2\n2. 1.5\n3. 1.33333333333333\n4. 1.25\n5. 1.2\n6. 1.16666666666667\n7. 1.14285714285714\n8. 1.125\n9. 1.11111111111111\n\n\n",
            "text/html": [
              "<style>\n",
              ".list-inline {list-style: none; margin:0; padding: 0}\n",
              ".list-inline>li {display: inline-block}\n",
              ".list-inline>li:not(:last-child)::after {content: \"\\00b7\"; padding: 0 .5ex}\n",
              "</style>\n",
              "<ol class=list-inline><li>2</li><li>1.5</li><li>1.33333333333333</li><li>1.25</li><li>1.2</li><li>1.16666666666667</li><li>1.14285714285714</li><li>1.125</li><li>1.11111111111111</li></ol>\n"
            ]
          },
          "metadata": {
            "tags": []
          }
        },
        {
          "output_type": "display_data",
          "data": {
            "text/plain": [
              "[1]   1   8  27  64 125 216 343 512 729"
            ],
            "text/latex": "\\begin{enumerate*}\n\\item 1\n\\item 8\n\\item 27\n\\item 64\n\\item 125\n\\item 216\n\\item 343\n\\item 512\n\\item 729\n\\end{enumerate*}\n",
            "text/markdown": "1. 1\n2. 8\n3. 27\n4. 64\n5. 125\n6. 216\n7. 343\n8. 512\n9. 729\n\n\n",
            "text/html": [
              "<style>\n",
              ".list-inline {list-style: none; margin:0; padding: 0}\n",
              ".list-inline>li {display: inline-block}\n",
              ".list-inline>li:not(:last-child)::after {content: \"\\00b7\"; padding: 0 .5ex}\n",
              "</style>\n",
              "<ol class=list-inline><li>1</li><li>8</li><li>27</li><li>64</li><li>125</li><li>216</li><li>343</li><li>512</li><li>729</li></ol>\n"
            ]
          },
          "metadata": {
            "tags": []
          }
        },
        {
          "output_type": "display_data",
          "data": {
            "text/plain": [
              "[1] FALSE FALSE FALSE FALSE  TRUE  TRUE  TRUE  TRUE  TRUE"
            ],
            "text/latex": "\\begin{enumerate*}\n\\item FALSE\n\\item FALSE\n\\item FALSE\n\\item FALSE\n\\item TRUE\n\\item TRUE\n\\item TRUE\n\\item TRUE\n\\item TRUE\n\\end{enumerate*}\n",
            "text/markdown": "1. FALSE\n2. FALSE\n3. FALSE\n4. FALSE\n5. TRUE\n6. TRUE\n7. TRUE\n8. TRUE\n9. TRUE\n\n\n",
            "text/html": [
              "<style>\n",
              ".list-inline {list-style: none; margin:0; padding: 0}\n",
              ".list-inline>li {display: inline-block}\n",
              ".list-inline>li:not(:last-child)::after {content: \"\\00b7\"; padding: 0 .5ex}\n",
              "</style>\n",
              "<ol class=list-inline><li>FALSE</li><li>FALSE</li><li>FALSE</li><li>FALSE</li><li>TRUE</li><li>TRUE</li><li>TRUE</li><li>TRUE</li><li>TRUE</li></ol>\n"
            ]
          },
          "metadata": {
            "tags": []
          }
        }
      ]
    },
    {
      "cell_type": "code",
      "metadata": {
        "id": "L65HZMXZa6SJ",
        "outputId": "8d76bf39-47d1-44c3-cb2e-b4bca7a1e452",
        "colab": {
          "base_uri": "https://localhost:8080/",
          "height": 68
        }
      },
      "source": [
        "gender <- c(\"男\",\"女\",\"男\",\"男\",\"女\",\"中\")\n",
        "gender <- factor(gender)\n",
        "gender\n",
        "levels(gender)"
      ],
      "execution_count": 12,
      "outputs": [
        {
          "output_type": "display_data",
          "data": {
            "text/plain": [
              "[1] 男 女 男 男 女 中\n",
              "Levels: 中 女 男"
            ],
            "text/latex": "\\begin{enumerate*}\n\\item 男\n\\item 女\n\\item 男\n\\item 男\n\\item 女\n\\item 中\n\\end{enumerate*}\n\n\\emph{Levels}: \\begin{enumerate*}\n\\item '中'\n\\item '女'\n\\item '男'\n\\end{enumerate*}\n",
            "text/markdown": "1. 男\n2. 女\n3. 男\n4. 男\n5. 女\n6. 中\n\n\n\n**Levels**: 1. '中'\n2. '女'\n3. '男'\n\n\n",
            "text/html": [
              "<style>\n",
              ".list-inline {list-style: none; margin:0; padding: 0}\n",
              ".list-inline>li {display: inline-block}\n",
              ".list-inline>li:not(:last-child)::after {content: \"\\00b7\"; padding: 0 .5ex}\n",
              "</style>\n",
              "<ol class=list-inline><li>男</li><li>女</li><li>男</li><li>男</li><li>女</li><li>中</li></ol>\n",
              "\n",
              "<details>\n",
              "\t<summary style=display:list-item;cursor:pointer>\n",
              "\t\t<strong>Levels</strong>:\n",
              "\t</summary>\n",
              "\t<style>\n",
              "\t.list-inline {list-style: none; margin:0; padding: 0}\n",
              "\t.list-inline>li {display: inline-block}\n",
              "\t.list-inline>li:not(:last-child)::after {content: \"\\00b7\"; padding: 0 .5ex}\n",
              "\t</style>\n",
              "\t<ol class=list-inline><li>'中'</li><li>'女'</li><li>'男'</li></ol>\n",
              "</details>"
            ]
          },
          "metadata": {
            "tags": []
          }
        },
        {
          "output_type": "display_data",
          "data": {
            "text/plain": [
              "[1] \"中\" \"女\" \"男\""
            ],
            "text/latex": "\\begin{enumerate*}\n\\item '中'\n\\item '女'\n\\item '男'\n\\end{enumerate*}\n",
            "text/markdown": "1. '中'\n2. '女'\n3. '男'\n\n\n",
            "text/html": [
              "<style>\n",
              ".list-inline {list-style: none; margin:0; padding: 0}\n",
              ".list-inline>li {display: inline-block}\n",
              ".list-inline>li:not(:last-child)::after {content: \"\\00b7\"; padding: 0 .5ex}\n",
              "</style>\n",
              "<ol class=list-inline><li>'中'</li><li>'女'</li><li>'男'</li></ol>\n"
            ]
          },
          "metadata": {
            "tags": []
          }
        }
      ]
    },
    {
      "cell_type": "code",
      "metadata": {
        "id": "5S-p33qLb1jp",
        "outputId": "58b3e6d8-974f-41b1-a3dd-240c1fcec00e",
        "colab": {
          "base_uri": "https://localhost:8080/",
          "height": 68
        }
      },
      "source": [
        "j <- matrix(c(1:6), nrow = 3, ncol = 2)\n",
        "j[2,2]\n",
        "j[,2]\n",
        "j[2,]"
      ],
      "execution_count": 14,
      "outputs": [
        {
          "output_type": "display_data",
          "data": {
            "text/plain": [
              "[1] 5"
            ],
            "text/latex": "5",
            "text/markdown": "5",
            "text/html": [
              "5"
            ]
          },
          "metadata": {
            "tags": []
          }
        },
        {
          "output_type": "display_data",
          "data": {
            "text/plain": [
              "[1] 4 5 6"
            ],
            "text/latex": "\\begin{enumerate*}\n\\item 4\n\\item 5\n\\item 6\n\\end{enumerate*}\n",
            "text/markdown": "1. 4\n2. 5\n3. 6\n\n\n",
            "text/html": [
              "<style>\n",
              ".list-inline {list-style: none; margin:0; padding: 0}\n",
              ".list-inline>li {display: inline-block}\n",
              ".list-inline>li:not(:last-child)::after {content: \"\\00b7\"; padding: 0 .5ex}\n",
              "</style>\n",
              "<ol class=list-inline><li>4</li><li>5</li><li>6</li></ol>\n"
            ]
          },
          "metadata": {
            "tags": []
          }
        },
        {
          "output_type": "display_data",
          "data": {
            "text/plain": [
              "[1] 2 5"
            ],
            "text/latex": "\\begin{enumerate*}\n\\item 2\n\\item 5\n\\end{enumerate*}\n",
            "text/markdown": "1. 2\n2. 5\n\n\n",
            "text/html": [
              "<style>\n",
              ".list-inline {list-style: none; margin:0; padding: 0}\n",
              ".list-inline>li {display: inline-block}\n",
              ".list-inline>li:not(:last-child)::after {content: \"\\00b7\"; padding: 0 .5ex}\n",
              "</style>\n",
              "<ol class=list-inline><li>2</li><li>5</li></ol>\n"
            ]
          },
          "metadata": {
            "tags": []
          }
        }
      ]
    },
    {
      "cell_type": "code",
      "metadata": {
        "id": "O7s3vgMdgRfD",
        "outputId": "f9515014-5981-499a-bcf6-bbcd2a8e979b",
        "colab": {
          "base_uri": "https://localhost:8080/",
          "height": 68
        }
      },
      "source": [
        "k <- matrix(c(7:12), nrow = 2, ncol = 3)\n",
        "k[2,2]\n",
        "k[,2]\n",
        "k[2,]"
      ],
      "execution_count": 15,
      "outputs": [
        {
          "output_type": "display_data",
          "data": {
            "text/plain": [
              "[1] 10"
            ],
            "text/latex": "10",
            "text/markdown": "10",
            "text/html": [
              "10"
            ]
          },
          "metadata": {
            "tags": []
          }
        },
        {
          "output_type": "display_data",
          "data": {
            "text/plain": [
              "[1]  9 10"
            ],
            "text/latex": "\\begin{enumerate*}\n\\item 9\n\\item 10\n\\end{enumerate*}\n",
            "text/markdown": "1. 9\n2. 10\n\n\n",
            "text/html": [
              "<style>\n",
              ".list-inline {list-style: none; margin:0; padding: 0}\n",
              ".list-inline>li {display: inline-block}\n",
              ".list-inline>li:not(:last-child)::after {content: \"\\00b7\"; padding: 0 .5ex}\n",
              "</style>\n",
              "<ol class=list-inline><li>9</li><li>10</li></ol>\n"
            ]
          },
          "metadata": {
            "tags": []
          }
        },
        {
          "output_type": "display_data",
          "data": {
            "text/plain": [
              "[1]  8 10 12"
            ],
            "text/latex": "\\begin{enumerate*}\n\\item 8\n\\item 10\n\\item 12\n\\end{enumerate*}\n",
            "text/markdown": "1. 8\n2. 10\n3. 12\n\n\n",
            "text/html": [
              "<style>\n",
              ".list-inline {list-style: none; margin:0; padding: 0}\n",
              ".list-inline>li {display: inline-block}\n",
              ".list-inline>li:not(:last-child)::after {content: \"\\00b7\"; padding: 0 .5ex}\n",
              "</style>\n",
              "<ol class=list-inline><li>8</li><li>10</li><li>12</li></ol>\n"
            ]
          },
          "metadata": {
            "tags": []
          }
        }
      ]
    },
    {
      "cell_type": "code",
      "metadata": {
        "id": "eFHE3QV9hy3I",
        "outputId": "8e9124cd-9071-4ba9-f5cb-3afc99649953",
        "colab": {
          "base_uri": "https://localhost:8080/",
          "height": 183
        }
      },
      "source": [
        "tmp <- data.frame(\n",
        "  Student_ID = c(1,2,3,4,5),\n",
        "  Name = c(\"Helen\",\"Lun\",\"Leon\",\"Kevin\",\"Tommy\"),\n",
        "  Score = c(80,36,88.9,97.5,60)\n",
        ")\n",
        "tmp"
      ],
      "execution_count": 19,
      "outputs": [
        {
          "output_type": "display_data",
          "data": {
            "text/plain": [
              "  Student_ID Name  Score\n",
              "1 1          Helen 80.0 \n",
              "2 2          Lun   36.0 \n",
              "3 3          Leon  88.9 \n",
              "4 4          Kevin 97.5 \n",
              "5 5          Tommy 60.0 "
            ],
            "text/latex": "A data.frame: 5 × 3\n\\begin{tabular}{lll}\n Student\\_ID & Name & Score\\\\\n <dbl> & <chr> & <dbl>\\\\\n\\hline\n\t 1 & Helen & 80.0\\\\\n\t 2 & Lun   & 36.0\\\\\n\t 3 & Leon  & 88.9\\\\\n\t 4 & Kevin & 97.5\\\\\n\t 5 & Tommy & 60.0\\\\\n\\end{tabular}\n",
            "text/markdown": "\nA data.frame: 5 × 3\n\n| Student_ID &lt;dbl&gt; | Name &lt;chr&gt; | Score &lt;dbl&gt; |\n|---|---|---|\n| 1 | Helen | 80.0 |\n| 2 | Lun   | 36.0 |\n| 3 | Leon  | 88.9 |\n| 4 | Kevin | 97.5 |\n| 5 | Tommy | 60.0 |\n\n",
            "text/html": [
              "<table>\n",
              "<caption>A data.frame: 5 × 3</caption>\n",
              "<thead>\n",
              "\t<tr><th scope=col>Student_ID</th><th scope=col>Name</th><th scope=col>Score</th></tr>\n",
              "\t<tr><th scope=col>&lt;dbl&gt;</th><th scope=col>&lt;chr&gt;</th><th scope=col>&lt;dbl&gt;</th></tr>\n",
              "</thead>\n",
              "<tbody>\n",
              "\t<tr><td>1</td><td>Helen</td><td>80.0</td></tr>\n",
              "\t<tr><td>2</td><td>Lun  </td><td>36.0</td></tr>\n",
              "\t<tr><td>3</td><td>Leon </td><td>88.9</td></tr>\n",
              "\t<tr><td>4</td><td>Kevin</td><td>97.5</td></tr>\n",
              "\t<tr><td>5</td><td>Tommy</td><td>60.0</td></tr>\n",
              "</tbody>\n",
              "</table>\n"
            ]
          },
          "metadata": {
            "tags": []
          }
        }
      ]
    },
    {
      "cell_type": "code",
      "metadata": {
        "id": "1M4-32dbix04",
        "outputId": "7490378d-3c8e-488d-f8e3-ff1260c4230a",
        "colab": {
          "base_uri": "https://localhost:8080/",
          "height": 232
        }
      },
      "source": [
        "tmp[2,3]\n",
        "tmp[,2]\n",
        "tmp$Name == \"Kevin\"\n",
        "tmp[tmp$Name == \"Lun\",]\n",
        "tmp[tmp$Name == \"Tommy\",]"
      ],
      "execution_count": 21,
      "outputs": [
        {
          "output_type": "display_data",
          "data": {
            "text/plain": [
              "[1] 36"
            ],
            "text/latex": "36",
            "text/markdown": "36",
            "text/html": [
              "36"
            ]
          },
          "metadata": {
            "tags": []
          }
        },
        {
          "output_type": "display_data",
          "data": {
            "text/plain": [
              "[1] \"Helen\" \"Lun\"   \"Leon\"  \"Kevin\" \"Tommy\""
            ],
            "text/latex": "\\begin{enumerate*}\n\\item 'Helen'\n\\item 'Lun'\n\\item 'Leon'\n\\item 'Kevin'\n\\item 'Tommy'\n\\end{enumerate*}\n",
            "text/markdown": "1. 'Helen'\n2. 'Lun'\n3. 'Leon'\n4. 'Kevin'\n5. 'Tommy'\n\n\n",
            "text/html": [
              "<style>\n",
              ".list-inline {list-style: none; margin:0; padding: 0}\n",
              ".list-inline>li {display: inline-block}\n",
              ".list-inline>li:not(:last-child)::after {content: \"\\00b7\"; padding: 0 .5ex}\n",
              "</style>\n",
              "<ol class=list-inline><li>'Helen'</li><li>'Lun'</li><li>'Leon'</li><li>'Kevin'</li><li>'Tommy'</li></ol>\n"
            ]
          },
          "metadata": {
            "tags": []
          }
        },
        {
          "output_type": "display_data",
          "data": {
            "text/plain": [
              "[1] FALSE FALSE FALSE  TRUE FALSE"
            ],
            "text/latex": "\\begin{enumerate*}\n\\item FALSE\n\\item FALSE\n\\item FALSE\n\\item TRUE\n\\item FALSE\n\\end{enumerate*}\n",
            "text/markdown": "1. FALSE\n2. FALSE\n3. FALSE\n4. TRUE\n5. FALSE\n\n\n",
            "text/html": [
              "<style>\n",
              ".list-inline {list-style: none; margin:0; padding: 0}\n",
              ".list-inline>li {display: inline-block}\n",
              ".list-inline>li:not(:last-child)::after {content: \"\\00b7\"; padding: 0 .5ex}\n",
              "</style>\n",
              "<ol class=list-inline><li>FALSE</li><li>FALSE</li><li>FALSE</li><li>TRUE</li><li>FALSE</li></ol>\n"
            ]
          },
          "metadata": {
            "tags": []
          }
        },
        {
          "output_type": "display_data",
          "data": {
            "text/plain": [
              "  Student_ID Name Score\n",
              "2 2          Lun  36   "
            ],
            "text/latex": "A data.frame: 1 × 3\n\\begin{tabular}{r|lll}\n  & Student\\_ID & Name & Score\\\\\n  & <dbl> & <chr> & <dbl>\\\\\n\\hline\n\t2 & 2 & Lun & 36\\\\\n\\end{tabular}\n",
            "text/markdown": "\nA data.frame: 1 × 3\n\n| <!--/--> | Student_ID &lt;dbl&gt; | Name &lt;chr&gt; | Score &lt;dbl&gt; |\n|---|---|---|---|\n| 2 | 2 | Lun | 36 |\n\n",
            "text/html": [
              "<table>\n",
              "<caption>A data.frame: 1 × 3</caption>\n",
              "<thead>\n",
              "\t<tr><th></th><th scope=col>Student_ID</th><th scope=col>Name</th><th scope=col>Score</th></tr>\n",
              "\t<tr><th></th><th scope=col>&lt;dbl&gt;</th><th scope=col>&lt;chr&gt;</th><th scope=col>&lt;dbl&gt;</th></tr>\n",
              "</thead>\n",
              "<tbody>\n",
              "\t<tr><th scope=row>2</th><td>2</td><td>Lun</td><td>36</td></tr>\n",
              "</tbody>\n",
              "</table>\n"
            ]
          },
          "metadata": {
            "tags": []
          }
        },
        {
          "output_type": "display_data",
          "data": {
            "text/plain": [
              "  Student_ID Name  Score\n",
              "5 5          Tommy 60   "
            ],
            "text/latex": "A data.frame: 1 × 3\n\\begin{tabular}{r|lll}\n  & Student\\_ID & Name & Score\\\\\n  & <dbl> & <chr> & <dbl>\\\\\n\\hline\n\t5 & 5 & Tommy & 60\\\\\n\\end{tabular}\n",
            "text/markdown": "\nA data.frame: 1 × 3\n\n| <!--/--> | Student_ID &lt;dbl&gt; | Name &lt;chr&gt; | Score &lt;dbl&gt; |\n|---|---|---|---|\n| 5 | 5 | Tommy | 60 |\n\n",
            "text/html": [
              "<table>\n",
              "<caption>A data.frame: 1 × 3</caption>\n",
              "<thead>\n",
              "\t<tr><th></th><th scope=col>Student_ID</th><th scope=col>Name</th><th scope=col>Score</th></tr>\n",
              "\t<tr><th></th><th scope=col>&lt;dbl&gt;</th><th scope=col>&lt;chr&gt;</th><th scope=col>&lt;dbl&gt;</th></tr>\n",
              "</thead>\n",
              "<tbody>\n",
              "\t<tr><th scope=row>5</th><td>5</td><td>Tommy</td><td>60</td></tr>\n",
              "</tbody>\n",
              "</table>\n"
            ]
          },
          "metadata": {
            "tags": []
          }
        }
      ]
    },
    {
      "cell_type": "code",
      "metadata": {
        "id": "kKA8JKjkjiWG",
        "outputId": "df910817-f3da-4be8-b830-00ac15a72fae",
        "colab": {
          "base_uri": "https://localhost:8080/",
          "height": 68
        }
      },
      "source": [
        "install.packages(\"SportsAnalytics\")\n",
        "\n",
        "library(SportsAnalytics)\n",
        "NBA1516 <- fetch_NBAPlayerStatistics(\"15-16\")"
      ],
      "execution_count": 27,
      "outputs": [
        {
          "output_type": "stream",
          "text": [
            "Installing package into ‘/usr/local/lib/R/site-library’\n",
            "(as ‘lib’ is unspecified)\n",
            "\n"
          ],
          "name": "stderr"
        }
      ]
    },
    {
      "cell_type": "code",
      "metadata": {
        "id": "MjKLFhENk4Eh",
        "outputId": "da149467-e682-403e-8390-710b15a65ccd",
        "colab": {
          "base_uri": "https://localhost:8080/",
          "height": 459
        }
      },
      "source": [
        "str(NBA1516)"
      ],
      "execution_count": 29,
      "outputs": [
        {
          "output_type": "stream",
          "text": [
            "'data.frame':\t476 obs. of  25 variables:\n",
            " $ League             : Factor w/ 1 level \"NBA\": 1 1 1 1 1 1 1 1 1 1 ...\n",
            " $ Name               : chr  \"Quincy Acy\" \"Jordan Adams\" \"Steven Adams\" \"Arron Afflalo\" ...\n",
            " $ Team               : Factor w/ 31 levels \"ATL\",\"BOS\",\"BRO\",..: 27 15 22 20 19 13 28 26 12 15 ...\n",
            " $ Position           : Factor w/ 5 levels \"C\",\"PF\",\"PG\",..: 4 5 1 5 1 1 2 2 2 5 ...\n",
            " $ GamesPlayed        : int  59 2 80 71 59 60 74 9 79 64 ...\n",
            " $ TotalMinutesPlayed : int  877 15 2019 2359 863 802 2260 37 1601 1622 ...\n",
            " $ FieldGoalsMade     : int  119 2 261 354 150 134 536 5 191 215 ...\n",
            " $ FieldGoalsAttempted: int  214 6 426 799 314 225 1045 10 370 469 ...\n",
            " $ ThreesMade         : int  19 0 0 91 0 0 0 0 0 15 ...\n",
            " $ ThreesAttempted    : int  49 1 0 238 1 0 16 0 0 42 ...\n",
            " $ FreeThrowsMade     : int  50 3 114 110 52 60 259 0 46 90 ...\n",
            " $ FreeThrowsAttempted: int  68 5 196 131 62 84 302 0 73 138 ...\n",
            " $ OffensiveRebounds  : int  65 0 218 23 75 86 175 2 162 104 ...\n",
            " $ TotalRebounds      : int  188 2 531 266 269 288 631 6 424 297 ...\n",
            " $ Assists            : int  27 3 61 145 32 50 110 0 76 70 ...\n",
            " $ Steals             : int  29 3 42 25 19 47 38 1 26 109 ...\n",
            " $ Turnovers          : int  27 2 84 82 54 64 99 1 69 78 ...\n",
            " $ Blocks             : int  24 0 89 10 36 68 81 2 42 18 ...\n",
            " $ PersonalFouls      : int  103 2 223 142 134 139 151 1 147 175 ...\n",
            " $ Disqualifications  : int  0 0 2 1 0 1 0 0 1 1 ...\n",
            " $ TotalPoints        : int  307 7 636 909 352 328 1331 10 428 535 ...\n",
            " $ Technicals         : int  3 0 2 1 2 0 0 0 0 1 ...\n",
            " $ Ejections          : int  0 0 0 0 0 0 0 0 0 0 ...\n",
            " $ FlagrantFouls      : int  0 0 0 0 0 0 0 0 0 0 ...\n",
            " $ GamesStarted       : int  29 0 80 57 17 5 74 0 28 56 ...\n"
          ],
          "name": "stdout"
        }
      ]
    },
    {
      "cell_type": "code",
      "metadata": {
        "id": "WgVK-hVBlB_p",
        "outputId": "418a8200-39fe-4645-c005-5401bc6e1712",
        "colab": {
          "base_uri": "https://localhost:8080/",
          "height": 204
        }
      },
      "source": [
        "head(NBA1516)"
      ],
      "execution_count": 30,
      "outputs": [
        {
          "output_type": "display_data",
          "data": {
            "text/plain": [
              "  League Name          Team Position GamesPlayed TotalMinutesPlayed\n",
              "1 NBA    Quincy Acy    SAC  SF       59           877              \n",
              "2 NBA    Jordan Adams  MEM  SG        2            15              \n",
              "3 NBA    Steven Adams  OKL  C        80          2019              \n",
              "4 NBA    Arron Afflalo NYK  SG       71          2359              \n",
              "5 NBA    Alexis Ajinca NOR  C        59           863              \n",
              "6 NBA    Cole Aldrich  LAC  C        60           802              \n",
              "  FieldGoalsMade FieldGoalsAttempted ThreesMade ThreesAttempted ⋯ Steals\n",
              "1 119            214                 19          49             ⋯ 29    \n",
              "2   2              6                  0           1             ⋯  3    \n",
              "3 261            426                  0           0             ⋯ 42    \n",
              "4 354            799                 91         238             ⋯ 25    \n",
              "5 150            314                  0           1             ⋯ 19    \n",
              "6 134            225                  0           0             ⋯ 47    \n",
              "  Turnovers Blocks PersonalFouls Disqualifications TotalPoints Technicals\n",
              "1 27        24     103           0                 307         3         \n",
              "2  2         0       2           0                   7         0         \n",
              "3 84        89     223           2                 636         2         \n",
              "4 82        10     142           1                 909         1         \n",
              "5 54        36     134           0                 352         2         \n",
              "6 64        68     139           1                 328         0         \n",
              "  Ejections FlagrantFouls GamesStarted\n",
              "1 0         0             29          \n",
              "2 0         0              0          \n",
              "3 0         0             80          \n",
              "4 0         0             57          \n",
              "5 0         0             17          \n",
              "6 0         0              5          "
            ],
            "text/latex": "A data.frame: 6 × 25\n\\begin{tabular}{r|lllllllllllllllllllll}\n  & League & Name & Team & Position & GamesPlayed & TotalMinutesPlayed & FieldGoalsMade & FieldGoalsAttempted & ThreesMade & ThreesAttempted & ⋯ & Steals & Turnovers & Blocks & PersonalFouls & Disqualifications & TotalPoints & Technicals & Ejections & FlagrantFouls & GamesStarted\\\\\n  & <fct> & <chr> & <fct> & <fct> & <int> & <int> & <int> & <int> & <int> & <int> & ⋯ & <int> & <int> & <int> & <int> & <int> & <int> & <int> & <int> & <int> & <int>\\\\\n\\hline\n\t1 & NBA & Quincy Acy    & SAC & SF & 59 &  877 & 119 & 214 & 19 &  49 & ⋯ & 29 & 27 & 24 & 103 & 0 & 307 & 3 & 0 & 0 & 29\\\\\n\t2 & NBA & Jordan Adams  & MEM & SG &  2 &   15 &   2 &   6 &  0 &   1 & ⋯ &  3 &  2 &  0 &   2 & 0 &   7 & 0 & 0 & 0 &  0\\\\\n\t3 & NBA & Steven Adams  & OKL & C  & 80 & 2019 & 261 & 426 &  0 &   0 & ⋯ & 42 & 84 & 89 & 223 & 2 & 636 & 2 & 0 & 0 & 80\\\\\n\t4 & NBA & Arron Afflalo & NYK & SG & 71 & 2359 & 354 & 799 & 91 & 238 & ⋯ & 25 & 82 & 10 & 142 & 1 & 909 & 1 & 0 & 0 & 57\\\\\n\t5 & NBA & Alexis Ajinca & NOR & C  & 59 &  863 & 150 & 314 &  0 &   1 & ⋯ & 19 & 54 & 36 & 134 & 0 & 352 & 2 & 0 & 0 & 17\\\\\n\t6 & NBA & Cole Aldrich  & LAC & C  & 60 &  802 & 134 & 225 &  0 &   0 & ⋯ & 47 & 64 & 68 & 139 & 1 & 328 & 0 & 0 & 0 &  5\\\\\n\\end{tabular}\n",
            "text/markdown": "\nA data.frame: 6 × 25\n\n| <!--/--> | League &lt;fct&gt; | Name &lt;chr&gt; | Team &lt;fct&gt; | Position &lt;fct&gt; | GamesPlayed &lt;int&gt; | TotalMinutesPlayed &lt;int&gt; | FieldGoalsMade &lt;int&gt; | FieldGoalsAttempted &lt;int&gt; | ThreesMade &lt;int&gt; | ThreesAttempted &lt;int&gt; | ⋯ ⋯ | Steals &lt;int&gt; | Turnovers &lt;int&gt; | Blocks &lt;int&gt; | PersonalFouls &lt;int&gt; | Disqualifications &lt;int&gt; | TotalPoints &lt;int&gt; | Technicals &lt;int&gt; | Ejections &lt;int&gt; | FlagrantFouls &lt;int&gt; | GamesStarted &lt;int&gt; |\n|---|---|---|---|---|---|---|---|---|---|---|---|---|---|---|---|---|---|---|---|---|---|\n| 1 | NBA | Quincy Acy    | SAC | SF | 59 |  877 | 119 | 214 | 19 |  49 | ⋯ | 29 | 27 | 24 | 103 | 0 | 307 | 3 | 0 | 0 | 29 |\n| 2 | NBA | Jordan Adams  | MEM | SG |  2 |   15 |   2 |   6 |  0 |   1 | ⋯ |  3 |  2 |  0 |   2 | 0 |   7 | 0 | 0 | 0 |  0 |\n| 3 | NBA | Steven Adams  | OKL | C  | 80 | 2019 | 261 | 426 |  0 |   0 | ⋯ | 42 | 84 | 89 | 223 | 2 | 636 | 2 | 0 | 0 | 80 |\n| 4 | NBA | Arron Afflalo | NYK | SG | 71 | 2359 | 354 | 799 | 91 | 238 | ⋯ | 25 | 82 | 10 | 142 | 1 | 909 | 1 | 0 | 0 | 57 |\n| 5 | NBA | Alexis Ajinca | NOR | C  | 59 |  863 | 150 | 314 |  0 |   1 | ⋯ | 19 | 54 | 36 | 134 | 0 | 352 | 2 | 0 | 0 | 17 |\n| 6 | NBA | Cole Aldrich  | LAC | C  | 60 |  802 | 134 | 225 |  0 |   0 | ⋯ | 47 | 64 | 68 | 139 | 1 | 328 | 0 | 0 | 0 |  5 |\n\n",
            "text/html": [
              "<table>\n",
              "<caption>A data.frame: 6 × 25</caption>\n",
              "<thead>\n",
              "\t<tr><th></th><th scope=col>League</th><th scope=col>Name</th><th scope=col>Team</th><th scope=col>Position</th><th scope=col>GamesPlayed</th><th scope=col>TotalMinutesPlayed</th><th scope=col>FieldGoalsMade</th><th scope=col>FieldGoalsAttempted</th><th scope=col>ThreesMade</th><th scope=col>ThreesAttempted</th><th scope=col>⋯</th><th scope=col>Steals</th><th scope=col>Turnovers</th><th scope=col>Blocks</th><th scope=col>PersonalFouls</th><th scope=col>Disqualifications</th><th scope=col>TotalPoints</th><th scope=col>Technicals</th><th scope=col>Ejections</th><th scope=col>FlagrantFouls</th><th scope=col>GamesStarted</th></tr>\n",
              "\t<tr><th></th><th scope=col>&lt;fct&gt;</th><th scope=col>&lt;chr&gt;</th><th scope=col>&lt;fct&gt;</th><th scope=col>&lt;fct&gt;</th><th scope=col>&lt;int&gt;</th><th scope=col>&lt;int&gt;</th><th scope=col>&lt;int&gt;</th><th scope=col>&lt;int&gt;</th><th scope=col>&lt;int&gt;</th><th scope=col>&lt;int&gt;</th><th scope=col>⋯</th><th scope=col>&lt;int&gt;</th><th scope=col>&lt;int&gt;</th><th scope=col>&lt;int&gt;</th><th scope=col>&lt;int&gt;</th><th scope=col>&lt;int&gt;</th><th scope=col>&lt;int&gt;</th><th scope=col>&lt;int&gt;</th><th scope=col>&lt;int&gt;</th><th scope=col>&lt;int&gt;</th><th scope=col>&lt;int&gt;</th></tr>\n",
              "</thead>\n",
              "<tbody>\n",
              "\t<tr><th scope=row>1</th><td>NBA</td><td>Quincy Acy   </td><td>SAC</td><td>SF</td><td>59</td><td> 877</td><td>119</td><td>214</td><td>19</td><td> 49</td><td>⋯</td><td>29</td><td>27</td><td>24</td><td>103</td><td>0</td><td>307</td><td>3</td><td>0</td><td>0</td><td>29</td></tr>\n",
              "\t<tr><th scope=row>2</th><td>NBA</td><td>Jordan Adams </td><td>MEM</td><td>SG</td><td> 2</td><td>  15</td><td>  2</td><td>  6</td><td> 0</td><td>  1</td><td>⋯</td><td> 3</td><td> 2</td><td> 0</td><td>  2</td><td>0</td><td>  7</td><td>0</td><td>0</td><td>0</td><td> 0</td></tr>\n",
              "\t<tr><th scope=row>3</th><td>NBA</td><td>Steven Adams </td><td>OKL</td><td>C </td><td>80</td><td>2019</td><td>261</td><td>426</td><td> 0</td><td>  0</td><td>⋯</td><td>42</td><td>84</td><td>89</td><td>223</td><td>2</td><td>636</td><td>2</td><td>0</td><td>0</td><td>80</td></tr>\n",
              "\t<tr><th scope=row>4</th><td>NBA</td><td>Arron Afflalo</td><td>NYK</td><td>SG</td><td>71</td><td>2359</td><td>354</td><td>799</td><td>91</td><td>238</td><td>⋯</td><td>25</td><td>82</td><td>10</td><td>142</td><td>1</td><td>909</td><td>1</td><td>0</td><td>0</td><td>57</td></tr>\n",
              "\t<tr><th scope=row>5</th><td>NBA</td><td>Alexis Ajinca</td><td>NOR</td><td>C </td><td>59</td><td> 863</td><td>150</td><td>314</td><td> 0</td><td>  1</td><td>⋯</td><td>19</td><td>54</td><td>36</td><td>134</td><td>0</td><td>352</td><td>2</td><td>0</td><td>0</td><td>17</td></tr>\n",
              "\t<tr><th scope=row>6</th><td>NBA</td><td>Cole Aldrich </td><td>LAC</td><td>C </td><td>60</td><td> 802</td><td>134</td><td>225</td><td> 0</td><td>  0</td><td>⋯</td><td>47</td><td>64</td><td>68</td><td>139</td><td>1</td><td>328</td><td>0</td><td>0</td><td>0</td><td> 5</td></tr>\n",
              "</tbody>\n",
              "</table>\n"
            ]
          },
          "metadata": {
            "tags": []
          }
        }
      ]
    },
    {
      "cell_type": "code",
      "metadata": {
        "id": "AGkP2Sk1lLap",
        "outputId": "3277ac98-d638-4c47-be3a-84637bc2fe4e",
        "colab": {
          "base_uri": "https://localhost:8080/",
          "height": 634
        }
      },
      "source": [
        "NBA1516Order <- NBA1516[order(NBA1516$GamesPlayed,decreasing = T),]\n",
        "NBA1516Order[1:20,]"
      ],
      "execution_count": 31,
      "outputs": [
        {
          "output_type": "display_data",
          "data": {
            "text/plain": [
              "    League Name             Team Position GamesPlayed TotalMinutesPlayed\n",
              "11  NBA    Al-farouq Aminu  POR  SF       82          2342              \n",
              "37  NBA    Will Barton      DEN  SG       82          2355              \n",
              "48  NBA    Bismack Biyombo  TOR  PF       82          1810              \n",
              "62  NBA    Corey Brewer     HOU  SG       82          1670              \n",
              "118 NBA    Gorgui Dieng     MIN  C        82          2222              \n",
              "148 NBA    Langsto Galloway NYK  PG       82          2032              \n",
              "178 NBA    James Harden     HOU  SG       82          3121              \n",
              "208 NBA    Al Horford       ATL  PF       82          2638              \n",
              "246 NBA    Enes Kanter      OKL  C        82          1721              \n",
              "259 NBA    Zach Lavine      MIN  PG       82          2295              \n",
              "272 NBA    Robin Lopez      NYK  C        82          2213              \n",
              "320 NBA    Shabazz Muhammad MIN  SF       82          1678              \n",
              "357 NBA    Mason Plumlee    POR  PF       82          2087              \n",
              "394 NBA    Ramon Sessions   WAS  PG       82          1667              \n",
              "422 NBA    Isaiah Thomas    BOS  PG       82          2647              \n",
              "427 NBA    Tristan Thompson CLE  C        82          2269              \n",
              "431 NBA    Karl-antho Towns MIN  C        82          2621              \n",
              "432 NBA    P.j. Tucker      PHO  SF       82          2540              \n",
              "24  NBA    Trevor Ariza     HOU  SF       81          2860              \n",
              "41  NBA    Aron Baynes      DET  PF       81          1241              \n",
              "    FieldGoalsMade FieldGoalsAttempted ThreesMade ThreesAttempted ⋯ Steals\n",
              "11  299             719                126        349             ⋯  72   \n",
              "37  426             984                112        324             ⋯  71   \n",
              "48  156             288                  0          1             ⋯  19   \n",
              "62  212             552                 61        225             ⋯  84   \n",
              "118 308             578                  6         20             ⋯  94   \n",
              "148 231             588                 77        224             ⋯  77   \n",
              "178 710            1617                236        656             ⋯ 138   \n",
              "208 529            1049                 88        257             ⋯  67   \n",
              "246 415             720                 10         21             ⋯  26   \n",
              "259 433             960                123        316             ⋯  69   \n",
              "272 357             662                  0          1             ⋯  16   \n",
              "320 317             681                 44        152             ⋯  24   \n",
              "357 267             517                  0          4             ⋯  68   \n",
              "394 280             592                 36        111             ⋯  47   \n",
              "422 591            1382                167        465             ⋯  91   \n",
              "427 247             420                  0          0             ⋯  38   \n",
              "431 625            1152                 30         88             ⋯  58   \n",
              "432 239             582                 68        206             ⋯ 106   \n",
              "24  357             858                185        497             ⋯ 161   \n",
              "41  194             384                  0          2             ⋯  21   \n",
              "    Turnovers Blocks PersonalFouls Disqualifications TotalPoints Technicals\n",
              "11  120        53    171           0                  839        3         \n",
              "37  139        39    147           0                 1180        2         \n",
              "48   71       133    225           2                  454        3         \n",
              "62   78        19    168           1                  590        0         \n",
              "118 140        96    219           0                  827        1         \n",
              "148  61        22    177           2                  625        0         \n",
              "178 374        51    229           1                 2376        2         \n",
              "208 107       122    163           0                 1249        1         \n",
              "246 115        33    166           1                 1040        2         \n",
              "259 155        17    193           1                 1150        0         \n",
              "272 133       129    182           2                  842        3         \n",
              "320  70         7     94           0                  863        0         \n",
              "357 154        82    253           4                  749        1         \n",
              "394 115         5    102           0                  810        0         \n",
              "422 220         9    167           1                 1823        9         \n",
              "427  61        51    202           0                  643        1         \n",
              "431 183       138    245           1                 1503        2         \n",
              "432 111        20    202           3                  652        4         \n",
              "24  113        26    177           0                 1025        2         \n",
              "41   67        52    151           0                  514        0         \n",
              "    Ejections FlagrantFouls GamesStarted\n",
              "11  0         0             82          \n",
              "37  0         0              1          \n",
              "48  0         0             22          \n",
              "62  0         0             12          \n",
              "118 0         0             39          \n",
              "148 0         0              7          \n",
              "178 0         0             82          \n",
              "208 0         0             82          \n",
              "246 0         0              1          \n",
              "259 0         0             33          \n",
              "272 0         0             82          \n",
              "320 0         0              0          \n",
              "357 0         0             82          \n",
              "394 0         0              5          \n",
              "422 0         0             79          \n",
              "427 0         0             34          \n",
              "431 0         0             82          \n",
              "432 0         0             80          \n",
              "24  0         0             81          \n",
              "41  0         0              1          "
            ],
            "text/latex": "A data.frame: 20 × 25\n\\begin{tabular}{r|lllllllllllllllllllll}\n  & League & Name & Team & Position & GamesPlayed & TotalMinutesPlayed & FieldGoalsMade & FieldGoalsAttempted & ThreesMade & ThreesAttempted & ⋯ & Steals & Turnovers & Blocks & PersonalFouls & Disqualifications & TotalPoints & Technicals & Ejections & FlagrantFouls & GamesStarted\\\\\n  & <fct> & <chr> & <fct> & <fct> & <int> & <int> & <int> & <int> & <int> & <int> & ⋯ & <int> & <int> & <int> & <int> & <int> & <int> & <int> & <int> & <int> & <int>\\\\\n\\hline\n\t11 & NBA & Al-farouq Aminu  & POR & SF & 82 & 2342 & 299 &  719 & 126 & 349 & ⋯ &  72 & 120 &  53 & 171 & 0 &  839 & 3 & 0 & 0 & 82\\\\\n\t37 & NBA & Will Barton      & DEN & SG & 82 & 2355 & 426 &  984 & 112 & 324 & ⋯ &  71 & 139 &  39 & 147 & 0 & 1180 & 2 & 0 & 0 &  1\\\\\n\t48 & NBA & Bismack Biyombo  & TOR & PF & 82 & 1810 & 156 &  288 &   0 &   1 & ⋯ &  19 &  71 & 133 & 225 & 2 &  454 & 3 & 0 & 0 & 22\\\\\n\t62 & NBA & Corey Brewer     & HOU & SG & 82 & 1670 & 212 &  552 &  61 & 225 & ⋯ &  84 &  78 &  19 & 168 & 1 &  590 & 0 & 0 & 0 & 12\\\\\n\t118 & NBA & Gorgui Dieng     & MIN & C  & 82 & 2222 & 308 &  578 &   6 &  20 & ⋯ &  94 & 140 &  96 & 219 & 0 &  827 & 1 & 0 & 0 & 39\\\\\n\t148 & NBA & Langsto Galloway & NYK & PG & 82 & 2032 & 231 &  588 &  77 & 224 & ⋯ &  77 &  61 &  22 & 177 & 2 &  625 & 0 & 0 & 0 &  7\\\\\n\t178 & NBA & James Harden     & HOU & SG & 82 & 3121 & 710 & 1617 & 236 & 656 & ⋯ & 138 & 374 &  51 & 229 & 1 & 2376 & 2 & 0 & 0 & 82\\\\\n\t208 & NBA & Al Horford       & ATL & PF & 82 & 2638 & 529 & 1049 &  88 & 257 & ⋯ &  67 & 107 & 122 & 163 & 0 & 1249 & 1 & 0 & 0 & 82\\\\\n\t246 & NBA & Enes Kanter      & OKL & C  & 82 & 1721 & 415 &  720 &  10 &  21 & ⋯ &  26 & 115 &  33 & 166 & 1 & 1040 & 2 & 0 & 0 &  1\\\\\n\t259 & NBA & Zach Lavine      & MIN & PG & 82 & 2295 & 433 &  960 & 123 & 316 & ⋯ &  69 & 155 &  17 & 193 & 1 & 1150 & 0 & 0 & 0 & 33\\\\\n\t272 & NBA & Robin Lopez      & NYK & C  & 82 & 2213 & 357 &  662 &   0 &   1 & ⋯ &  16 & 133 & 129 & 182 & 2 &  842 & 3 & 0 & 0 & 82\\\\\n\t320 & NBA & Shabazz Muhammad & MIN & SF & 82 & 1678 & 317 &  681 &  44 & 152 & ⋯ &  24 &  70 &   7 &  94 & 0 &  863 & 0 & 0 & 0 &  0\\\\\n\t357 & NBA & Mason Plumlee    & POR & PF & 82 & 2087 & 267 &  517 &   0 &   4 & ⋯ &  68 & 154 &  82 & 253 & 4 &  749 & 1 & 0 & 0 & 82\\\\\n\t394 & NBA & Ramon Sessions   & WAS & PG & 82 & 1667 & 280 &  592 &  36 & 111 & ⋯ &  47 & 115 &   5 & 102 & 0 &  810 & 0 & 0 & 0 &  5\\\\\n\t422 & NBA & Isaiah Thomas    & BOS & PG & 82 & 2647 & 591 & 1382 & 167 & 465 & ⋯ &  91 & 220 &   9 & 167 & 1 & 1823 & 9 & 0 & 0 & 79\\\\\n\t427 & NBA & Tristan Thompson & CLE & C  & 82 & 2269 & 247 &  420 &   0 &   0 & ⋯ &  38 &  61 &  51 & 202 & 0 &  643 & 1 & 0 & 0 & 34\\\\\n\t431 & NBA & Karl-antho Towns & MIN & C  & 82 & 2621 & 625 & 1152 &  30 &  88 & ⋯ &  58 & 183 & 138 & 245 & 1 & 1503 & 2 & 0 & 0 & 82\\\\\n\t432 & NBA & P.j. Tucker      & PHO & SF & 82 & 2540 & 239 &  582 &  68 & 206 & ⋯ & 106 & 111 &  20 & 202 & 3 &  652 & 4 & 0 & 0 & 80\\\\\n\t24 & NBA & Trevor Ariza     & HOU & SF & 81 & 2860 & 357 &  858 & 185 & 497 & ⋯ & 161 & 113 &  26 & 177 & 0 & 1025 & 2 & 0 & 0 & 81\\\\\n\t41 & NBA & Aron Baynes      & DET & PF & 81 & 1241 & 194 &  384 &   0 &   2 & ⋯ &  21 &  67 &  52 & 151 & 0 &  514 & 0 & 0 & 0 &  1\\\\\n\\end{tabular}\n",
            "text/markdown": "\nA data.frame: 20 × 25\n\n| <!--/--> | League &lt;fct&gt; | Name &lt;chr&gt; | Team &lt;fct&gt; | Position &lt;fct&gt; | GamesPlayed &lt;int&gt; | TotalMinutesPlayed &lt;int&gt; | FieldGoalsMade &lt;int&gt; | FieldGoalsAttempted &lt;int&gt; | ThreesMade &lt;int&gt; | ThreesAttempted &lt;int&gt; | ⋯ ⋯ | Steals &lt;int&gt; | Turnovers &lt;int&gt; | Blocks &lt;int&gt; | PersonalFouls &lt;int&gt; | Disqualifications &lt;int&gt; | TotalPoints &lt;int&gt; | Technicals &lt;int&gt; | Ejections &lt;int&gt; | FlagrantFouls &lt;int&gt; | GamesStarted &lt;int&gt; |\n|---|---|---|---|---|---|---|---|---|---|---|---|---|---|---|---|---|---|---|---|---|---|\n| 11 | NBA | Al-farouq Aminu  | POR | SF | 82 | 2342 | 299 |  719 | 126 | 349 | ⋯ |  72 | 120 |  53 | 171 | 0 |  839 | 3 | 0 | 0 | 82 |\n| 37 | NBA | Will Barton      | DEN | SG | 82 | 2355 | 426 |  984 | 112 | 324 | ⋯ |  71 | 139 |  39 | 147 | 0 | 1180 | 2 | 0 | 0 |  1 |\n| 48 | NBA | Bismack Biyombo  | TOR | PF | 82 | 1810 | 156 |  288 |   0 |   1 | ⋯ |  19 |  71 | 133 | 225 | 2 |  454 | 3 | 0 | 0 | 22 |\n| 62 | NBA | Corey Brewer     | HOU | SG | 82 | 1670 | 212 |  552 |  61 | 225 | ⋯ |  84 |  78 |  19 | 168 | 1 |  590 | 0 | 0 | 0 | 12 |\n| 118 | NBA | Gorgui Dieng     | MIN | C  | 82 | 2222 | 308 |  578 |   6 |  20 | ⋯ |  94 | 140 |  96 | 219 | 0 |  827 | 1 | 0 | 0 | 39 |\n| 148 | NBA | Langsto Galloway | NYK | PG | 82 | 2032 | 231 |  588 |  77 | 224 | ⋯ |  77 |  61 |  22 | 177 | 2 |  625 | 0 | 0 | 0 |  7 |\n| 178 | NBA | James Harden     | HOU | SG | 82 | 3121 | 710 | 1617 | 236 | 656 | ⋯ | 138 | 374 |  51 | 229 | 1 | 2376 | 2 | 0 | 0 | 82 |\n| 208 | NBA | Al Horford       | ATL | PF | 82 | 2638 | 529 | 1049 |  88 | 257 | ⋯ |  67 | 107 | 122 | 163 | 0 | 1249 | 1 | 0 | 0 | 82 |\n| 246 | NBA | Enes Kanter      | OKL | C  | 82 | 1721 | 415 |  720 |  10 |  21 | ⋯ |  26 | 115 |  33 | 166 | 1 | 1040 | 2 | 0 | 0 |  1 |\n| 259 | NBA | Zach Lavine      | MIN | PG | 82 | 2295 | 433 |  960 | 123 | 316 | ⋯ |  69 | 155 |  17 | 193 | 1 | 1150 | 0 | 0 | 0 | 33 |\n| 272 | NBA | Robin Lopez      | NYK | C  | 82 | 2213 | 357 |  662 |   0 |   1 | ⋯ |  16 | 133 | 129 | 182 | 2 |  842 | 3 | 0 | 0 | 82 |\n| 320 | NBA | Shabazz Muhammad | MIN | SF | 82 | 1678 | 317 |  681 |  44 | 152 | ⋯ |  24 |  70 |   7 |  94 | 0 |  863 | 0 | 0 | 0 |  0 |\n| 357 | NBA | Mason Plumlee    | POR | PF | 82 | 2087 | 267 |  517 |   0 |   4 | ⋯ |  68 | 154 |  82 | 253 | 4 |  749 | 1 | 0 | 0 | 82 |\n| 394 | NBA | Ramon Sessions   | WAS | PG | 82 | 1667 | 280 |  592 |  36 | 111 | ⋯ |  47 | 115 |   5 | 102 | 0 |  810 | 0 | 0 | 0 |  5 |\n| 422 | NBA | Isaiah Thomas    | BOS | PG | 82 | 2647 | 591 | 1382 | 167 | 465 | ⋯ |  91 | 220 |   9 | 167 | 1 | 1823 | 9 | 0 | 0 | 79 |\n| 427 | NBA | Tristan Thompson | CLE | C  | 82 | 2269 | 247 |  420 |   0 |   0 | ⋯ |  38 |  61 |  51 | 202 | 0 |  643 | 1 | 0 | 0 | 34 |\n| 431 | NBA | Karl-antho Towns | MIN | C  | 82 | 2621 | 625 | 1152 |  30 |  88 | ⋯ |  58 | 183 | 138 | 245 | 1 | 1503 | 2 | 0 | 0 | 82 |\n| 432 | NBA | P.j. Tucker      | PHO | SF | 82 | 2540 | 239 |  582 |  68 | 206 | ⋯ | 106 | 111 |  20 | 202 | 3 |  652 | 4 | 0 | 0 | 80 |\n| 24 | NBA | Trevor Ariza     | HOU | SF | 81 | 2860 | 357 |  858 | 185 | 497 | ⋯ | 161 | 113 |  26 | 177 | 0 | 1025 | 2 | 0 | 0 | 81 |\n| 41 | NBA | Aron Baynes      | DET | PF | 81 | 1241 | 194 |  384 |   0 |   2 | ⋯ |  21 |  67 |  52 | 151 | 0 |  514 | 0 | 0 | 0 |  1 |\n\n",
            "text/html": [
              "<table>\n",
              "<caption>A data.frame: 20 × 25</caption>\n",
              "<thead>\n",
              "\t<tr><th></th><th scope=col>League</th><th scope=col>Name</th><th scope=col>Team</th><th scope=col>Position</th><th scope=col>GamesPlayed</th><th scope=col>TotalMinutesPlayed</th><th scope=col>FieldGoalsMade</th><th scope=col>FieldGoalsAttempted</th><th scope=col>ThreesMade</th><th scope=col>ThreesAttempted</th><th scope=col>⋯</th><th scope=col>Steals</th><th scope=col>Turnovers</th><th scope=col>Blocks</th><th scope=col>PersonalFouls</th><th scope=col>Disqualifications</th><th scope=col>TotalPoints</th><th scope=col>Technicals</th><th scope=col>Ejections</th><th scope=col>FlagrantFouls</th><th scope=col>GamesStarted</th></tr>\n",
              "\t<tr><th></th><th scope=col>&lt;fct&gt;</th><th scope=col>&lt;chr&gt;</th><th scope=col>&lt;fct&gt;</th><th scope=col>&lt;fct&gt;</th><th scope=col>&lt;int&gt;</th><th scope=col>&lt;int&gt;</th><th scope=col>&lt;int&gt;</th><th scope=col>&lt;int&gt;</th><th scope=col>&lt;int&gt;</th><th scope=col>&lt;int&gt;</th><th scope=col>⋯</th><th scope=col>&lt;int&gt;</th><th scope=col>&lt;int&gt;</th><th scope=col>&lt;int&gt;</th><th scope=col>&lt;int&gt;</th><th scope=col>&lt;int&gt;</th><th scope=col>&lt;int&gt;</th><th scope=col>&lt;int&gt;</th><th scope=col>&lt;int&gt;</th><th scope=col>&lt;int&gt;</th><th scope=col>&lt;int&gt;</th></tr>\n",
              "</thead>\n",
              "<tbody>\n",
              "\t<tr><th scope=row>11</th><td>NBA</td><td>Al-farouq Aminu </td><td>POR</td><td>SF</td><td>82</td><td>2342</td><td>299</td><td> 719</td><td>126</td><td>349</td><td>⋯</td><td> 72</td><td>120</td><td> 53</td><td>171</td><td>0</td><td> 839</td><td>3</td><td>0</td><td>0</td><td>82</td></tr>\n",
              "\t<tr><th scope=row>37</th><td>NBA</td><td>Will Barton     </td><td>DEN</td><td>SG</td><td>82</td><td>2355</td><td>426</td><td> 984</td><td>112</td><td>324</td><td>⋯</td><td> 71</td><td>139</td><td> 39</td><td>147</td><td>0</td><td>1180</td><td>2</td><td>0</td><td>0</td><td> 1</td></tr>\n",
              "\t<tr><th scope=row>48</th><td>NBA</td><td>Bismack Biyombo </td><td>TOR</td><td>PF</td><td>82</td><td>1810</td><td>156</td><td> 288</td><td>  0</td><td>  1</td><td>⋯</td><td> 19</td><td> 71</td><td>133</td><td>225</td><td>2</td><td> 454</td><td>3</td><td>0</td><td>0</td><td>22</td></tr>\n",
              "\t<tr><th scope=row>62</th><td>NBA</td><td>Corey Brewer    </td><td>HOU</td><td>SG</td><td>82</td><td>1670</td><td>212</td><td> 552</td><td> 61</td><td>225</td><td>⋯</td><td> 84</td><td> 78</td><td> 19</td><td>168</td><td>1</td><td> 590</td><td>0</td><td>0</td><td>0</td><td>12</td></tr>\n",
              "\t<tr><th scope=row>118</th><td>NBA</td><td>Gorgui Dieng    </td><td>MIN</td><td>C </td><td>82</td><td>2222</td><td>308</td><td> 578</td><td>  6</td><td> 20</td><td>⋯</td><td> 94</td><td>140</td><td> 96</td><td>219</td><td>0</td><td> 827</td><td>1</td><td>0</td><td>0</td><td>39</td></tr>\n",
              "\t<tr><th scope=row>148</th><td>NBA</td><td>Langsto Galloway</td><td>NYK</td><td>PG</td><td>82</td><td>2032</td><td>231</td><td> 588</td><td> 77</td><td>224</td><td>⋯</td><td> 77</td><td> 61</td><td> 22</td><td>177</td><td>2</td><td> 625</td><td>0</td><td>0</td><td>0</td><td> 7</td></tr>\n",
              "\t<tr><th scope=row>178</th><td>NBA</td><td>James Harden    </td><td>HOU</td><td>SG</td><td>82</td><td>3121</td><td>710</td><td>1617</td><td>236</td><td>656</td><td>⋯</td><td>138</td><td>374</td><td> 51</td><td>229</td><td>1</td><td>2376</td><td>2</td><td>0</td><td>0</td><td>82</td></tr>\n",
              "\t<tr><th scope=row>208</th><td>NBA</td><td>Al Horford      </td><td>ATL</td><td>PF</td><td>82</td><td>2638</td><td>529</td><td>1049</td><td> 88</td><td>257</td><td>⋯</td><td> 67</td><td>107</td><td>122</td><td>163</td><td>0</td><td>1249</td><td>1</td><td>0</td><td>0</td><td>82</td></tr>\n",
              "\t<tr><th scope=row>246</th><td>NBA</td><td>Enes Kanter     </td><td>OKL</td><td>C </td><td>82</td><td>1721</td><td>415</td><td> 720</td><td> 10</td><td> 21</td><td>⋯</td><td> 26</td><td>115</td><td> 33</td><td>166</td><td>1</td><td>1040</td><td>2</td><td>0</td><td>0</td><td> 1</td></tr>\n",
              "\t<tr><th scope=row>259</th><td>NBA</td><td>Zach Lavine     </td><td>MIN</td><td>PG</td><td>82</td><td>2295</td><td>433</td><td> 960</td><td>123</td><td>316</td><td>⋯</td><td> 69</td><td>155</td><td> 17</td><td>193</td><td>1</td><td>1150</td><td>0</td><td>0</td><td>0</td><td>33</td></tr>\n",
              "\t<tr><th scope=row>272</th><td>NBA</td><td>Robin Lopez     </td><td>NYK</td><td>C </td><td>82</td><td>2213</td><td>357</td><td> 662</td><td>  0</td><td>  1</td><td>⋯</td><td> 16</td><td>133</td><td>129</td><td>182</td><td>2</td><td> 842</td><td>3</td><td>0</td><td>0</td><td>82</td></tr>\n",
              "\t<tr><th scope=row>320</th><td>NBA</td><td>Shabazz Muhammad</td><td>MIN</td><td>SF</td><td>82</td><td>1678</td><td>317</td><td> 681</td><td> 44</td><td>152</td><td>⋯</td><td> 24</td><td> 70</td><td>  7</td><td> 94</td><td>0</td><td> 863</td><td>0</td><td>0</td><td>0</td><td> 0</td></tr>\n",
              "\t<tr><th scope=row>357</th><td>NBA</td><td>Mason Plumlee   </td><td>POR</td><td>PF</td><td>82</td><td>2087</td><td>267</td><td> 517</td><td>  0</td><td>  4</td><td>⋯</td><td> 68</td><td>154</td><td> 82</td><td>253</td><td>4</td><td> 749</td><td>1</td><td>0</td><td>0</td><td>82</td></tr>\n",
              "\t<tr><th scope=row>394</th><td>NBA</td><td>Ramon Sessions  </td><td>WAS</td><td>PG</td><td>82</td><td>1667</td><td>280</td><td> 592</td><td> 36</td><td>111</td><td>⋯</td><td> 47</td><td>115</td><td>  5</td><td>102</td><td>0</td><td> 810</td><td>0</td><td>0</td><td>0</td><td> 5</td></tr>\n",
              "\t<tr><th scope=row>422</th><td>NBA</td><td>Isaiah Thomas   </td><td>BOS</td><td>PG</td><td>82</td><td>2647</td><td>591</td><td>1382</td><td>167</td><td>465</td><td>⋯</td><td> 91</td><td>220</td><td>  9</td><td>167</td><td>1</td><td>1823</td><td>9</td><td>0</td><td>0</td><td>79</td></tr>\n",
              "\t<tr><th scope=row>427</th><td>NBA</td><td>Tristan Thompson</td><td>CLE</td><td>C </td><td>82</td><td>2269</td><td>247</td><td> 420</td><td>  0</td><td>  0</td><td>⋯</td><td> 38</td><td> 61</td><td> 51</td><td>202</td><td>0</td><td> 643</td><td>1</td><td>0</td><td>0</td><td>34</td></tr>\n",
              "\t<tr><th scope=row>431</th><td>NBA</td><td>Karl-antho Towns</td><td>MIN</td><td>C </td><td>82</td><td>2621</td><td>625</td><td>1152</td><td> 30</td><td> 88</td><td>⋯</td><td> 58</td><td>183</td><td>138</td><td>245</td><td>1</td><td>1503</td><td>2</td><td>0</td><td>0</td><td>82</td></tr>\n",
              "\t<tr><th scope=row>432</th><td>NBA</td><td>P.j. Tucker     </td><td>PHO</td><td>SF</td><td>82</td><td>2540</td><td>239</td><td> 582</td><td> 68</td><td>206</td><td>⋯</td><td>106</td><td>111</td><td> 20</td><td>202</td><td>3</td><td> 652</td><td>4</td><td>0</td><td>0</td><td>80</td></tr>\n",
              "\t<tr><th scope=row>24</th><td>NBA</td><td>Trevor Ariza    </td><td>HOU</td><td>SF</td><td>81</td><td>2860</td><td>357</td><td> 858</td><td>185</td><td>497</td><td>⋯</td><td>161</td><td>113</td><td> 26</td><td>177</td><td>0</td><td>1025</td><td>2</td><td>0</td><td>0</td><td>81</td></tr>\n",
              "\t<tr><th scope=row>41</th><td>NBA</td><td>Aron Baynes     </td><td>DET</td><td>PF</td><td>81</td><td>1241</td><td>194</td><td> 384</td><td>  0</td><td>  2</td><td>⋯</td><td> 21</td><td> 67</td><td> 52</td><td>151</td><td>0</td><td> 514</td><td>0</td><td>0</td><td>0</td><td> 1</td></tr>\n",
              "</tbody>\n",
              "</table>\n"
            ]
          },
          "metadata": {
            "tags": []
          }
        }
      ]
    },
    {
      "cell_type": "code",
      "metadata": {
        "id": "aOYkrAw7nKm3",
        "outputId": "f96b96fe-c96a-4cdb-c30d-ec4dd4e65ac5",
        "colab": {
          "base_uri": "https://localhost:8080/",
          "height": 586
        }
      },
      "source": [
        "NBA1516Order <- NBA1516[order(NBA1516$GamesPlayed,decreasing = F),]\n",
        "NBA1516Order[1:20,]"
      ],
      "execution_count": 37,
      "outputs": [
        {
          "output_type": "display_data",
          "data": {
            "text/plain": [
              "    League Name             Team Position GamesPlayed TotalMinutesPlayed\n",
              "87  NBA    Rakeem Christmas IND  PF       1            6                \n",
              "124 NBA    Duje Dukan       SAC  PF       1           24                \n",
              "238 NBA    Dahntay Jones    CLE  SG       1           42                \n",
              "335 NBA    J.j. O'brien     UTA  SF       1            2                \n",
              "2   NBA    Jordan Adams     MEM  SG       2           15                \n",
              "189 NBA    Chuck Hayes      HOU  PF       2           24                \n",
              "377 NBA    Nate Robinson    NOR  PG       2           23                \n",
              "20  NBA    Th Antetokounmpo NYK  SF       3            7                \n",
              "113 NBA    Sam Dekker       HOU  SF       3            7                \n",
              "298 NBA    Jodie Meeks      DET  SG       3           44                \n",
              "89  NBA    Coty Clarke      BOS  NA       4            8                \n",
              "23  NBA    Keith Appling    ORL  PG       5           27                \n",
              "180 NBA    Justin Harper    DET  PF       5           35                \n",
              "184 NBA    Joe Harris       CLE  SG       5           15                \n",
              "211 NBA    Josh Huestis     OKL  SF       5           55                \n",
              "270 NBA    Kevon Looney     GSW  SF       5           21                \n",
              "309 NBA    Nazr Mohammed    OKL  C        5           20                \n",
              "461 NBA    Elliot Williams  MEM  SG       5           46                \n",
              "75  NBA    Bruno Caboclo    TOR  SF       6           43                \n",
              "110 NBA    Branden Dawson   LAC  SF       6           28                \n",
              "    FieldGoalsMade FieldGoalsAttempted ThreesMade ThreesAttempted ⋯ Steals\n",
              "87  2               2                  0          0               ⋯ 0     \n",
              "124 2              10                  2          5               ⋯ 1     \n",
              "238 6              14                  1          2               ⋯ 1     \n",
              "335 0               1                  0          0               ⋯ 0     \n",
              "2   2               6                  0          1               ⋯ 3     \n",
              "189 1               2                  0          0               ⋯ 0     \n",
              "377 0               1                  0          1               ⋯ 1     \n",
              "20  3               4                  0          1               ⋯ 0     \n",
              "113 0               0                  0          0               ⋯ 1     \n",
              "298 7              20                  4          9               ⋯ 0     \n",
              "89  2               4                  2          2               ⋯ 0     \n",
              "23  2               8                  0          3               ⋯ 1     \n",
              "180 4              10                  4          9               ⋯ 1     \n",
              "184 1               4                  1          4               ⋯ 0     \n",
              "211 5              12                  4          6               ⋯ 1     \n",
              "270 4               7                  1          2               ⋯ 0     \n",
              "309 3               5                  0          0               ⋯ 0     \n",
              "461 2              10                  1          4               ⋯ 1     \n",
              "75  1              12                  1          7               ⋯ 2     \n",
              "110 2               5                  0          0               ⋯ 0     \n",
              "    Turnovers Blocks PersonalFouls Disqualifications TotalPoints Technicals\n",
              "87  0         0      1             0                  4          0         \n",
              "124 0         0      2             0                  6          0         \n",
              "238 0         2      6             1                 13          0         \n",
              "335 0         0      0             0                  0          0         \n",
              "2   2         0      2             0                  7          0         \n",
              "189 3         0      6             0                  4          0         \n",
              "377 0         0      5             0                  0          0         \n",
              "20  0         0      2             0                  6          0         \n",
              "113 0         0      0             0                  0          0         \n",
              "298 1         0      2             0                 22          0         \n",
              "89  1         0      0             0                  6          0         \n",
              "23  3         0      5             0                  6          0         \n",
              "180 2         0      3             0                 13          0         \n",
              "184 1         0      1             0                  3          0         \n",
              "211 3         2      3             0                 14          0         \n",
              "270 1         0      2             0                  9          0         \n",
              "309 3         0      4             0                  8          0         \n",
              "461 1         0      2             0                  8          0         \n",
              "75  4         1      2             0                  3          0         \n",
              "110 0         1      2             0                  5          0         \n",
              "    Ejections FlagrantFouls GamesStarted\n",
              "87  0         0             0           \n",
              "124 0         0             0           \n",
              "238 0         0             0           \n",
              "335 0         0             0           \n",
              "2   0         0             0           \n",
              "189 0         0             0           \n",
              "377 0         0             1           \n",
              "20  0         0             0           \n",
              "113 0         0             0           \n",
              "298 0         0             0           \n",
              "89  0         0             0           \n",
              "23  0         0             0           \n",
              "180 0         0             0           \n",
              "184 0         0             0           \n",
              "211 0         0             0           \n",
              "270 0         0             0           \n",
              "309 0         0             0           \n",
              "461 0         0             0           \n",
              "75  0         0             1           \n",
              "110 0         0             0           "
            ],
            "text/latex": "A data.frame: 20 × 25\n\\begin{tabular}{r|lllllllllllllllllllll}\n  & League & Name & Team & Position & GamesPlayed & TotalMinutesPlayed & FieldGoalsMade & FieldGoalsAttempted & ThreesMade & ThreesAttempted & ⋯ & Steals & Turnovers & Blocks & PersonalFouls & Disqualifications & TotalPoints & Technicals & Ejections & FlagrantFouls & GamesStarted\\\\\n  & <fct> & <chr> & <fct> & <fct> & <int> & <int> & <int> & <int> & <int> & <int> & ⋯ & <int> & <int> & <int> & <int> & <int> & <int> & <int> & <int> & <int> & <int>\\\\\n\\hline\n\t87 & NBA & Rakeem Christmas & IND & PF & 1 &  6 & 2 &  2 & 0 & 0 & ⋯ & 0 & 0 & 0 & 1 & 0 &  4 & 0 & 0 & 0 & 0\\\\\n\t124 & NBA & Duje Dukan       & SAC & PF & 1 & 24 & 2 & 10 & 2 & 5 & ⋯ & 1 & 0 & 0 & 2 & 0 &  6 & 0 & 0 & 0 & 0\\\\\n\t238 & NBA & Dahntay Jones    & CLE & SG & 1 & 42 & 6 & 14 & 1 & 2 & ⋯ & 1 & 0 & 2 & 6 & 1 & 13 & 0 & 0 & 0 & 0\\\\\n\t335 & NBA & J.j. O'brien     & UTA & SF & 1 &  2 & 0 &  1 & 0 & 0 & ⋯ & 0 & 0 & 0 & 0 & 0 &  0 & 0 & 0 & 0 & 0\\\\\n\t2 & NBA & Jordan Adams     & MEM & SG & 2 & 15 & 2 &  6 & 0 & 1 & ⋯ & 3 & 2 & 0 & 2 & 0 &  7 & 0 & 0 & 0 & 0\\\\\n\t189 & NBA & Chuck Hayes      & HOU & PF & 2 & 24 & 1 &  2 & 0 & 0 & ⋯ & 0 & 3 & 0 & 6 & 0 &  4 & 0 & 0 & 0 & 0\\\\\n\t377 & NBA & Nate Robinson    & NOR & PG & 2 & 23 & 0 &  1 & 0 & 1 & ⋯ & 1 & 0 & 0 & 5 & 0 &  0 & 0 & 0 & 0 & 1\\\\\n\t20 & NBA & Th Antetokounmpo & NYK & SF & 3 &  7 & 3 &  4 & 0 & 1 & ⋯ & 0 & 0 & 0 & 2 & 0 &  6 & 0 & 0 & 0 & 0\\\\\n\t113 & NBA & Sam Dekker       & HOU & SF & 3 &  7 & 0 &  0 & 0 & 0 & ⋯ & 1 & 0 & 0 & 0 & 0 &  0 & 0 & 0 & 0 & 0\\\\\n\t298 & NBA & Jodie Meeks      & DET & SG & 3 & 44 & 7 & 20 & 4 & 9 & ⋯ & 0 & 1 & 0 & 2 & 0 & 22 & 0 & 0 & 0 & 0\\\\\n\t89 & NBA & Coty Clarke      & BOS & NA & 4 &  8 & 2 &  4 & 2 & 2 & ⋯ & 0 & 1 & 0 & 0 & 0 &  6 & 0 & 0 & 0 & 0\\\\\n\t23 & NBA & Keith Appling    & ORL & PG & 5 & 27 & 2 &  8 & 0 & 3 & ⋯ & 1 & 3 & 0 & 5 & 0 &  6 & 0 & 0 & 0 & 0\\\\\n\t180 & NBA & Justin Harper    & DET & PF & 5 & 35 & 4 & 10 & 4 & 9 & ⋯ & 1 & 2 & 0 & 3 & 0 & 13 & 0 & 0 & 0 & 0\\\\\n\t184 & NBA & Joe Harris       & CLE & SG & 5 & 15 & 1 &  4 & 1 & 4 & ⋯ & 0 & 1 & 0 & 1 & 0 &  3 & 0 & 0 & 0 & 0\\\\\n\t211 & NBA & Josh Huestis     & OKL & SF & 5 & 55 & 5 & 12 & 4 & 6 & ⋯ & 1 & 3 & 2 & 3 & 0 & 14 & 0 & 0 & 0 & 0\\\\\n\t270 & NBA & Kevon Looney     & GSW & SF & 5 & 21 & 4 &  7 & 1 & 2 & ⋯ & 0 & 1 & 0 & 2 & 0 &  9 & 0 & 0 & 0 & 0\\\\\n\t309 & NBA & Nazr Mohammed    & OKL & C  & 5 & 20 & 3 &  5 & 0 & 0 & ⋯ & 0 & 3 & 0 & 4 & 0 &  8 & 0 & 0 & 0 & 0\\\\\n\t461 & NBA & Elliot Williams  & MEM & SG & 5 & 46 & 2 & 10 & 1 & 4 & ⋯ & 1 & 1 & 0 & 2 & 0 &  8 & 0 & 0 & 0 & 0\\\\\n\t75 & NBA & Bruno Caboclo    & TOR & SF & 6 & 43 & 1 & 12 & 1 & 7 & ⋯ & 2 & 4 & 1 & 2 & 0 &  3 & 0 & 0 & 0 & 1\\\\\n\t110 & NBA & Branden Dawson   & LAC & SF & 6 & 28 & 2 &  5 & 0 & 0 & ⋯ & 0 & 0 & 1 & 2 & 0 &  5 & 0 & 0 & 0 & 0\\\\\n\\end{tabular}\n",
            "text/markdown": "\nA data.frame: 20 × 25\n\n| <!--/--> | League &lt;fct&gt; | Name &lt;chr&gt; | Team &lt;fct&gt; | Position &lt;fct&gt; | GamesPlayed &lt;int&gt; | TotalMinutesPlayed &lt;int&gt; | FieldGoalsMade &lt;int&gt; | FieldGoalsAttempted &lt;int&gt; | ThreesMade &lt;int&gt; | ThreesAttempted &lt;int&gt; | ⋯ ⋯ | Steals &lt;int&gt; | Turnovers &lt;int&gt; | Blocks &lt;int&gt; | PersonalFouls &lt;int&gt; | Disqualifications &lt;int&gt; | TotalPoints &lt;int&gt; | Technicals &lt;int&gt; | Ejections &lt;int&gt; | FlagrantFouls &lt;int&gt; | GamesStarted &lt;int&gt; |\n|---|---|---|---|---|---|---|---|---|---|---|---|---|---|---|---|---|---|---|---|---|---|\n| 87 | NBA | Rakeem Christmas | IND | PF | 1 |  6 | 2 |  2 | 0 | 0 | ⋯ | 0 | 0 | 0 | 1 | 0 |  4 | 0 | 0 | 0 | 0 |\n| 124 | NBA | Duje Dukan       | SAC | PF | 1 | 24 | 2 | 10 | 2 | 5 | ⋯ | 1 | 0 | 0 | 2 | 0 |  6 | 0 | 0 | 0 | 0 |\n| 238 | NBA | Dahntay Jones    | CLE | SG | 1 | 42 | 6 | 14 | 1 | 2 | ⋯ | 1 | 0 | 2 | 6 | 1 | 13 | 0 | 0 | 0 | 0 |\n| 335 | NBA | J.j. O'brien     | UTA | SF | 1 |  2 | 0 |  1 | 0 | 0 | ⋯ | 0 | 0 | 0 | 0 | 0 |  0 | 0 | 0 | 0 | 0 |\n| 2 | NBA | Jordan Adams     | MEM | SG | 2 | 15 | 2 |  6 | 0 | 1 | ⋯ | 3 | 2 | 0 | 2 | 0 |  7 | 0 | 0 | 0 | 0 |\n| 189 | NBA | Chuck Hayes      | HOU | PF | 2 | 24 | 1 |  2 | 0 | 0 | ⋯ | 0 | 3 | 0 | 6 | 0 |  4 | 0 | 0 | 0 | 0 |\n| 377 | NBA | Nate Robinson    | NOR | PG | 2 | 23 | 0 |  1 | 0 | 1 | ⋯ | 1 | 0 | 0 | 5 | 0 |  0 | 0 | 0 | 0 | 1 |\n| 20 | NBA | Th Antetokounmpo | NYK | SF | 3 |  7 | 3 |  4 | 0 | 1 | ⋯ | 0 | 0 | 0 | 2 | 0 |  6 | 0 | 0 | 0 | 0 |\n| 113 | NBA | Sam Dekker       | HOU | SF | 3 |  7 | 0 |  0 | 0 | 0 | ⋯ | 1 | 0 | 0 | 0 | 0 |  0 | 0 | 0 | 0 | 0 |\n| 298 | NBA | Jodie Meeks      | DET | SG | 3 | 44 | 7 | 20 | 4 | 9 | ⋯ | 0 | 1 | 0 | 2 | 0 | 22 | 0 | 0 | 0 | 0 |\n| 89 | NBA | Coty Clarke      | BOS | NA | 4 |  8 | 2 |  4 | 2 | 2 | ⋯ | 0 | 1 | 0 | 0 | 0 |  6 | 0 | 0 | 0 | 0 |\n| 23 | NBA | Keith Appling    | ORL | PG | 5 | 27 | 2 |  8 | 0 | 3 | ⋯ | 1 | 3 | 0 | 5 | 0 |  6 | 0 | 0 | 0 | 0 |\n| 180 | NBA | Justin Harper    | DET | PF | 5 | 35 | 4 | 10 | 4 | 9 | ⋯ | 1 | 2 | 0 | 3 | 0 | 13 | 0 | 0 | 0 | 0 |\n| 184 | NBA | Joe Harris       | CLE | SG | 5 | 15 | 1 |  4 | 1 | 4 | ⋯ | 0 | 1 | 0 | 1 | 0 |  3 | 0 | 0 | 0 | 0 |\n| 211 | NBA | Josh Huestis     | OKL | SF | 5 | 55 | 5 | 12 | 4 | 6 | ⋯ | 1 | 3 | 2 | 3 | 0 | 14 | 0 | 0 | 0 | 0 |\n| 270 | NBA | Kevon Looney     | GSW | SF | 5 | 21 | 4 |  7 | 1 | 2 | ⋯ | 0 | 1 | 0 | 2 | 0 |  9 | 0 | 0 | 0 | 0 |\n| 309 | NBA | Nazr Mohammed    | OKL | C  | 5 | 20 | 3 |  5 | 0 | 0 | ⋯ | 0 | 3 | 0 | 4 | 0 |  8 | 0 | 0 | 0 | 0 |\n| 461 | NBA | Elliot Williams  | MEM | SG | 5 | 46 | 2 | 10 | 1 | 4 | ⋯ | 1 | 1 | 0 | 2 | 0 |  8 | 0 | 0 | 0 | 0 |\n| 75 | NBA | Bruno Caboclo    | TOR | SF | 6 | 43 | 1 | 12 | 1 | 7 | ⋯ | 2 | 4 | 1 | 2 | 0 |  3 | 0 | 0 | 0 | 1 |\n| 110 | NBA | Branden Dawson   | LAC | SF | 6 | 28 | 2 |  5 | 0 | 0 | ⋯ | 0 | 0 | 1 | 2 | 0 |  5 | 0 | 0 | 0 | 0 |\n\n",
            "text/html": [
              "<table>\n",
              "<caption>A data.frame: 20 × 25</caption>\n",
              "<thead>\n",
              "\t<tr><th></th><th scope=col>League</th><th scope=col>Name</th><th scope=col>Team</th><th scope=col>Position</th><th scope=col>GamesPlayed</th><th scope=col>TotalMinutesPlayed</th><th scope=col>FieldGoalsMade</th><th scope=col>FieldGoalsAttempted</th><th scope=col>ThreesMade</th><th scope=col>ThreesAttempted</th><th scope=col>⋯</th><th scope=col>Steals</th><th scope=col>Turnovers</th><th scope=col>Blocks</th><th scope=col>PersonalFouls</th><th scope=col>Disqualifications</th><th scope=col>TotalPoints</th><th scope=col>Technicals</th><th scope=col>Ejections</th><th scope=col>FlagrantFouls</th><th scope=col>GamesStarted</th></tr>\n",
              "\t<tr><th></th><th scope=col>&lt;fct&gt;</th><th scope=col>&lt;chr&gt;</th><th scope=col>&lt;fct&gt;</th><th scope=col>&lt;fct&gt;</th><th scope=col>&lt;int&gt;</th><th scope=col>&lt;int&gt;</th><th scope=col>&lt;int&gt;</th><th scope=col>&lt;int&gt;</th><th scope=col>&lt;int&gt;</th><th scope=col>&lt;int&gt;</th><th scope=col>⋯</th><th scope=col>&lt;int&gt;</th><th scope=col>&lt;int&gt;</th><th scope=col>&lt;int&gt;</th><th scope=col>&lt;int&gt;</th><th scope=col>&lt;int&gt;</th><th scope=col>&lt;int&gt;</th><th scope=col>&lt;int&gt;</th><th scope=col>&lt;int&gt;</th><th scope=col>&lt;int&gt;</th><th scope=col>&lt;int&gt;</th></tr>\n",
              "</thead>\n",
              "<tbody>\n",
              "\t<tr><th scope=row>87</th><td>NBA</td><td>Rakeem Christmas</td><td>IND</td><td>PF</td><td>1</td><td> 6</td><td>2</td><td> 2</td><td>0</td><td>0</td><td>⋯</td><td>0</td><td>0</td><td>0</td><td>1</td><td>0</td><td> 4</td><td>0</td><td>0</td><td>0</td><td>0</td></tr>\n",
              "\t<tr><th scope=row>124</th><td>NBA</td><td>Duje Dukan      </td><td>SAC</td><td>PF</td><td>1</td><td>24</td><td>2</td><td>10</td><td>2</td><td>5</td><td>⋯</td><td>1</td><td>0</td><td>0</td><td>2</td><td>0</td><td> 6</td><td>0</td><td>0</td><td>0</td><td>0</td></tr>\n",
              "\t<tr><th scope=row>238</th><td>NBA</td><td>Dahntay Jones   </td><td>CLE</td><td>SG</td><td>1</td><td>42</td><td>6</td><td>14</td><td>1</td><td>2</td><td>⋯</td><td>1</td><td>0</td><td>2</td><td>6</td><td>1</td><td>13</td><td>0</td><td>0</td><td>0</td><td>0</td></tr>\n",
              "\t<tr><th scope=row>335</th><td>NBA</td><td>J.j. O'brien    </td><td>UTA</td><td>SF</td><td>1</td><td> 2</td><td>0</td><td> 1</td><td>0</td><td>0</td><td>⋯</td><td>0</td><td>0</td><td>0</td><td>0</td><td>0</td><td> 0</td><td>0</td><td>0</td><td>0</td><td>0</td></tr>\n",
              "\t<tr><th scope=row>2</th><td>NBA</td><td>Jordan Adams    </td><td>MEM</td><td>SG</td><td>2</td><td>15</td><td>2</td><td> 6</td><td>0</td><td>1</td><td>⋯</td><td>3</td><td>2</td><td>0</td><td>2</td><td>0</td><td> 7</td><td>0</td><td>0</td><td>0</td><td>0</td></tr>\n",
              "\t<tr><th scope=row>189</th><td>NBA</td><td>Chuck Hayes     </td><td>HOU</td><td>PF</td><td>2</td><td>24</td><td>1</td><td> 2</td><td>0</td><td>0</td><td>⋯</td><td>0</td><td>3</td><td>0</td><td>6</td><td>0</td><td> 4</td><td>0</td><td>0</td><td>0</td><td>0</td></tr>\n",
              "\t<tr><th scope=row>377</th><td>NBA</td><td>Nate Robinson   </td><td>NOR</td><td>PG</td><td>2</td><td>23</td><td>0</td><td> 1</td><td>0</td><td>1</td><td>⋯</td><td>1</td><td>0</td><td>0</td><td>5</td><td>0</td><td> 0</td><td>0</td><td>0</td><td>0</td><td>1</td></tr>\n",
              "\t<tr><th scope=row>20</th><td>NBA</td><td>Th Antetokounmpo</td><td>NYK</td><td>SF</td><td>3</td><td> 7</td><td>3</td><td> 4</td><td>0</td><td>1</td><td>⋯</td><td>0</td><td>0</td><td>0</td><td>2</td><td>0</td><td> 6</td><td>0</td><td>0</td><td>0</td><td>0</td></tr>\n",
              "\t<tr><th scope=row>113</th><td>NBA</td><td>Sam Dekker      </td><td>HOU</td><td>SF</td><td>3</td><td> 7</td><td>0</td><td> 0</td><td>0</td><td>0</td><td>⋯</td><td>1</td><td>0</td><td>0</td><td>0</td><td>0</td><td> 0</td><td>0</td><td>0</td><td>0</td><td>0</td></tr>\n",
              "\t<tr><th scope=row>298</th><td>NBA</td><td>Jodie Meeks     </td><td>DET</td><td>SG</td><td>3</td><td>44</td><td>7</td><td>20</td><td>4</td><td>9</td><td>⋯</td><td>0</td><td>1</td><td>0</td><td>2</td><td>0</td><td>22</td><td>0</td><td>0</td><td>0</td><td>0</td></tr>\n",
              "\t<tr><th scope=row>89</th><td>NBA</td><td>Coty Clarke     </td><td>BOS</td><td>NA</td><td>4</td><td> 8</td><td>2</td><td> 4</td><td>2</td><td>2</td><td>⋯</td><td>0</td><td>1</td><td>0</td><td>0</td><td>0</td><td> 6</td><td>0</td><td>0</td><td>0</td><td>0</td></tr>\n",
              "\t<tr><th scope=row>23</th><td>NBA</td><td>Keith Appling   </td><td>ORL</td><td>PG</td><td>5</td><td>27</td><td>2</td><td> 8</td><td>0</td><td>3</td><td>⋯</td><td>1</td><td>3</td><td>0</td><td>5</td><td>0</td><td> 6</td><td>0</td><td>0</td><td>0</td><td>0</td></tr>\n",
              "\t<tr><th scope=row>180</th><td>NBA</td><td>Justin Harper   </td><td>DET</td><td>PF</td><td>5</td><td>35</td><td>4</td><td>10</td><td>4</td><td>9</td><td>⋯</td><td>1</td><td>2</td><td>0</td><td>3</td><td>0</td><td>13</td><td>0</td><td>0</td><td>0</td><td>0</td></tr>\n",
              "\t<tr><th scope=row>184</th><td>NBA</td><td>Joe Harris      </td><td>CLE</td><td>SG</td><td>5</td><td>15</td><td>1</td><td> 4</td><td>1</td><td>4</td><td>⋯</td><td>0</td><td>1</td><td>0</td><td>1</td><td>0</td><td> 3</td><td>0</td><td>0</td><td>0</td><td>0</td></tr>\n",
              "\t<tr><th scope=row>211</th><td>NBA</td><td>Josh Huestis    </td><td>OKL</td><td>SF</td><td>5</td><td>55</td><td>5</td><td>12</td><td>4</td><td>6</td><td>⋯</td><td>1</td><td>3</td><td>2</td><td>3</td><td>0</td><td>14</td><td>0</td><td>0</td><td>0</td><td>0</td></tr>\n",
              "\t<tr><th scope=row>270</th><td>NBA</td><td>Kevon Looney    </td><td>GSW</td><td>SF</td><td>5</td><td>21</td><td>4</td><td> 7</td><td>1</td><td>2</td><td>⋯</td><td>0</td><td>1</td><td>0</td><td>2</td><td>0</td><td> 9</td><td>0</td><td>0</td><td>0</td><td>0</td></tr>\n",
              "\t<tr><th scope=row>309</th><td>NBA</td><td>Nazr Mohammed   </td><td>OKL</td><td>C </td><td>5</td><td>20</td><td>3</td><td> 5</td><td>0</td><td>0</td><td>⋯</td><td>0</td><td>3</td><td>0</td><td>4</td><td>0</td><td> 8</td><td>0</td><td>0</td><td>0</td><td>0</td></tr>\n",
              "\t<tr><th scope=row>461</th><td>NBA</td><td>Elliot Williams </td><td>MEM</td><td>SG</td><td>5</td><td>46</td><td>2</td><td>10</td><td>1</td><td>4</td><td>⋯</td><td>1</td><td>1</td><td>0</td><td>2</td><td>0</td><td> 8</td><td>0</td><td>0</td><td>0</td><td>0</td></tr>\n",
              "\t<tr><th scope=row>75</th><td>NBA</td><td>Bruno Caboclo   </td><td>TOR</td><td>SF</td><td>6</td><td>43</td><td>1</td><td>12</td><td>1</td><td>7</td><td>⋯</td><td>2</td><td>4</td><td>1</td><td>2</td><td>0</td><td> 3</td><td>0</td><td>0</td><td>0</td><td>1</td></tr>\n",
              "\t<tr><th scope=row>110</th><td>NBA</td><td>Branden Dawson  </td><td>LAC</td><td>SF</td><td>6</td><td>28</td><td>2</td><td> 5</td><td>0</td><td>0</td><td>⋯</td><td>0</td><td>0</td><td>1</td><td>2</td><td>0</td><td> 5</td><td>0</td><td>0</td><td>0</td><td>0</td></tr>\n",
              "</tbody>\n",
              "</table>\n"
            ]
          },
          "metadata": {
            "tags": []
          }
        }
      ]
    },
    {
      "cell_type": "code",
      "metadata": {
        "id": "Jo3umfusnkZ4",
        "outputId": "d6116855-b0d2-461b-91fb-a6e0c5dcb3ba",
        "colab": {
          "base_uri": "https://localhost:8080/",
          "height": 620
        }
      },
      "source": [
        "NBA1516OrderM <- NBA1516[order(NBA1516$TotalMinutesPlayed,decreasing = T),]\n",
        "NBA1516OrderM[1:20,]"
      ],
      "execution_count": 39,
      "outputs": [
        {
          "output_type": "display_data",
          "data": {
            "text/plain": [
              "    League Name             Team Position GamesPlayed TotalMinutesPlayed\n",
              "178 NBA    James Harden     HOU  SG       82          3121              \n",
              "190 NBA    Gordon Hayward   UTA  SG       80          2889              \n",
              "446 NBA    Kemba Walker     CHA  PG       81          2885              \n",
              "24  NBA    Trevor Ariza     HOU  SF       81          2860              \n",
              "301 NBA    Khris Middleton  MIL  SF       79          2855              \n",
              "274 NBA    Kyle Lowry       TOR  PG       77          2853              \n",
              "314 NBA    Marcus Morris    DET  SF       80          2852              \n",
              "456 NBA    Andrew Wiggins   MIN  SF       81          2844              \n",
              "154 NBA    Paul George      IND  SF       81          2828              \n",
              "19  NBA    Gi Antetokounmpo MIL  SF       80          2825              \n",
              "167 NBA    Draymond Green   GSW  SF       81          2807              \n",
              "116 NBA    Demar Derozan    TOR  SG       78          2804              \n",
              "77  NBA    Ke Caldwell-pope DET  SG       76          2789              \n",
              "447 NBA    John Wall        WAS  PG       77          2783              \n",
              "288 NBA    C.j. Mccollum    POR  SG       80          2776              \n",
              "453 NBA    Russel Westbrook OKL  PG       80          2749              \n",
              "131 NBA    Monta Ellis      IND  PG       81          2733              \n",
              "222 NBA    Lebron James     CLE  SF       76          2710              \n",
              "106 NBA    Stephen Curry    GSW  PG       79          2705              \n",
              "232 NBA    Joe Johnson      MIA  SF       81          2703              \n",
              "    FieldGoalsMade FieldGoalsAttempted ThreesMade ThreesAttempted ⋯ Steals\n",
              "178 710            1617                236        656             ⋯ 138   \n",
              "190 521            1202                143        410             ⋯  95   \n",
              "446 568            1332                182        490             ⋯ 127   \n",
              "24  357             858                185        497             ⋯ 161   \n",
              "301 507            1144                143        362             ⋯ 131   \n",
              "274 512            1198                212        546             ⋯ 158   \n",
              "314 410             945                108        297             ⋯  67   \n",
              "456 594            1294                 57        190             ⋯  78   \n",
              "154 605            1448                210        565             ⋯ 152   \n",
              "19  513            1012                 28        110             ⋯  94   \n",
              "167 401             819                100        258             ⋯ 118   \n",
              "116 614            1377                 47        139             ⋯  82   \n",
              "77  403             960                114        368             ⋯ 110   \n",
              "447 572            1349                115        327             ⋯ 145   \n",
              "288 641            1432                197        473             ⋯  97   \n",
              "453 656            1444                101        341             ⋯ 163   \n",
              "131 436            1021                 87        281             ⋯ 149   \n",
              "222 737            1416                 87        282             ⋯ 104   \n",
              "106 805            1597                402        887             ⋯ 169   \n",
              "232 377             859                120        313             ⋯  61   \n",
              "    Turnovers Blocks PersonalFouls Disqualifications TotalPoints Technicals\n",
              "178 374        51    229           1                 2376         2        \n",
              "190 202        27    183           0                 1578         0        \n",
              "446 171        39    111           0                 1689         5        \n",
              "24  113        26    177           0                 1025         2        \n",
              "301 180        19    204           1                 1434         5        \n",
              "274 225        34    211           1                 1634         9        \n",
              "314 140        23    170           1                 1131        11        \n",
              "456 182        46    165           1                 1675         1        \n",
              "154 265        29    230           1                 1874         6        \n",
              "19  208       113    258           7                 1350         1        \n",
              "167 259       111    240           2                 1131        11        \n",
              "116 174        21    167           0                 1830         2        \n",
              "77  105        17    167           0                 1105         3        \n",
              "447 318        59    159           0                 1531         7        \n",
              "288 196        24    187           0                 1666         0        \n",
              "453 342        20    200           2                 1878         6        \n",
              "131 203        38    174           0                 1121         1        \n",
              "222 249        49    143           0                 1920         3        \n",
              "106 261        16    161           0                 2375         1        \n",
              "232 160         4    146           0                  992         1        \n",
              "    Ejections FlagrantFouls GamesStarted\n",
              "178 0         0             82          \n",
              "190 0         0             80          \n",
              "446 0         0             81          \n",
              "24  0         0             81          \n",
              "301 0         0             79          \n",
              "274 0         0             77          \n",
              "314 0         0             80          \n",
              "456 0         0             81          \n",
              "154 0         0             81          \n",
              "19  0         0             79          \n",
              "167 0         0             81          \n",
              "116 0         0             78          \n",
              "77  0         0             76          \n",
              "447 0         0             77          \n",
              "288 0         0             80          \n",
              "453 0         0             80          \n",
              "131 0         0             81          \n",
              "222 0         0             76          \n",
              "106 0         0             79          \n",
              "232 0         0             81          "
            ],
            "text/latex": "A data.frame: 20 × 25\n\\begin{tabular}{r|lllllllllllllllllllll}\n  & League & Name & Team & Position & GamesPlayed & TotalMinutesPlayed & FieldGoalsMade & FieldGoalsAttempted & ThreesMade & ThreesAttempted & ⋯ & Steals & Turnovers & Blocks & PersonalFouls & Disqualifications & TotalPoints & Technicals & Ejections & FlagrantFouls & GamesStarted\\\\\n  & <fct> & <chr> & <fct> & <fct> & <int> & <int> & <int> & <int> & <int> & <int> & ⋯ & <int> & <int> & <int> & <int> & <int> & <int> & <int> & <int> & <int> & <int>\\\\\n\\hline\n\t178 & NBA & James Harden     & HOU & SG & 82 & 3121 & 710 & 1617 & 236 & 656 & ⋯ & 138 & 374 &  51 & 229 & 1 & 2376 &  2 & 0 & 0 & 82\\\\\n\t190 & NBA & Gordon Hayward   & UTA & SG & 80 & 2889 & 521 & 1202 & 143 & 410 & ⋯ &  95 & 202 &  27 & 183 & 0 & 1578 &  0 & 0 & 0 & 80\\\\\n\t446 & NBA & Kemba Walker     & CHA & PG & 81 & 2885 & 568 & 1332 & 182 & 490 & ⋯ & 127 & 171 &  39 & 111 & 0 & 1689 &  5 & 0 & 0 & 81\\\\\n\t24 & NBA & Trevor Ariza     & HOU & SF & 81 & 2860 & 357 &  858 & 185 & 497 & ⋯ & 161 & 113 &  26 & 177 & 0 & 1025 &  2 & 0 & 0 & 81\\\\\n\t301 & NBA & Khris Middleton  & MIL & SF & 79 & 2855 & 507 & 1144 & 143 & 362 & ⋯ & 131 & 180 &  19 & 204 & 1 & 1434 &  5 & 0 & 0 & 79\\\\\n\t274 & NBA & Kyle Lowry       & TOR & PG & 77 & 2853 & 512 & 1198 & 212 & 546 & ⋯ & 158 & 225 &  34 & 211 & 1 & 1634 &  9 & 0 & 0 & 77\\\\\n\t314 & NBA & Marcus Morris    & DET & SF & 80 & 2852 & 410 &  945 & 108 & 297 & ⋯ &  67 & 140 &  23 & 170 & 1 & 1131 & 11 & 0 & 0 & 80\\\\\n\t456 & NBA & Andrew Wiggins   & MIN & SF & 81 & 2844 & 594 & 1294 &  57 & 190 & ⋯ &  78 & 182 &  46 & 165 & 1 & 1675 &  1 & 0 & 0 & 81\\\\\n\t154 & NBA & Paul George      & IND & SF & 81 & 2828 & 605 & 1448 & 210 & 565 & ⋯ & 152 & 265 &  29 & 230 & 1 & 1874 &  6 & 0 & 0 & 81\\\\\n\t19 & NBA & Gi Antetokounmpo & MIL & SF & 80 & 2825 & 513 & 1012 &  28 & 110 & ⋯ &  94 & 208 & 113 & 258 & 7 & 1350 &  1 & 0 & 0 & 79\\\\\n\t167 & NBA & Draymond Green   & GSW & SF & 81 & 2807 & 401 &  819 & 100 & 258 & ⋯ & 118 & 259 & 111 & 240 & 2 & 1131 & 11 & 0 & 0 & 81\\\\\n\t116 & NBA & Demar Derozan    & TOR & SG & 78 & 2804 & 614 & 1377 &  47 & 139 & ⋯ &  82 & 174 &  21 & 167 & 0 & 1830 &  2 & 0 & 0 & 78\\\\\n\t77 & NBA & Ke Caldwell-pope & DET & SG & 76 & 2789 & 403 &  960 & 114 & 368 & ⋯ & 110 & 105 &  17 & 167 & 0 & 1105 &  3 & 0 & 0 & 76\\\\\n\t447 & NBA & John Wall        & WAS & PG & 77 & 2783 & 572 & 1349 & 115 & 327 & ⋯ & 145 & 318 &  59 & 159 & 0 & 1531 &  7 & 0 & 0 & 77\\\\\n\t288 & NBA & C.j. Mccollum    & POR & SG & 80 & 2776 & 641 & 1432 & 197 & 473 & ⋯ &  97 & 196 &  24 & 187 & 0 & 1666 &  0 & 0 & 0 & 80\\\\\n\t453 & NBA & Russel Westbrook & OKL & PG & 80 & 2749 & 656 & 1444 & 101 & 341 & ⋯ & 163 & 342 &  20 & 200 & 2 & 1878 &  6 & 0 & 0 & 80\\\\\n\t131 & NBA & Monta Ellis      & IND & PG & 81 & 2733 & 436 & 1021 &  87 & 281 & ⋯ & 149 & 203 &  38 & 174 & 0 & 1121 &  1 & 0 & 0 & 81\\\\\n\t222 & NBA & Lebron James     & CLE & SF & 76 & 2710 & 737 & 1416 &  87 & 282 & ⋯ & 104 & 249 &  49 & 143 & 0 & 1920 &  3 & 0 & 0 & 76\\\\\n\t106 & NBA & Stephen Curry    & GSW & PG & 79 & 2705 & 805 & 1597 & 402 & 887 & ⋯ & 169 & 261 &  16 & 161 & 0 & 2375 &  1 & 0 & 0 & 79\\\\\n\t232 & NBA & Joe Johnson      & MIA & SF & 81 & 2703 & 377 &  859 & 120 & 313 & ⋯ &  61 & 160 &   4 & 146 & 0 &  992 &  1 & 0 & 0 & 81\\\\\n\\end{tabular}\n",
            "text/markdown": "\nA data.frame: 20 × 25\n\n| <!--/--> | League &lt;fct&gt; | Name &lt;chr&gt; | Team &lt;fct&gt; | Position &lt;fct&gt; | GamesPlayed &lt;int&gt; | TotalMinutesPlayed &lt;int&gt; | FieldGoalsMade &lt;int&gt; | FieldGoalsAttempted &lt;int&gt; | ThreesMade &lt;int&gt; | ThreesAttempted &lt;int&gt; | ⋯ ⋯ | Steals &lt;int&gt; | Turnovers &lt;int&gt; | Blocks &lt;int&gt; | PersonalFouls &lt;int&gt; | Disqualifications &lt;int&gt; | TotalPoints &lt;int&gt; | Technicals &lt;int&gt; | Ejections &lt;int&gt; | FlagrantFouls &lt;int&gt; | GamesStarted &lt;int&gt; |\n|---|---|---|---|---|---|---|---|---|---|---|---|---|---|---|---|---|---|---|---|---|---|\n| 178 | NBA | James Harden     | HOU | SG | 82 | 3121 | 710 | 1617 | 236 | 656 | ⋯ | 138 | 374 |  51 | 229 | 1 | 2376 |  2 | 0 | 0 | 82 |\n| 190 | NBA | Gordon Hayward   | UTA | SG | 80 | 2889 | 521 | 1202 | 143 | 410 | ⋯ |  95 | 202 |  27 | 183 | 0 | 1578 |  0 | 0 | 0 | 80 |\n| 446 | NBA | Kemba Walker     | CHA | PG | 81 | 2885 | 568 | 1332 | 182 | 490 | ⋯ | 127 | 171 |  39 | 111 | 0 | 1689 |  5 | 0 | 0 | 81 |\n| 24 | NBA | Trevor Ariza     | HOU | SF | 81 | 2860 | 357 |  858 | 185 | 497 | ⋯ | 161 | 113 |  26 | 177 | 0 | 1025 |  2 | 0 | 0 | 81 |\n| 301 | NBA | Khris Middleton  | MIL | SF | 79 | 2855 | 507 | 1144 | 143 | 362 | ⋯ | 131 | 180 |  19 | 204 | 1 | 1434 |  5 | 0 | 0 | 79 |\n| 274 | NBA | Kyle Lowry       | TOR | PG | 77 | 2853 | 512 | 1198 | 212 | 546 | ⋯ | 158 | 225 |  34 | 211 | 1 | 1634 |  9 | 0 | 0 | 77 |\n| 314 | NBA | Marcus Morris    | DET | SF | 80 | 2852 | 410 |  945 | 108 | 297 | ⋯ |  67 | 140 |  23 | 170 | 1 | 1131 | 11 | 0 | 0 | 80 |\n| 456 | NBA | Andrew Wiggins   | MIN | SF | 81 | 2844 | 594 | 1294 |  57 | 190 | ⋯ |  78 | 182 |  46 | 165 | 1 | 1675 |  1 | 0 | 0 | 81 |\n| 154 | NBA | Paul George      | IND | SF | 81 | 2828 | 605 | 1448 | 210 | 565 | ⋯ | 152 | 265 |  29 | 230 | 1 | 1874 |  6 | 0 | 0 | 81 |\n| 19 | NBA | Gi Antetokounmpo | MIL | SF | 80 | 2825 | 513 | 1012 |  28 | 110 | ⋯ |  94 | 208 | 113 | 258 | 7 | 1350 |  1 | 0 | 0 | 79 |\n| 167 | NBA | Draymond Green   | GSW | SF | 81 | 2807 | 401 |  819 | 100 | 258 | ⋯ | 118 | 259 | 111 | 240 | 2 | 1131 | 11 | 0 | 0 | 81 |\n| 116 | NBA | Demar Derozan    | TOR | SG | 78 | 2804 | 614 | 1377 |  47 | 139 | ⋯ |  82 | 174 |  21 | 167 | 0 | 1830 |  2 | 0 | 0 | 78 |\n| 77 | NBA | Ke Caldwell-pope | DET | SG | 76 | 2789 | 403 |  960 | 114 | 368 | ⋯ | 110 | 105 |  17 | 167 | 0 | 1105 |  3 | 0 | 0 | 76 |\n| 447 | NBA | John Wall        | WAS | PG | 77 | 2783 | 572 | 1349 | 115 | 327 | ⋯ | 145 | 318 |  59 | 159 | 0 | 1531 |  7 | 0 | 0 | 77 |\n| 288 | NBA | C.j. Mccollum    | POR | SG | 80 | 2776 | 641 | 1432 | 197 | 473 | ⋯ |  97 | 196 |  24 | 187 | 0 | 1666 |  0 | 0 | 0 | 80 |\n| 453 | NBA | Russel Westbrook | OKL | PG | 80 | 2749 | 656 | 1444 | 101 | 341 | ⋯ | 163 | 342 |  20 | 200 | 2 | 1878 |  6 | 0 | 0 | 80 |\n| 131 | NBA | Monta Ellis      | IND | PG | 81 | 2733 | 436 | 1021 |  87 | 281 | ⋯ | 149 | 203 |  38 | 174 | 0 | 1121 |  1 | 0 | 0 | 81 |\n| 222 | NBA | Lebron James     | CLE | SF | 76 | 2710 | 737 | 1416 |  87 | 282 | ⋯ | 104 | 249 |  49 | 143 | 0 | 1920 |  3 | 0 | 0 | 76 |\n| 106 | NBA | Stephen Curry    | GSW | PG | 79 | 2705 | 805 | 1597 | 402 | 887 | ⋯ | 169 | 261 |  16 | 161 | 0 | 2375 |  1 | 0 | 0 | 79 |\n| 232 | NBA | Joe Johnson      | MIA | SF | 81 | 2703 | 377 |  859 | 120 | 313 | ⋯ |  61 | 160 |   4 | 146 | 0 |  992 |  1 | 0 | 0 | 81 |\n\n",
            "text/html": [
              "<table>\n",
              "<caption>A data.frame: 20 × 25</caption>\n",
              "<thead>\n",
              "\t<tr><th></th><th scope=col>League</th><th scope=col>Name</th><th scope=col>Team</th><th scope=col>Position</th><th scope=col>GamesPlayed</th><th scope=col>TotalMinutesPlayed</th><th scope=col>FieldGoalsMade</th><th scope=col>FieldGoalsAttempted</th><th scope=col>ThreesMade</th><th scope=col>ThreesAttempted</th><th scope=col>⋯</th><th scope=col>Steals</th><th scope=col>Turnovers</th><th scope=col>Blocks</th><th scope=col>PersonalFouls</th><th scope=col>Disqualifications</th><th scope=col>TotalPoints</th><th scope=col>Technicals</th><th scope=col>Ejections</th><th scope=col>FlagrantFouls</th><th scope=col>GamesStarted</th></tr>\n",
              "\t<tr><th></th><th scope=col>&lt;fct&gt;</th><th scope=col>&lt;chr&gt;</th><th scope=col>&lt;fct&gt;</th><th scope=col>&lt;fct&gt;</th><th scope=col>&lt;int&gt;</th><th scope=col>&lt;int&gt;</th><th scope=col>&lt;int&gt;</th><th scope=col>&lt;int&gt;</th><th scope=col>&lt;int&gt;</th><th scope=col>&lt;int&gt;</th><th scope=col>⋯</th><th scope=col>&lt;int&gt;</th><th scope=col>&lt;int&gt;</th><th scope=col>&lt;int&gt;</th><th scope=col>&lt;int&gt;</th><th scope=col>&lt;int&gt;</th><th scope=col>&lt;int&gt;</th><th scope=col>&lt;int&gt;</th><th scope=col>&lt;int&gt;</th><th scope=col>&lt;int&gt;</th><th scope=col>&lt;int&gt;</th></tr>\n",
              "</thead>\n",
              "<tbody>\n",
              "\t<tr><th scope=row>178</th><td>NBA</td><td>James Harden    </td><td>HOU</td><td>SG</td><td>82</td><td>3121</td><td>710</td><td>1617</td><td>236</td><td>656</td><td>⋯</td><td>138</td><td>374</td><td> 51</td><td>229</td><td>1</td><td>2376</td><td> 2</td><td>0</td><td>0</td><td>82</td></tr>\n",
              "\t<tr><th scope=row>190</th><td>NBA</td><td>Gordon Hayward  </td><td>UTA</td><td>SG</td><td>80</td><td>2889</td><td>521</td><td>1202</td><td>143</td><td>410</td><td>⋯</td><td> 95</td><td>202</td><td> 27</td><td>183</td><td>0</td><td>1578</td><td> 0</td><td>0</td><td>0</td><td>80</td></tr>\n",
              "\t<tr><th scope=row>446</th><td>NBA</td><td>Kemba Walker    </td><td>CHA</td><td>PG</td><td>81</td><td>2885</td><td>568</td><td>1332</td><td>182</td><td>490</td><td>⋯</td><td>127</td><td>171</td><td> 39</td><td>111</td><td>0</td><td>1689</td><td> 5</td><td>0</td><td>0</td><td>81</td></tr>\n",
              "\t<tr><th scope=row>24</th><td>NBA</td><td>Trevor Ariza    </td><td>HOU</td><td>SF</td><td>81</td><td>2860</td><td>357</td><td> 858</td><td>185</td><td>497</td><td>⋯</td><td>161</td><td>113</td><td> 26</td><td>177</td><td>0</td><td>1025</td><td> 2</td><td>0</td><td>0</td><td>81</td></tr>\n",
              "\t<tr><th scope=row>301</th><td>NBA</td><td>Khris Middleton </td><td>MIL</td><td>SF</td><td>79</td><td>2855</td><td>507</td><td>1144</td><td>143</td><td>362</td><td>⋯</td><td>131</td><td>180</td><td> 19</td><td>204</td><td>1</td><td>1434</td><td> 5</td><td>0</td><td>0</td><td>79</td></tr>\n",
              "\t<tr><th scope=row>274</th><td>NBA</td><td>Kyle Lowry      </td><td>TOR</td><td>PG</td><td>77</td><td>2853</td><td>512</td><td>1198</td><td>212</td><td>546</td><td>⋯</td><td>158</td><td>225</td><td> 34</td><td>211</td><td>1</td><td>1634</td><td> 9</td><td>0</td><td>0</td><td>77</td></tr>\n",
              "\t<tr><th scope=row>314</th><td>NBA</td><td>Marcus Morris   </td><td>DET</td><td>SF</td><td>80</td><td>2852</td><td>410</td><td> 945</td><td>108</td><td>297</td><td>⋯</td><td> 67</td><td>140</td><td> 23</td><td>170</td><td>1</td><td>1131</td><td>11</td><td>0</td><td>0</td><td>80</td></tr>\n",
              "\t<tr><th scope=row>456</th><td>NBA</td><td>Andrew Wiggins  </td><td>MIN</td><td>SF</td><td>81</td><td>2844</td><td>594</td><td>1294</td><td> 57</td><td>190</td><td>⋯</td><td> 78</td><td>182</td><td> 46</td><td>165</td><td>1</td><td>1675</td><td> 1</td><td>0</td><td>0</td><td>81</td></tr>\n",
              "\t<tr><th scope=row>154</th><td>NBA</td><td>Paul George     </td><td>IND</td><td>SF</td><td>81</td><td>2828</td><td>605</td><td>1448</td><td>210</td><td>565</td><td>⋯</td><td>152</td><td>265</td><td> 29</td><td>230</td><td>1</td><td>1874</td><td> 6</td><td>0</td><td>0</td><td>81</td></tr>\n",
              "\t<tr><th scope=row>19</th><td>NBA</td><td>Gi Antetokounmpo</td><td>MIL</td><td>SF</td><td>80</td><td>2825</td><td>513</td><td>1012</td><td> 28</td><td>110</td><td>⋯</td><td> 94</td><td>208</td><td>113</td><td>258</td><td>7</td><td>1350</td><td> 1</td><td>0</td><td>0</td><td>79</td></tr>\n",
              "\t<tr><th scope=row>167</th><td>NBA</td><td>Draymond Green  </td><td>GSW</td><td>SF</td><td>81</td><td>2807</td><td>401</td><td> 819</td><td>100</td><td>258</td><td>⋯</td><td>118</td><td>259</td><td>111</td><td>240</td><td>2</td><td>1131</td><td>11</td><td>0</td><td>0</td><td>81</td></tr>\n",
              "\t<tr><th scope=row>116</th><td>NBA</td><td>Demar Derozan   </td><td>TOR</td><td>SG</td><td>78</td><td>2804</td><td>614</td><td>1377</td><td> 47</td><td>139</td><td>⋯</td><td> 82</td><td>174</td><td> 21</td><td>167</td><td>0</td><td>1830</td><td> 2</td><td>0</td><td>0</td><td>78</td></tr>\n",
              "\t<tr><th scope=row>77</th><td>NBA</td><td>Ke Caldwell-pope</td><td>DET</td><td>SG</td><td>76</td><td>2789</td><td>403</td><td> 960</td><td>114</td><td>368</td><td>⋯</td><td>110</td><td>105</td><td> 17</td><td>167</td><td>0</td><td>1105</td><td> 3</td><td>0</td><td>0</td><td>76</td></tr>\n",
              "\t<tr><th scope=row>447</th><td>NBA</td><td>John Wall       </td><td>WAS</td><td>PG</td><td>77</td><td>2783</td><td>572</td><td>1349</td><td>115</td><td>327</td><td>⋯</td><td>145</td><td>318</td><td> 59</td><td>159</td><td>0</td><td>1531</td><td> 7</td><td>0</td><td>0</td><td>77</td></tr>\n",
              "\t<tr><th scope=row>288</th><td>NBA</td><td>C.j. Mccollum   </td><td>POR</td><td>SG</td><td>80</td><td>2776</td><td>641</td><td>1432</td><td>197</td><td>473</td><td>⋯</td><td> 97</td><td>196</td><td> 24</td><td>187</td><td>0</td><td>1666</td><td> 0</td><td>0</td><td>0</td><td>80</td></tr>\n",
              "\t<tr><th scope=row>453</th><td>NBA</td><td>Russel Westbrook</td><td>OKL</td><td>PG</td><td>80</td><td>2749</td><td>656</td><td>1444</td><td>101</td><td>341</td><td>⋯</td><td>163</td><td>342</td><td> 20</td><td>200</td><td>2</td><td>1878</td><td> 6</td><td>0</td><td>0</td><td>80</td></tr>\n",
              "\t<tr><th scope=row>131</th><td>NBA</td><td>Monta Ellis     </td><td>IND</td><td>PG</td><td>81</td><td>2733</td><td>436</td><td>1021</td><td> 87</td><td>281</td><td>⋯</td><td>149</td><td>203</td><td> 38</td><td>174</td><td>0</td><td>1121</td><td> 1</td><td>0</td><td>0</td><td>81</td></tr>\n",
              "\t<tr><th scope=row>222</th><td>NBA</td><td>Lebron James    </td><td>CLE</td><td>SF</td><td>76</td><td>2710</td><td>737</td><td>1416</td><td> 87</td><td>282</td><td>⋯</td><td>104</td><td>249</td><td> 49</td><td>143</td><td>0</td><td>1920</td><td> 3</td><td>0</td><td>0</td><td>76</td></tr>\n",
              "\t<tr><th scope=row>106</th><td>NBA</td><td>Stephen Curry   </td><td>GSW</td><td>PG</td><td>79</td><td>2705</td><td>805</td><td>1597</td><td>402</td><td>887</td><td>⋯</td><td>169</td><td>261</td><td> 16</td><td>161</td><td>0</td><td>2375</td><td> 1</td><td>0</td><td>0</td><td>79</td></tr>\n",
              "\t<tr><th scope=row>232</th><td>NBA</td><td>Joe Johnson     </td><td>MIA</td><td>SF</td><td>81</td><td>2703</td><td>377</td><td> 859</td><td>120</td><td>313</td><td>⋯</td><td> 61</td><td>160</td><td>  4</td><td>146</td><td>0</td><td> 992</td><td> 1</td><td>0</td><td>0</td><td>81</td></tr>\n",
              "</tbody>\n",
              "</table>\n"
            ]
          },
          "metadata": {
            "tags": []
          }
        }
      ]
    },
    {
      "cell_type": "code",
      "metadata": {
        "id": "rjM4SPIhnu0C",
        "outputId": "012aecca-5016-4f07-99eb-7873015eead5",
        "colab": {
          "base_uri": "https://localhost:8080/",
          "height": 620
        }
      },
      "source": [
        "NBA1516OrderM <- NBA1516[order(NBA1516$TotalMinutesPlayed,decreasing = F),]\n",
        "NBA1516OrderM[1:20,]"
      ],
      "execution_count": 40,
      "outputs": [
        {
          "output_type": "display_data",
          "data": {
            "text/plain": [
              "    League Name             Team Position GamesPlayed TotalMinutesPlayed\n",
              "335 NBA    J.j. O'brien     UTA  SF       1            2                \n",
              "87  NBA    Rakeem Christmas IND  PF       1            6                \n",
              "20  NBA    Th Antetokounmpo NYK  SF       3            7                \n",
              "113 NBA    Sam Dekker       HOU  SF       3            7                \n",
              "89  NBA    Coty Clarke      BOS  NA       4            8                \n",
              "2   NBA    Jordan Adams     MEM  SG       2           15                \n",
              "184 NBA    Joe Harris       CLE  SG       5           15                \n",
              "145 NBA    Jimmer Fredette  NYK  PG       6           17                \n",
              "413 NBA    Jarnell Stokes   NOR  C        7           18                \n",
              "309 NBA    Nazr Mohammed    OKL  C        5           20                \n",
              "270 NBA    Kevon Looney     GSW  SF       5           21                \n",
              "377 NBA    Nate Robinson    NOR  PG       2           23                \n",
              "124 NBA    Duje Dukan       SAC  PF       1           24                \n",
              "189 NBA    Chuck Hayes      HOU  PF       2           24                \n",
              "23  NBA    Keith Appling    ORL  PG       5           27                \n",
              "110 NBA    Branden Dawson   LAC  SF       6           28                \n",
              "180 NBA    Justin Harper    DET  PF       5           35                \n",
              "8   NBA    Cliff Alexander  POR  PF       9           37                \n",
              "97  NBA    Bryce Cotton     MEM  PG       8           41                \n",
              "455 NBA    Shay Whittington IND  PF       7           41                \n",
              "    FieldGoalsMade FieldGoalsAttempted ThreesMade ThreesAttempted ⋯ Steals\n",
              "335 0               1                  0          0               ⋯ 0     \n",
              "87  2               2                  0          0               ⋯ 0     \n",
              "20  3               4                  0          1               ⋯ 0     \n",
              "113 0               0                  0          0               ⋯ 1     \n",
              "89  2               4                  2          2               ⋯ 0     \n",
              "2   2               6                  0          1               ⋯ 3     \n",
              "184 1               4                  1          4               ⋯ 0     \n",
              "145 2               5                  1          2               ⋯ 1     \n",
              "413 3               5                  0          0               ⋯ 1     \n",
              "309 3               5                  0          0               ⋯ 0     \n",
              "270 4               7                  1          2               ⋯ 0     \n",
              "377 0               1                  0          1               ⋯ 1     \n",
              "124 2              10                  2          5               ⋯ 1     \n",
              "189 1               2                  0          0               ⋯ 0     \n",
              "23  2               8                  0          3               ⋯ 1     \n",
              "110 2               5                  0          0               ⋯ 0     \n",
              "180 4              10                  4          9               ⋯ 1     \n",
              "8   5              10                  0          0               ⋯ 1     \n",
              "97  4              10                  0          3               ⋯ 3     \n",
              "455 5              11                  0          2               ⋯ 1     \n",
              "    Turnovers Blocks PersonalFouls Disqualifications TotalPoints Technicals\n",
              "335 0         0      0             0                  0          0         \n",
              "87  0         0      1             0                  4          0         \n",
              "20  0         0      2             0                  6          0         \n",
              "113 0         0      0             0                  0          0         \n",
              "89  1         0      0             0                  6          0         \n",
              "2   2         0      2             0                  7          0         \n",
              "184 1         0      1             0                  3          0         \n",
              "145 2         0      2             0                  9          0         \n",
              "413 0         0      1             0                  7          0         \n",
              "309 3         0      4             0                  8          0         \n",
              "270 1         0      2             0                  9          0         \n",
              "377 0         0      5             0                  0          0         \n",
              "124 0         0      2             0                  6          0         \n",
              "189 3         0      6             0                  4          0         \n",
              "23  3         0      5             0                  6          0         \n",
              "110 0         1      2             0                  5          0         \n",
              "180 2         0      3             0                 13          0         \n",
              "8   1         2      1             0                 10          0         \n",
              "97  5         0      2             0                  8          0         \n",
              "455 5         1      7             0                 11          0         \n",
              "    Ejections FlagrantFouls GamesStarted\n",
              "335 0         0             0           \n",
              "87  0         0             0           \n",
              "20  0         0             0           \n",
              "113 0         0             0           \n",
              "89  0         0             0           \n",
              "2   0         0             0           \n",
              "184 0         0             0           \n",
              "145 0         0             0           \n",
              "413 0         0             0           \n",
              "309 0         0             0           \n",
              "270 0         0             0           \n",
              "377 0         0             1           \n",
              "124 0         0             0           \n",
              "189 0         0             0           \n",
              "23  0         0             0           \n",
              "110 0         0             0           \n",
              "180 0         0             0           \n",
              "8   0         0             0           \n",
              "97  0         0             0           \n",
              "455 0         0             0           "
            ],
            "text/latex": "A data.frame: 20 × 25\n\\begin{tabular}{r|lllllllllllllllllllll}\n  & League & Name & Team & Position & GamesPlayed & TotalMinutesPlayed & FieldGoalsMade & FieldGoalsAttempted & ThreesMade & ThreesAttempted & ⋯ & Steals & Turnovers & Blocks & PersonalFouls & Disqualifications & TotalPoints & Technicals & Ejections & FlagrantFouls & GamesStarted\\\\\n  & <fct> & <chr> & <fct> & <fct> & <int> & <int> & <int> & <int> & <int> & <int> & ⋯ & <int> & <int> & <int> & <int> & <int> & <int> & <int> & <int> & <int> & <int>\\\\\n\\hline\n\t335 & NBA & J.j. O'brien     & UTA & SF & 1 &  2 & 0 &  1 & 0 & 0 & ⋯ & 0 & 0 & 0 & 0 & 0 &  0 & 0 & 0 & 0 & 0\\\\\n\t87 & NBA & Rakeem Christmas & IND & PF & 1 &  6 & 2 &  2 & 0 & 0 & ⋯ & 0 & 0 & 0 & 1 & 0 &  4 & 0 & 0 & 0 & 0\\\\\n\t20 & NBA & Th Antetokounmpo & NYK & SF & 3 &  7 & 3 &  4 & 0 & 1 & ⋯ & 0 & 0 & 0 & 2 & 0 &  6 & 0 & 0 & 0 & 0\\\\\n\t113 & NBA & Sam Dekker       & HOU & SF & 3 &  7 & 0 &  0 & 0 & 0 & ⋯ & 1 & 0 & 0 & 0 & 0 &  0 & 0 & 0 & 0 & 0\\\\\n\t89 & NBA & Coty Clarke      & BOS & NA & 4 &  8 & 2 &  4 & 2 & 2 & ⋯ & 0 & 1 & 0 & 0 & 0 &  6 & 0 & 0 & 0 & 0\\\\\n\t2 & NBA & Jordan Adams     & MEM & SG & 2 & 15 & 2 &  6 & 0 & 1 & ⋯ & 3 & 2 & 0 & 2 & 0 &  7 & 0 & 0 & 0 & 0\\\\\n\t184 & NBA & Joe Harris       & CLE & SG & 5 & 15 & 1 &  4 & 1 & 4 & ⋯ & 0 & 1 & 0 & 1 & 0 &  3 & 0 & 0 & 0 & 0\\\\\n\t145 & NBA & Jimmer Fredette  & NYK & PG & 6 & 17 & 2 &  5 & 1 & 2 & ⋯ & 1 & 2 & 0 & 2 & 0 &  9 & 0 & 0 & 0 & 0\\\\\n\t413 & NBA & Jarnell Stokes   & NOR & C  & 7 & 18 & 3 &  5 & 0 & 0 & ⋯ & 1 & 0 & 0 & 1 & 0 &  7 & 0 & 0 & 0 & 0\\\\\n\t309 & NBA & Nazr Mohammed    & OKL & C  & 5 & 20 & 3 &  5 & 0 & 0 & ⋯ & 0 & 3 & 0 & 4 & 0 &  8 & 0 & 0 & 0 & 0\\\\\n\t270 & NBA & Kevon Looney     & GSW & SF & 5 & 21 & 4 &  7 & 1 & 2 & ⋯ & 0 & 1 & 0 & 2 & 0 &  9 & 0 & 0 & 0 & 0\\\\\n\t377 & NBA & Nate Robinson    & NOR & PG & 2 & 23 & 0 &  1 & 0 & 1 & ⋯ & 1 & 0 & 0 & 5 & 0 &  0 & 0 & 0 & 0 & 1\\\\\n\t124 & NBA & Duje Dukan       & SAC & PF & 1 & 24 & 2 & 10 & 2 & 5 & ⋯ & 1 & 0 & 0 & 2 & 0 &  6 & 0 & 0 & 0 & 0\\\\\n\t189 & NBA & Chuck Hayes      & HOU & PF & 2 & 24 & 1 &  2 & 0 & 0 & ⋯ & 0 & 3 & 0 & 6 & 0 &  4 & 0 & 0 & 0 & 0\\\\\n\t23 & NBA & Keith Appling    & ORL & PG & 5 & 27 & 2 &  8 & 0 & 3 & ⋯ & 1 & 3 & 0 & 5 & 0 &  6 & 0 & 0 & 0 & 0\\\\\n\t110 & NBA & Branden Dawson   & LAC & SF & 6 & 28 & 2 &  5 & 0 & 0 & ⋯ & 0 & 0 & 1 & 2 & 0 &  5 & 0 & 0 & 0 & 0\\\\\n\t180 & NBA & Justin Harper    & DET & PF & 5 & 35 & 4 & 10 & 4 & 9 & ⋯ & 1 & 2 & 0 & 3 & 0 & 13 & 0 & 0 & 0 & 0\\\\\n\t8 & NBA & Cliff Alexander  & POR & PF & 9 & 37 & 5 & 10 & 0 & 0 & ⋯ & 1 & 1 & 2 & 1 & 0 & 10 & 0 & 0 & 0 & 0\\\\\n\t97 & NBA & Bryce Cotton     & MEM & PG & 8 & 41 & 4 & 10 & 0 & 3 & ⋯ & 3 & 5 & 0 & 2 & 0 &  8 & 0 & 0 & 0 & 0\\\\\n\t455 & NBA & Shay Whittington & IND & PF & 7 & 41 & 5 & 11 & 0 & 2 & ⋯ & 1 & 5 & 1 & 7 & 0 & 11 & 0 & 0 & 0 & 0\\\\\n\\end{tabular}\n",
            "text/markdown": "\nA data.frame: 20 × 25\n\n| <!--/--> | League &lt;fct&gt; | Name &lt;chr&gt; | Team &lt;fct&gt; | Position &lt;fct&gt; | GamesPlayed &lt;int&gt; | TotalMinutesPlayed &lt;int&gt; | FieldGoalsMade &lt;int&gt; | FieldGoalsAttempted &lt;int&gt; | ThreesMade &lt;int&gt; | ThreesAttempted &lt;int&gt; | ⋯ ⋯ | Steals &lt;int&gt; | Turnovers &lt;int&gt; | Blocks &lt;int&gt; | PersonalFouls &lt;int&gt; | Disqualifications &lt;int&gt; | TotalPoints &lt;int&gt; | Technicals &lt;int&gt; | Ejections &lt;int&gt; | FlagrantFouls &lt;int&gt; | GamesStarted &lt;int&gt; |\n|---|---|---|---|---|---|---|---|---|---|---|---|---|---|---|---|---|---|---|---|---|---|\n| 335 | NBA | J.j. O'brien     | UTA | SF | 1 |  2 | 0 |  1 | 0 | 0 | ⋯ | 0 | 0 | 0 | 0 | 0 |  0 | 0 | 0 | 0 | 0 |\n| 87 | NBA | Rakeem Christmas | IND | PF | 1 |  6 | 2 |  2 | 0 | 0 | ⋯ | 0 | 0 | 0 | 1 | 0 |  4 | 0 | 0 | 0 | 0 |\n| 20 | NBA | Th Antetokounmpo | NYK | SF | 3 |  7 | 3 |  4 | 0 | 1 | ⋯ | 0 | 0 | 0 | 2 | 0 |  6 | 0 | 0 | 0 | 0 |\n| 113 | NBA | Sam Dekker       | HOU | SF | 3 |  7 | 0 |  0 | 0 | 0 | ⋯ | 1 | 0 | 0 | 0 | 0 |  0 | 0 | 0 | 0 | 0 |\n| 89 | NBA | Coty Clarke      | BOS | NA | 4 |  8 | 2 |  4 | 2 | 2 | ⋯ | 0 | 1 | 0 | 0 | 0 |  6 | 0 | 0 | 0 | 0 |\n| 2 | NBA | Jordan Adams     | MEM | SG | 2 | 15 | 2 |  6 | 0 | 1 | ⋯ | 3 | 2 | 0 | 2 | 0 |  7 | 0 | 0 | 0 | 0 |\n| 184 | NBA | Joe Harris       | CLE | SG | 5 | 15 | 1 |  4 | 1 | 4 | ⋯ | 0 | 1 | 0 | 1 | 0 |  3 | 0 | 0 | 0 | 0 |\n| 145 | NBA | Jimmer Fredette  | NYK | PG | 6 | 17 | 2 |  5 | 1 | 2 | ⋯ | 1 | 2 | 0 | 2 | 0 |  9 | 0 | 0 | 0 | 0 |\n| 413 | NBA | Jarnell Stokes   | NOR | C  | 7 | 18 | 3 |  5 | 0 | 0 | ⋯ | 1 | 0 | 0 | 1 | 0 |  7 | 0 | 0 | 0 | 0 |\n| 309 | NBA | Nazr Mohammed    | OKL | C  | 5 | 20 | 3 |  5 | 0 | 0 | ⋯ | 0 | 3 | 0 | 4 | 0 |  8 | 0 | 0 | 0 | 0 |\n| 270 | NBA | Kevon Looney     | GSW | SF | 5 | 21 | 4 |  7 | 1 | 2 | ⋯ | 0 | 1 | 0 | 2 | 0 |  9 | 0 | 0 | 0 | 0 |\n| 377 | NBA | Nate Robinson    | NOR | PG | 2 | 23 | 0 |  1 | 0 | 1 | ⋯ | 1 | 0 | 0 | 5 | 0 |  0 | 0 | 0 | 0 | 1 |\n| 124 | NBA | Duje Dukan       | SAC | PF | 1 | 24 | 2 | 10 | 2 | 5 | ⋯ | 1 | 0 | 0 | 2 | 0 |  6 | 0 | 0 | 0 | 0 |\n| 189 | NBA | Chuck Hayes      | HOU | PF | 2 | 24 | 1 |  2 | 0 | 0 | ⋯ | 0 | 3 | 0 | 6 | 0 |  4 | 0 | 0 | 0 | 0 |\n| 23 | NBA | Keith Appling    | ORL | PG | 5 | 27 | 2 |  8 | 0 | 3 | ⋯ | 1 | 3 | 0 | 5 | 0 |  6 | 0 | 0 | 0 | 0 |\n| 110 | NBA | Branden Dawson   | LAC | SF | 6 | 28 | 2 |  5 | 0 | 0 | ⋯ | 0 | 0 | 1 | 2 | 0 |  5 | 0 | 0 | 0 | 0 |\n| 180 | NBA | Justin Harper    | DET | PF | 5 | 35 | 4 | 10 | 4 | 9 | ⋯ | 1 | 2 | 0 | 3 | 0 | 13 | 0 | 0 | 0 | 0 |\n| 8 | NBA | Cliff Alexander  | POR | PF | 9 | 37 | 5 | 10 | 0 | 0 | ⋯ | 1 | 1 | 2 | 1 | 0 | 10 | 0 | 0 | 0 | 0 |\n| 97 | NBA | Bryce Cotton     | MEM | PG | 8 | 41 | 4 | 10 | 0 | 3 | ⋯ | 3 | 5 | 0 | 2 | 0 |  8 | 0 | 0 | 0 | 0 |\n| 455 | NBA | Shay Whittington | IND | PF | 7 | 41 | 5 | 11 | 0 | 2 | ⋯ | 1 | 5 | 1 | 7 | 0 | 11 | 0 | 0 | 0 | 0 |\n\n",
            "text/html": [
              "<table>\n",
              "<caption>A data.frame: 20 × 25</caption>\n",
              "<thead>\n",
              "\t<tr><th></th><th scope=col>League</th><th scope=col>Name</th><th scope=col>Team</th><th scope=col>Position</th><th scope=col>GamesPlayed</th><th scope=col>TotalMinutesPlayed</th><th scope=col>FieldGoalsMade</th><th scope=col>FieldGoalsAttempted</th><th scope=col>ThreesMade</th><th scope=col>ThreesAttempted</th><th scope=col>⋯</th><th scope=col>Steals</th><th scope=col>Turnovers</th><th scope=col>Blocks</th><th scope=col>PersonalFouls</th><th scope=col>Disqualifications</th><th scope=col>TotalPoints</th><th scope=col>Technicals</th><th scope=col>Ejections</th><th scope=col>FlagrantFouls</th><th scope=col>GamesStarted</th></tr>\n",
              "\t<tr><th></th><th scope=col>&lt;fct&gt;</th><th scope=col>&lt;chr&gt;</th><th scope=col>&lt;fct&gt;</th><th scope=col>&lt;fct&gt;</th><th scope=col>&lt;int&gt;</th><th scope=col>&lt;int&gt;</th><th scope=col>&lt;int&gt;</th><th scope=col>&lt;int&gt;</th><th scope=col>&lt;int&gt;</th><th scope=col>&lt;int&gt;</th><th scope=col>⋯</th><th scope=col>&lt;int&gt;</th><th scope=col>&lt;int&gt;</th><th scope=col>&lt;int&gt;</th><th scope=col>&lt;int&gt;</th><th scope=col>&lt;int&gt;</th><th scope=col>&lt;int&gt;</th><th scope=col>&lt;int&gt;</th><th scope=col>&lt;int&gt;</th><th scope=col>&lt;int&gt;</th><th scope=col>&lt;int&gt;</th></tr>\n",
              "</thead>\n",
              "<tbody>\n",
              "\t<tr><th scope=row>335</th><td>NBA</td><td>J.j. O'brien    </td><td>UTA</td><td>SF</td><td>1</td><td> 2</td><td>0</td><td> 1</td><td>0</td><td>0</td><td>⋯</td><td>0</td><td>0</td><td>0</td><td>0</td><td>0</td><td> 0</td><td>0</td><td>0</td><td>0</td><td>0</td></tr>\n",
              "\t<tr><th scope=row>87</th><td>NBA</td><td>Rakeem Christmas</td><td>IND</td><td>PF</td><td>1</td><td> 6</td><td>2</td><td> 2</td><td>0</td><td>0</td><td>⋯</td><td>0</td><td>0</td><td>0</td><td>1</td><td>0</td><td> 4</td><td>0</td><td>0</td><td>0</td><td>0</td></tr>\n",
              "\t<tr><th scope=row>20</th><td>NBA</td><td>Th Antetokounmpo</td><td>NYK</td><td>SF</td><td>3</td><td> 7</td><td>3</td><td> 4</td><td>0</td><td>1</td><td>⋯</td><td>0</td><td>0</td><td>0</td><td>2</td><td>0</td><td> 6</td><td>0</td><td>0</td><td>0</td><td>0</td></tr>\n",
              "\t<tr><th scope=row>113</th><td>NBA</td><td>Sam Dekker      </td><td>HOU</td><td>SF</td><td>3</td><td> 7</td><td>0</td><td> 0</td><td>0</td><td>0</td><td>⋯</td><td>1</td><td>0</td><td>0</td><td>0</td><td>0</td><td> 0</td><td>0</td><td>0</td><td>0</td><td>0</td></tr>\n",
              "\t<tr><th scope=row>89</th><td>NBA</td><td>Coty Clarke     </td><td>BOS</td><td>NA</td><td>4</td><td> 8</td><td>2</td><td> 4</td><td>2</td><td>2</td><td>⋯</td><td>0</td><td>1</td><td>0</td><td>0</td><td>0</td><td> 6</td><td>0</td><td>0</td><td>0</td><td>0</td></tr>\n",
              "\t<tr><th scope=row>2</th><td>NBA</td><td>Jordan Adams    </td><td>MEM</td><td>SG</td><td>2</td><td>15</td><td>2</td><td> 6</td><td>0</td><td>1</td><td>⋯</td><td>3</td><td>2</td><td>0</td><td>2</td><td>0</td><td> 7</td><td>0</td><td>0</td><td>0</td><td>0</td></tr>\n",
              "\t<tr><th scope=row>184</th><td>NBA</td><td>Joe Harris      </td><td>CLE</td><td>SG</td><td>5</td><td>15</td><td>1</td><td> 4</td><td>1</td><td>4</td><td>⋯</td><td>0</td><td>1</td><td>0</td><td>1</td><td>0</td><td> 3</td><td>0</td><td>0</td><td>0</td><td>0</td></tr>\n",
              "\t<tr><th scope=row>145</th><td>NBA</td><td>Jimmer Fredette </td><td>NYK</td><td>PG</td><td>6</td><td>17</td><td>2</td><td> 5</td><td>1</td><td>2</td><td>⋯</td><td>1</td><td>2</td><td>0</td><td>2</td><td>0</td><td> 9</td><td>0</td><td>0</td><td>0</td><td>0</td></tr>\n",
              "\t<tr><th scope=row>413</th><td>NBA</td><td>Jarnell Stokes  </td><td>NOR</td><td>C </td><td>7</td><td>18</td><td>3</td><td> 5</td><td>0</td><td>0</td><td>⋯</td><td>1</td><td>0</td><td>0</td><td>1</td><td>0</td><td> 7</td><td>0</td><td>0</td><td>0</td><td>0</td></tr>\n",
              "\t<tr><th scope=row>309</th><td>NBA</td><td>Nazr Mohammed   </td><td>OKL</td><td>C </td><td>5</td><td>20</td><td>3</td><td> 5</td><td>0</td><td>0</td><td>⋯</td><td>0</td><td>3</td><td>0</td><td>4</td><td>0</td><td> 8</td><td>0</td><td>0</td><td>0</td><td>0</td></tr>\n",
              "\t<tr><th scope=row>270</th><td>NBA</td><td>Kevon Looney    </td><td>GSW</td><td>SF</td><td>5</td><td>21</td><td>4</td><td> 7</td><td>1</td><td>2</td><td>⋯</td><td>0</td><td>1</td><td>0</td><td>2</td><td>0</td><td> 9</td><td>0</td><td>0</td><td>0</td><td>0</td></tr>\n",
              "\t<tr><th scope=row>377</th><td>NBA</td><td>Nate Robinson   </td><td>NOR</td><td>PG</td><td>2</td><td>23</td><td>0</td><td> 1</td><td>0</td><td>1</td><td>⋯</td><td>1</td><td>0</td><td>0</td><td>5</td><td>0</td><td> 0</td><td>0</td><td>0</td><td>0</td><td>1</td></tr>\n",
              "\t<tr><th scope=row>124</th><td>NBA</td><td>Duje Dukan      </td><td>SAC</td><td>PF</td><td>1</td><td>24</td><td>2</td><td>10</td><td>2</td><td>5</td><td>⋯</td><td>1</td><td>0</td><td>0</td><td>2</td><td>0</td><td> 6</td><td>0</td><td>0</td><td>0</td><td>0</td></tr>\n",
              "\t<tr><th scope=row>189</th><td>NBA</td><td>Chuck Hayes     </td><td>HOU</td><td>PF</td><td>2</td><td>24</td><td>1</td><td> 2</td><td>0</td><td>0</td><td>⋯</td><td>0</td><td>3</td><td>0</td><td>6</td><td>0</td><td> 4</td><td>0</td><td>0</td><td>0</td><td>0</td></tr>\n",
              "\t<tr><th scope=row>23</th><td>NBA</td><td>Keith Appling   </td><td>ORL</td><td>PG</td><td>5</td><td>27</td><td>2</td><td> 8</td><td>0</td><td>3</td><td>⋯</td><td>1</td><td>3</td><td>0</td><td>5</td><td>0</td><td> 6</td><td>0</td><td>0</td><td>0</td><td>0</td></tr>\n",
              "\t<tr><th scope=row>110</th><td>NBA</td><td>Branden Dawson  </td><td>LAC</td><td>SF</td><td>6</td><td>28</td><td>2</td><td> 5</td><td>0</td><td>0</td><td>⋯</td><td>0</td><td>0</td><td>1</td><td>2</td><td>0</td><td> 5</td><td>0</td><td>0</td><td>0</td><td>0</td></tr>\n",
              "\t<tr><th scope=row>180</th><td>NBA</td><td>Justin Harper   </td><td>DET</td><td>PF</td><td>5</td><td>35</td><td>4</td><td>10</td><td>4</td><td>9</td><td>⋯</td><td>1</td><td>2</td><td>0</td><td>3</td><td>0</td><td>13</td><td>0</td><td>0</td><td>0</td><td>0</td></tr>\n",
              "\t<tr><th scope=row>8</th><td>NBA</td><td>Cliff Alexander </td><td>POR</td><td>PF</td><td>9</td><td>37</td><td>5</td><td>10</td><td>0</td><td>0</td><td>⋯</td><td>1</td><td>1</td><td>2</td><td>1</td><td>0</td><td>10</td><td>0</td><td>0</td><td>0</td><td>0</td></tr>\n",
              "\t<tr><th scope=row>97</th><td>NBA</td><td>Bryce Cotton    </td><td>MEM</td><td>PG</td><td>8</td><td>41</td><td>4</td><td>10</td><td>0</td><td>3</td><td>⋯</td><td>3</td><td>5</td><td>0</td><td>2</td><td>0</td><td> 8</td><td>0</td><td>0</td><td>0</td><td>0</td></tr>\n",
              "\t<tr><th scope=row>455</th><td>NBA</td><td>Shay Whittington</td><td>IND</td><td>PF</td><td>7</td><td>41</td><td>5</td><td>11</td><td>0</td><td>2</td><td>⋯</td><td>1</td><td>5</td><td>1</td><td>7</td><td>0</td><td>11</td><td>0</td><td>0</td><td>0</td><td>0</td></tr>\n",
              "</tbody>\n",
              "</table>\n"
            ]
          },
          "metadata": {
            "tags": []
          }
        }
      ]
    },
    {
      "cell_type": "code",
      "metadata": {
        "id": "nnwHQ1ctna7v",
        "outputId": "f683a938-805c-470e-8b23-062151ad9b07",
        "colab": {
          "base_uri": "https://localhost:8080/",
          "height": 546
        }
      },
      "source": [
        "subset(NBA1516,Team == \"GSW\")"
      ],
      "execution_count": 38,
      "outputs": [
        {
          "output_type": "display_data",
          "data": {
            "text/plain": [
              "    League Name             Team Position GamesPlayed TotalMinutesPlayed\n",
              "32  NBA    Leandro Barbosa  GSW  SG       68          1079              \n",
              "35  NBA    Harrison Barnes  GSW  SF       66          2043              \n",
              "55  NBA    Andrew Bogut     GSW  C        70          1452              \n",
              "88  NBA    Ian Clark        GSW  SG       66           579              \n",
              "106 NBA    Stephen Curry    GSW  PG       79          2705              \n",
              "136 NBA    Festus Ezeli     GSW  C        46           769              \n",
              "167 NBA    Draymond Green   GSW  SF       81          2807              \n",
              "215 NBA    Andre Iguodala   GSW  SG       65          1736              \n",
              "269 NBA    Shaun Livingston GSW  PG       78          1512              \n",
              "270 NBA    Kevon Looney     GSW  SF        5            21              \n",
              "286 NBA    James Mcadoo     GSW  SG       41           265              \n",
              "385 NBA    Brandon Rush     GSW  SG       72          1050              \n",
              "408 NBA    Marrees Speights GSW  C        72           836              \n",
              "426 NBA    Klay Thompson    GSW  SG       80          2661              \n",
              "437 NBA    Anderson Varejao GSW  C        53           494              \n",
              "    FieldGoalsMade FieldGoalsAttempted ThreesMade ThreesAttempted ⋯ Steals\n",
              "32  171             370                 39        111             ⋯  44   \n",
              "35  295             633                 82        214             ⋯  41   \n",
              "55  175             279                  1          1             ⋯  32   \n",
              "88   89             202                 30         84             ⋯  17   \n",
              "106 805            1597                402        887             ⋯ 169   \n",
              "136 125             228                  0          0             ⋯  18   \n",
              "167 401             819                100        258             ⋯ 118   \n",
              "215 176             368                 54        154             ⋯  73   \n",
              "269 203             379                  2         12             ⋯  57   \n",
              "270   4               7                  1          2             ⋯   0   \n",
              "286  45              84                  1          2             ⋯  10   \n",
              "385 111             260                 65        157             ⋯  21   \n",
              "408 197             456                 24         62             ⋯  19   \n",
              "426 651            1386                276        648             ⋯  60   \n",
              "437  53             124                  0          1             ⋯  16   \n",
              "    Turnovers Blocks PersonalFouls Disqualifications TotalPoints Technicals\n",
              "32   53        10    107           0                  433         1        \n",
              "35   58        10    136           1                  774         0        \n",
              "55   83       113    221           4                  375         0        \n",
              "88   43        13     58           0                  236         1        \n",
              "106 261        16    161           0                 2375         1        \n",
              "136  38        50     94           1                  320         0        \n",
              "167 259       111    240           2                 1131        11        \n",
              "215  79        19    102           0                  457         1        \n",
              "269  78        27    140           0                  488         2        \n",
              "270   1         0      2           0                    9         0        \n",
              "286  16         8     39           0                  117         0        \n",
              "385  33        23     57           1                  305         0        \n",
              "408  66        34    117           0                  512         2        \n",
              "426 138        50    152           0                 1771         0        \n",
              "437  22        10     70           0                  138         1        \n",
              "    Ejections FlagrantFouls GamesStarted\n",
              "32  0         0              0          \n",
              "35  0         0             59          \n",
              "55  0         0             66          \n",
              "88  0         0              1          \n",
              "106 0         0             79          \n",
              "136 0         0             13          \n",
              "167 0         0             81          \n",
              "215 0         0              1          \n",
              "269 0         0              3          \n",
              "270 0         0              0          \n",
              "286 0         0              1          \n",
              "385 0         0             25          \n",
              "408 0         0              0          \n",
              "426 0         0             80          \n",
              "437 0         0              0          "
            ],
            "text/latex": "A data.frame: 15 × 25\n\\begin{tabular}{r|lllllllllllllllllllll}\n  & League & Name & Team & Position & GamesPlayed & TotalMinutesPlayed & FieldGoalsMade & FieldGoalsAttempted & ThreesMade & ThreesAttempted & ⋯ & Steals & Turnovers & Blocks & PersonalFouls & Disqualifications & TotalPoints & Technicals & Ejections & FlagrantFouls & GamesStarted\\\\\n  & <fct> & <chr> & <fct> & <fct> & <int> & <int> & <int> & <int> & <int> & <int> & ⋯ & <int> & <int> & <int> & <int> & <int> & <int> & <int> & <int> & <int> & <int>\\\\\n\\hline\n\t32 & NBA & Leandro Barbosa  & GSW & SG & 68 & 1079 & 171 &  370 &  39 & 111 & ⋯ &  44 &  53 &  10 & 107 & 0 &  433 &  1 & 0 & 0 &  0\\\\\n\t35 & NBA & Harrison Barnes  & GSW & SF & 66 & 2043 & 295 &  633 &  82 & 214 & ⋯ &  41 &  58 &  10 & 136 & 1 &  774 &  0 & 0 & 0 & 59\\\\\n\t55 & NBA & Andrew Bogut     & GSW & C  & 70 & 1452 & 175 &  279 &   1 &   1 & ⋯ &  32 &  83 & 113 & 221 & 4 &  375 &  0 & 0 & 0 & 66\\\\\n\t88 & NBA & Ian Clark        & GSW & SG & 66 &  579 &  89 &  202 &  30 &  84 & ⋯ &  17 &  43 &  13 &  58 & 0 &  236 &  1 & 0 & 0 &  1\\\\\n\t106 & NBA & Stephen Curry    & GSW & PG & 79 & 2705 & 805 & 1597 & 402 & 887 & ⋯ & 169 & 261 &  16 & 161 & 0 & 2375 &  1 & 0 & 0 & 79\\\\\n\t136 & NBA & Festus Ezeli     & GSW & C  & 46 &  769 & 125 &  228 &   0 &   0 & ⋯ &  18 &  38 &  50 &  94 & 1 &  320 &  0 & 0 & 0 & 13\\\\\n\t167 & NBA & Draymond Green   & GSW & SF & 81 & 2807 & 401 &  819 & 100 & 258 & ⋯ & 118 & 259 & 111 & 240 & 2 & 1131 & 11 & 0 & 0 & 81\\\\\n\t215 & NBA & Andre Iguodala   & GSW & SG & 65 & 1736 & 176 &  368 &  54 & 154 & ⋯ &  73 &  79 &  19 & 102 & 0 &  457 &  1 & 0 & 0 &  1\\\\\n\t269 & NBA & Shaun Livingston & GSW & PG & 78 & 1512 & 203 &  379 &   2 &  12 & ⋯ &  57 &  78 &  27 & 140 & 0 &  488 &  2 & 0 & 0 &  3\\\\\n\t270 & NBA & Kevon Looney     & GSW & SF &  5 &   21 &   4 &    7 &   1 &   2 & ⋯ &   0 &   1 &   0 &   2 & 0 &    9 &  0 & 0 & 0 &  0\\\\\n\t286 & NBA & James Mcadoo     & GSW & SG & 41 &  265 &  45 &   84 &   1 &   2 & ⋯ &  10 &  16 &   8 &  39 & 0 &  117 &  0 & 0 & 0 &  1\\\\\n\t385 & NBA & Brandon Rush     & GSW & SG & 72 & 1050 & 111 &  260 &  65 & 157 & ⋯ &  21 &  33 &  23 &  57 & 1 &  305 &  0 & 0 & 0 & 25\\\\\n\t408 & NBA & Marrees Speights & GSW & C  & 72 &  836 & 197 &  456 &  24 &  62 & ⋯ &  19 &  66 &  34 & 117 & 0 &  512 &  2 & 0 & 0 &  0\\\\\n\t426 & NBA & Klay Thompson    & GSW & SG & 80 & 2661 & 651 & 1386 & 276 & 648 & ⋯ &  60 & 138 &  50 & 152 & 0 & 1771 &  0 & 0 & 0 & 80\\\\\n\t437 & NBA & Anderson Varejao & GSW & C  & 53 &  494 &  53 &  124 &   0 &   1 & ⋯ &  16 &  22 &  10 &  70 & 0 &  138 &  1 & 0 & 0 &  0\\\\\n\\end{tabular}\n",
            "text/markdown": "\nA data.frame: 15 × 25\n\n| <!--/--> | League &lt;fct&gt; | Name &lt;chr&gt; | Team &lt;fct&gt; | Position &lt;fct&gt; | GamesPlayed &lt;int&gt; | TotalMinutesPlayed &lt;int&gt; | FieldGoalsMade &lt;int&gt; | FieldGoalsAttempted &lt;int&gt; | ThreesMade &lt;int&gt; | ThreesAttempted &lt;int&gt; | ⋯ ⋯ | Steals &lt;int&gt; | Turnovers &lt;int&gt; | Blocks &lt;int&gt; | PersonalFouls &lt;int&gt; | Disqualifications &lt;int&gt; | TotalPoints &lt;int&gt; | Technicals &lt;int&gt; | Ejections &lt;int&gt; | FlagrantFouls &lt;int&gt; | GamesStarted &lt;int&gt; |\n|---|---|---|---|---|---|---|---|---|---|---|---|---|---|---|---|---|---|---|---|---|---|\n| 32 | NBA | Leandro Barbosa  | GSW | SG | 68 | 1079 | 171 |  370 |  39 | 111 | ⋯ |  44 |  53 |  10 | 107 | 0 |  433 |  1 | 0 | 0 |  0 |\n| 35 | NBA | Harrison Barnes  | GSW | SF | 66 | 2043 | 295 |  633 |  82 | 214 | ⋯ |  41 |  58 |  10 | 136 | 1 |  774 |  0 | 0 | 0 | 59 |\n| 55 | NBA | Andrew Bogut     | GSW | C  | 70 | 1452 | 175 |  279 |   1 |   1 | ⋯ |  32 |  83 | 113 | 221 | 4 |  375 |  0 | 0 | 0 | 66 |\n| 88 | NBA | Ian Clark        | GSW | SG | 66 |  579 |  89 |  202 |  30 |  84 | ⋯ |  17 |  43 |  13 |  58 | 0 |  236 |  1 | 0 | 0 |  1 |\n| 106 | NBA | Stephen Curry    | GSW | PG | 79 | 2705 | 805 | 1597 | 402 | 887 | ⋯ | 169 | 261 |  16 | 161 | 0 | 2375 |  1 | 0 | 0 | 79 |\n| 136 | NBA | Festus Ezeli     | GSW | C  | 46 |  769 | 125 |  228 |   0 |   0 | ⋯ |  18 |  38 |  50 |  94 | 1 |  320 |  0 | 0 | 0 | 13 |\n| 167 | NBA | Draymond Green   | GSW | SF | 81 | 2807 | 401 |  819 | 100 | 258 | ⋯ | 118 | 259 | 111 | 240 | 2 | 1131 | 11 | 0 | 0 | 81 |\n| 215 | NBA | Andre Iguodala   | GSW | SG | 65 | 1736 | 176 |  368 |  54 | 154 | ⋯ |  73 |  79 |  19 | 102 | 0 |  457 |  1 | 0 | 0 |  1 |\n| 269 | NBA | Shaun Livingston | GSW | PG | 78 | 1512 | 203 |  379 |   2 |  12 | ⋯ |  57 |  78 |  27 | 140 | 0 |  488 |  2 | 0 | 0 |  3 |\n| 270 | NBA | Kevon Looney     | GSW | SF |  5 |   21 |   4 |    7 |   1 |   2 | ⋯ |   0 |   1 |   0 |   2 | 0 |    9 |  0 | 0 | 0 |  0 |\n| 286 | NBA | James Mcadoo     | GSW | SG | 41 |  265 |  45 |   84 |   1 |   2 | ⋯ |  10 |  16 |   8 |  39 | 0 |  117 |  0 | 0 | 0 |  1 |\n| 385 | NBA | Brandon Rush     | GSW | SG | 72 | 1050 | 111 |  260 |  65 | 157 | ⋯ |  21 |  33 |  23 |  57 | 1 |  305 |  0 | 0 | 0 | 25 |\n| 408 | NBA | Marrees Speights | GSW | C  | 72 |  836 | 197 |  456 |  24 |  62 | ⋯ |  19 |  66 |  34 | 117 | 0 |  512 |  2 | 0 | 0 |  0 |\n| 426 | NBA | Klay Thompson    | GSW | SG | 80 | 2661 | 651 | 1386 | 276 | 648 | ⋯ |  60 | 138 |  50 | 152 | 0 | 1771 |  0 | 0 | 0 | 80 |\n| 437 | NBA | Anderson Varejao | GSW | C  | 53 |  494 |  53 |  124 |   0 |   1 | ⋯ |  16 |  22 |  10 |  70 | 0 |  138 |  1 | 0 | 0 |  0 |\n\n",
            "text/html": [
              "<table>\n",
              "<caption>A data.frame: 15 × 25</caption>\n",
              "<thead>\n",
              "\t<tr><th></th><th scope=col>League</th><th scope=col>Name</th><th scope=col>Team</th><th scope=col>Position</th><th scope=col>GamesPlayed</th><th scope=col>TotalMinutesPlayed</th><th scope=col>FieldGoalsMade</th><th scope=col>FieldGoalsAttempted</th><th scope=col>ThreesMade</th><th scope=col>ThreesAttempted</th><th scope=col>⋯</th><th scope=col>Steals</th><th scope=col>Turnovers</th><th scope=col>Blocks</th><th scope=col>PersonalFouls</th><th scope=col>Disqualifications</th><th scope=col>TotalPoints</th><th scope=col>Technicals</th><th scope=col>Ejections</th><th scope=col>FlagrantFouls</th><th scope=col>GamesStarted</th></tr>\n",
              "\t<tr><th></th><th scope=col>&lt;fct&gt;</th><th scope=col>&lt;chr&gt;</th><th scope=col>&lt;fct&gt;</th><th scope=col>&lt;fct&gt;</th><th scope=col>&lt;int&gt;</th><th scope=col>&lt;int&gt;</th><th scope=col>&lt;int&gt;</th><th scope=col>&lt;int&gt;</th><th scope=col>&lt;int&gt;</th><th scope=col>&lt;int&gt;</th><th scope=col>⋯</th><th scope=col>&lt;int&gt;</th><th scope=col>&lt;int&gt;</th><th scope=col>&lt;int&gt;</th><th scope=col>&lt;int&gt;</th><th scope=col>&lt;int&gt;</th><th scope=col>&lt;int&gt;</th><th scope=col>&lt;int&gt;</th><th scope=col>&lt;int&gt;</th><th scope=col>&lt;int&gt;</th><th scope=col>&lt;int&gt;</th></tr>\n",
              "</thead>\n",
              "<tbody>\n",
              "\t<tr><th scope=row>32</th><td>NBA</td><td>Leandro Barbosa </td><td>GSW</td><td>SG</td><td>68</td><td>1079</td><td>171</td><td> 370</td><td> 39</td><td>111</td><td>⋯</td><td> 44</td><td> 53</td><td> 10</td><td>107</td><td>0</td><td> 433</td><td> 1</td><td>0</td><td>0</td><td> 0</td></tr>\n",
              "\t<tr><th scope=row>35</th><td>NBA</td><td>Harrison Barnes </td><td>GSW</td><td>SF</td><td>66</td><td>2043</td><td>295</td><td> 633</td><td> 82</td><td>214</td><td>⋯</td><td> 41</td><td> 58</td><td> 10</td><td>136</td><td>1</td><td> 774</td><td> 0</td><td>0</td><td>0</td><td>59</td></tr>\n",
              "\t<tr><th scope=row>55</th><td>NBA</td><td>Andrew Bogut    </td><td>GSW</td><td>C </td><td>70</td><td>1452</td><td>175</td><td> 279</td><td>  1</td><td>  1</td><td>⋯</td><td> 32</td><td> 83</td><td>113</td><td>221</td><td>4</td><td> 375</td><td> 0</td><td>0</td><td>0</td><td>66</td></tr>\n",
              "\t<tr><th scope=row>88</th><td>NBA</td><td>Ian Clark       </td><td>GSW</td><td>SG</td><td>66</td><td> 579</td><td> 89</td><td> 202</td><td> 30</td><td> 84</td><td>⋯</td><td> 17</td><td> 43</td><td> 13</td><td> 58</td><td>0</td><td> 236</td><td> 1</td><td>0</td><td>0</td><td> 1</td></tr>\n",
              "\t<tr><th scope=row>106</th><td>NBA</td><td>Stephen Curry   </td><td>GSW</td><td>PG</td><td>79</td><td>2705</td><td>805</td><td>1597</td><td>402</td><td>887</td><td>⋯</td><td>169</td><td>261</td><td> 16</td><td>161</td><td>0</td><td>2375</td><td> 1</td><td>0</td><td>0</td><td>79</td></tr>\n",
              "\t<tr><th scope=row>136</th><td>NBA</td><td>Festus Ezeli    </td><td>GSW</td><td>C </td><td>46</td><td> 769</td><td>125</td><td> 228</td><td>  0</td><td>  0</td><td>⋯</td><td> 18</td><td> 38</td><td> 50</td><td> 94</td><td>1</td><td> 320</td><td> 0</td><td>0</td><td>0</td><td>13</td></tr>\n",
              "\t<tr><th scope=row>167</th><td>NBA</td><td>Draymond Green  </td><td>GSW</td><td>SF</td><td>81</td><td>2807</td><td>401</td><td> 819</td><td>100</td><td>258</td><td>⋯</td><td>118</td><td>259</td><td>111</td><td>240</td><td>2</td><td>1131</td><td>11</td><td>0</td><td>0</td><td>81</td></tr>\n",
              "\t<tr><th scope=row>215</th><td>NBA</td><td>Andre Iguodala  </td><td>GSW</td><td>SG</td><td>65</td><td>1736</td><td>176</td><td> 368</td><td> 54</td><td>154</td><td>⋯</td><td> 73</td><td> 79</td><td> 19</td><td>102</td><td>0</td><td> 457</td><td> 1</td><td>0</td><td>0</td><td> 1</td></tr>\n",
              "\t<tr><th scope=row>269</th><td>NBA</td><td>Shaun Livingston</td><td>GSW</td><td>PG</td><td>78</td><td>1512</td><td>203</td><td> 379</td><td>  2</td><td> 12</td><td>⋯</td><td> 57</td><td> 78</td><td> 27</td><td>140</td><td>0</td><td> 488</td><td> 2</td><td>0</td><td>0</td><td> 3</td></tr>\n",
              "\t<tr><th scope=row>270</th><td>NBA</td><td>Kevon Looney    </td><td>GSW</td><td>SF</td><td> 5</td><td>  21</td><td>  4</td><td>   7</td><td>  1</td><td>  2</td><td>⋯</td><td>  0</td><td>  1</td><td>  0</td><td>  2</td><td>0</td><td>   9</td><td> 0</td><td>0</td><td>0</td><td> 0</td></tr>\n",
              "\t<tr><th scope=row>286</th><td>NBA</td><td>James Mcadoo    </td><td>GSW</td><td>SG</td><td>41</td><td> 265</td><td> 45</td><td>  84</td><td>  1</td><td>  2</td><td>⋯</td><td> 10</td><td> 16</td><td>  8</td><td> 39</td><td>0</td><td> 117</td><td> 0</td><td>0</td><td>0</td><td> 1</td></tr>\n",
              "\t<tr><th scope=row>385</th><td>NBA</td><td>Brandon Rush    </td><td>GSW</td><td>SG</td><td>72</td><td>1050</td><td>111</td><td> 260</td><td> 65</td><td>157</td><td>⋯</td><td> 21</td><td> 33</td><td> 23</td><td> 57</td><td>1</td><td> 305</td><td> 0</td><td>0</td><td>0</td><td>25</td></tr>\n",
              "\t<tr><th scope=row>408</th><td>NBA</td><td>Marrees Speights</td><td>GSW</td><td>C </td><td>72</td><td> 836</td><td>197</td><td> 456</td><td> 24</td><td> 62</td><td>⋯</td><td> 19</td><td> 66</td><td> 34</td><td>117</td><td>0</td><td> 512</td><td> 2</td><td>0</td><td>0</td><td> 0</td></tr>\n",
              "\t<tr><th scope=row>426</th><td>NBA</td><td>Klay Thompson   </td><td>GSW</td><td>SG</td><td>80</td><td>2661</td><td>651</td><td>1386</td><td>276</td><td>648</td><td>⋯</td><td> 60</td><td>138</td><td> 50</td><td>152</td><td>0</td><td>1771</td><td> 0</td><td>0</td><td>0</td><td>80</td></tr>\n",
              "\t<tr><th scope=row>437</th><td>NBA</td><td>Anderson Varejao</td><td>GSW</td><td>C </td><td>53</td><td> 494</td><td> 53</td><td> 124</td><td>  0</td><td>  1</td><td>⋯</td><td> 16</td><td> 22</td><td> 10</td><td> 70</td><td>0</td><td> 138</td><td> 1</td><td>0</td><td>0</td><td> 0</td></tr>\n",
              "</tbody>\n",
              "</table>\n"
            ]
          },
          "metadata": {
            "tags": []
          }
        }
      ]
    },
    {
      "cell_type": "code",
      "metadata": {
        "id": "6Ly93t2in18n",
        "outputId": "1a1e5b43-c2fd-4e04-fdd9-9a331988519b",
        "colab": {
          "base_uri": "https://localhost:8080/",
          "height": 99
        }
      },
      "source": [
        "NBA1516[grepl(\"Harrison Barnes\",NBA1516$Name),]"
      ],
      "execution_count": 41,
      "outputs": [
        {
          "output_type": "display_data",
          "data": {
            "text/plain": [
              "   League Name            Team Position GamesPlayed TotalMinutesPlayed\n",
              "35 NBA    Harrison Barnes GSW  SF       66          2043              \n",
              "   FieldGoalsMade FieldGoalsAttempted ThreesMade ThreesAttempted ⋯ Steals\n",
              "35 295            633                 82         214             ⋯ 41    \n",
              "   Turnovers Blocks PersonalFouls Disqualifications TotalPoints Technicals\n",
              "35 58        10     136           1                 774         0         \n",
              "   Ejections FlagrantFouls GamesStarted\n",
              "35 0         0             59          "
            ],
            "text/latex": "A data.frame: 1 × 25\n\\begin{tabular}{r|lllllllllllllllllllll}\n  & League & Name & Team & Position & GamesPlayed & TotalMinutesPlayed & FieldGoalsMade & FieldGoalsAttempted & ThreesMade & ThreesAttempted & ⋯ & Steals & Turnovers & Blocks & PersonalFouls & Disqualifications & TotalPoints & Technicals & Ejections & FlagrantFouls & GamesStarted\\\\\n  & <fct> & <chr> & <fct> & <fct> & <int> & <int> & <int> & <int> & <int> & <int> & ⋯ & <int> & <int> & <int> & <int> & <int> & <int> & <int> & <int> & <int> & <int>\\\\\n\\hline\n\t35 & NBA & Harrison Barnes & GSW & SF & 66 & 2043 & 295 & 633 & 82 & 214 & ⋯ & 41 & 58 & 10 & 136 & 1 & 774 & 0 & 0 & 0 & 59\\\\\n\\end{tabular}\n",
            "text/markdown": "\nA data.frame: 1 × 25\n\n| <!--/--> | League &lt;fct&gt; | Name &lt;chr&gt; | Team &lt;fct&gt; | Position &lt;fct&gt; | GamesPlayed &lt;int&gt; | TotalMinutesPlayed &lt;int&gt; | FieldGoalsMade &lt;int&gt; | FieldGoalsAttempted &lt;int&gt; | ThreesMade &lt;int&gt; | ThreesAttempted &lt;int&gt; | ⋯ ⋯ | Steals &lt;int&gt; | Turnovers &lt;int&gt; | Blocks &lt;int&gt; | PersonalFouls &lt;int&gt; | Disqualifications &lt;int&gt; | TotalPoints &lt;int&gt; | Technicals &lt;int&gt; | Ejections &lt;int&gt; | FlagrantFouls &lt;int&gt; | GamesStarted &lt;int&gt; |\n|---|---|---|---|---|---|---|---|---|---|---|---|---|---|---|---|---|---|---|---|---|---|\n| 35 | NBA | Harrison Barnes | GSW | SF | 66 | 2043 | 295 | 633 | 82 | 214 | ⋯ | 41 | 58 | 10 | 136 | 1 | 774 | 0 | 0 | 0 | 59 |\n\n",
            "text/html": [
              "<table>\n",
              "<caption>A data.frame: 1 × 25</caption>\n",
              "<thead>\n",
              "\t<tr><th></th><th scope=col>League</th><th scope=col>Name</th><th scope=col>Team</th><th scope=col>Position</th><th scope=col>GamesPlayed</th><th scope=col>TotalMinutesPlayed</th><th scope=col>FieldGoalsMade</th><th scope=col>FieldGoalsAttempted</th><th scope=col>ThreesMade</th><th scope=col>ThreesAttempted</th><th scope=col>⋯</th><th scope=col>Steals</th><th scope=col>Turnovers</th><th scope=col>Blocks</th><th scope=col>PersonalFouls</th><th scope=col>Disqualifications</th><th scope=col>TotalPoints</th><th scope=col>Technicals</th><th scope=col>Ejections</th><th scope=col>FlagrantFouls</th><th scope=col>GamesStarted</th></tr>\n",
              "\t<tr><th></th><th scope=col>&lt;fct&gt;</th><th scope=col>&lt;chr&gt;</th><th scope=col>&lt;fct&gt;</th><th scope=col>&lt;fct&gt;</th><th scope=col>&lt;int&gt;</th><th scope=col>&lt;int&gt;</th><th scope=col>&lt;int&gt;</th><th scope=col>&lt;int&gt;</th><th scope=col>&lt;int&gt;</th><th scope=col>&lt;int&gt;</th><th scope=col>⋯</th><th scope=col>&lt;int&gt;</th><th scope=col>&lt;int&gt;</th><th scope=col>&lt;int&gt;</th><th scope=col>&lt;int&gt;</th><th scope=col>&lt;int&gt;</th><th scope=col>&lt;int&gt;</th><th scope=col>&lt;int&gt;</th><th scope=col>&lt;int&gt;</th><th scope=col>&lt;int&gt;</th><th scope=col>&lt;int&gt;</th></tr>\n",
              "</thead>\n",
              "<tbody>\n",
              "\t<tr><th scope=row>35</th><td>NBA</td><td>Harrison Barnes</td><td>GSW</td><td>SF</td><td>66</td><td>2043</td><td>295</td><td>633</td><td>82</td><td>214</td><td>⋯</td><td>41</td><td>58</td><td>10</td><td>136</td><td>1</td><td>774</td><td>0</td><td>0</td><td>0</td><td>59</td></tr>\n",
              "</tbody>\n",
              "</table>\n"
            ]
          },
          "metadata": {
            "tags": []
          }
        }
      ]
    },
    {
      "cell_type": "code",
      "metadata": {
        "id": "7wJmacgKoOHJ",
        "outputId": "f1e9cb24-6caf-488f-a4dc-cf83d8d6b926",
        "colab": {
          "base_uri": "https://localhost:8080/",
          "height": 68
        }
      },
      "source": [
        "install.packages(\"data.table\")\n",
        "library(data.table)"
      ],
      "execution_count": 42,
      "outputs": [
        {
          "output_type": "stream",
          "text": [
            "Installing package into ‘/usr/local/lib/R/site-library’\n",
            "(as ‘lib’ is unspecified)\n",
            "\n"
          ],
          "name": "stderr"
        }
      ]
    },
    {
      "cell_type": "code",
      "metadata": {
        "id": "FxEeVf74ofJY",
        "outputId": "58dbce56-9e99-444e-9011-ae9f9a4bdfc4",
        "colab": {
          "base_uri": "https://localhost:8080/",
          "height": 34
        }
      },
      "source": [
        "NBA1516DT <- data.table(NBA1516)"
      ],
      "execution_count": 44,
      "outputs": [
        {
          "output_type": "display_data",
          "data": {
            "text/plain": [
              "[1] \"data.table\" \"data.frame\""
            ],
            "text/latex": "\\begin{enumerate*}\n\\item 'data.table'\n\\item 'data.frame'\n\\end{enumerate*}\n",
            "text/markdown": "1. 'data.table'\n2. 'data.frame'\n\n\n",
            "text/html": [
              "<style>\n",
              ".list-inline {list-style: none; margin:0; padding: 0}\n",
              ".list-inline>li {display: inline-block}\n",
              ".list-inline>li:not(:last-child)::after {content: \"\\00b7\"; padding: 0 .5ex}\n",
              "</style>\n",
              "<ol class=list-inline><li>'data.table'</li><li>'data.frame'</li></ol>\n"
            ]
          },
          "metadata": {
            "tags": []
          }
        }
      ]
    },
    {
      "cell_type": "code",
      "metadata": {
        "id": "jCGoyEqro0JW",
        "outputId": "888f8881-14fa-4cea-868f-8963578c2dbb",
        "colab": {
          "base_uri": "https://localhost:8080/",
          "height": 34
        }
      },
      "source": [
        "class(NBA1516DT)"
      ],
      "execution_count": 45,
      "outputs": [
        {
          "output_type": "display_data",
          "data": {
            "text/plain": [
              "[1] \"data.table\" \"data.frame\""
            ],
            "text/latex": "\\begin{enumerate*}\n\\item 'data.table'\n\\item 'data.frame'\n\\end{enumerate*}\n",
            "text/markdown": "1. 'data.table'\n2. 'data.frame'\n\n\n",
            "text/html": [
              "<style>\n",
              ".list-inline {list-style: none; margin:0; padding: 0}\n",
              ".list-inline>li {display: inline-block}\n",
              ".list-inline>li:not(:last-child)::after {content: \"\\00b7\"; padding: 0 .5ex}\n",
              "</style>\n",
              "<ol class=list-inline><li>'data.table'</li><li>'data.frame'</li></ol>\n"
            ]
          },
          "metadata": {
            "tags": []
          }
        }
      ]
    },
    {
      "cell_type": "code",
      "metadata": {
        "id": "xmzHaOMZo5JZ",
        "outputId": "ff1fda71-0854-49c3-aeca-48f8b844756f",
        "colab": {
          "base_uri": "https://localhost:8080/",
          "height": 1000
        }
      },
      "source": [
        "NBA1516DT[grepl(\"Adams\",Name)]\n",
        "NBA1516DT[grepl(\"James\",Name)]\n",
        "NBA1516DT[grepl(\"SG\",Position)]"
      ],
      "execution_count": 50,
      "outputs": [
        {
          "output_type": "display_data",
          "data": {
            "text/plain": [
              "  League Name         Team Position GamesPlayed TotalMinutesPlayed\n",
              "1 NBA    Jordan Adams MEM  SG        2            15              \n",
              "2 NBA    Steven Adams OKL  C        80          2019              \n",
              "  FieldGoalsMade FieldGoalsAttempted ThreesMade ThreesAttempted ⋯ Steals\n",
              "1   2              6                 0          1               ⋯  3    \n",
              "2 261            426                 0          0               ⋯ 42    \n",
              "  Turnovers Blocks PersonalFouls Disqualifications TotalPoints Technicals\n",
              "1  2         0       2           0                   7         0         \n",
              "2 84        89     223           2                 636         2         \n",
              "  Ejections FlagrantFouls GamesStarted\n",
              "1 0         0              0          \n",
              "2 0         0             80          "
            ],
            "text/latex": "A data.table: 2 × 25\n\\begin{tabular}{lllllllllllllllllllll}\n League & Name & Team & Position & GamesPlayed & TotalMinutesPlayed & FieldGoalsMade & FieldGoalsAttempted & ThreesMade & ThreesAttempted & ⋯ & Steals & Turnovers & Blocks & PersonalFouls & Disqualifications & TotalPoints & Technicals & Ejections & FlagrantFouls & GamesStarted\\\\\n <fct> & <chr> & <fct> & <fct> & <int> & <int> & <int> & <int> & <int> & <int> & ⋯ & <int> & <int> & <int> & <int> & <int> & <int> & <int> & <int> & <int> & <int>\\\\\n\\hline\n\t NBA & Jordan Adams & MEM & SG &  2 &   15 &   2 &   6 & 0 & 1 & ⋯ &  3 &  2 &  0 &   2 & 0 &   7 & 0 & 0 & 0 &  0\\\\\n\t NBA & Steven Adams & OKL & C  & 80 & 2019 & 261 & 426 & 0 & 0 & ⋯ & 42 & 84 & 89 & 223 & 2 & 636 & 2 & 0 & 0 & 80\\\\\n\\end{tabular}\n",
            "text/markdown": "\nA data.table: 2 × 25\n\n| League &lt;fct&gt; | Name &lt;chr&gt; | Team &lt;fct&gt; | Position &lt;fct&gt; | GamesPlayed &lt;int&gt; | TotalMinutesPlayed &lt;int&gt; | FieldGoalsMade &lt;int&gt; | FieldGoalsAttempted &lt;int&gt; | ThreesMade &lt;int&gt; | ThreesAttempted &lt;int&gt; | ⋯ ⋯ | Steals &lt;int&gt; | Turnovers &lt;int&gt; | Blocks &lt;int&gt; | PersonalFouls &lt;int&gt; | Disqualifications &lt;int&gt; | TotalPoints &lt;int&gt; | Technicals &lt;int&gt; | Ejections &lt;int&gt; | FlagrantFouls &lt;int&gt; | GamesStarted &lt;int&gt; |\n|---|---|---|---|---|---|---|---|---|---|---|---|---|---|---|---|---|---|---|---|---|\n| NBA | Jordan Adams | MEM | SG |  2 |   15 |   2 |   6 | 0 | 1 | ⋯ |  3 |  2 |  0 |   2 | 0 |   7 | 0 | 0 | 0 |  0 |\n| NBA | Steven Adams | OKL | C  | 80 | 2019 | 261 | 426 | 0 | 0 | ⋯ | 42 | 84 | 89 | 223 | 2 | 636 | 2 | 0 | 0 | 80 |\n\n",
            "text/html": [
              "<table>\n",
              "<caption>A data.table: 2 × 25</caption>\n",
              "<thead>\n",
              "\t<tr><th scope=col>League</th><th scope=col>Name</th><th scope=col>Team</th><th scope=col>Position</th><th scope=col>GamesPlayed</th><th scope=col>TotalMinutesPlayed</th><th scope=col>FieldGoalsMade</th><th scope=col>FieldGoalsAttempted</th><th scope=col>ThreesMade</th><th scope=col>ThreesAttempted</th><th scope=col>⋯</th><th scope=col>Steals</th><th scope=col>Turnovers</th><th scope=col>Blocks</th><th scope=col>PersonalFouls</th><th scope=col>Disqualifications</th><th scope=col>TotalPoints</th><th scope=col>Technicals</th><th scope=col>Ejections</th><th scope=col>FlagrantFouls</th><th scope=col>GamesStarted</th></tr>\n",
              "\t<tr><th scope=col>&lt;fct&gt;</th><th scope=col>&lt;chr&gt;</th><th scope=col>&lt;fct&gt;</th><th scope=col>&lt;fct&gt;</th><th scope=col>&lt;int&gt;</th><th scope=col>&lt;int&gt;</th><th scope=col>&lt;int&gt;</th><th scope=col>&lt;int&gt;</th><th scope=col>&lt;int&gt;</th><th scope=col>&lt;int&gt;</th><th scope=col>⋯</th><th scope=col>&lt;int&gt;</th><th scope=col>&lt;int&gt;</th><th scope=col>&lt;int&gt;</th><th scope=col>&lt;int&gt;</th><th scope=col>&lt;int&gt;</th><th scope=col>&lt;int&gt;</th><th scope=col>&lt;int&gt;</th><th scope=col>&lt;int&gt;</th><th scope=col>&lt;int&gt;</th><th scope=col>&lt;int&gt;</th></tr>\n",
              "</thead>\n",
              "<tbody>\n",
              "\t<tr><td>NBA</td><td>Jordan Adams</td><td>MEM</td><td>SG</td><td> 2</td><td>  15</td><td>  2</td><td>  6</td><td>0</td><td>1</td><td>⋯</td><td> 3</td><td> 2</td><td> 0</td><td>  2</td><td>0</td><td>  7</td><td>0</td><td>0</td><td>0</td><td> 0</td></tr>\n",
              "\t<tr><td>NBA</td><td>Steven Adams</td><td>OKL</td><td>C </td><td>80</td><td>2019</td><td>261</td><td>426</td><td>0</td><td>0</td><td>⋯</td><td>42</td><td>84</td><td>89</td><td>223</td><td>2</td><td>636</td><td>2</td><td>0</td><td>0</td><td>80</td></tr>\n",
              "</tbody>\n",
              "</table>\n"
            ]
          },
          "metadata": {
            "tags": []
          }
        },
        {
          "output_type": "display_data",
          "data": {
            "text/plain": [
              "  League Name           Team Position GamesPlayed TotalMinutesPlayed\n",
              "1 NBA    James Anderson SAC  SG       51           721              \n",
              "2 NBA    James Ennis    NOR  SF       22           329              \n",
              "3 NBA    James Harden   HOU  SG       82          3121              \n",
              "4 NBA    Lebron James   CLE  SF       76          2710              \n",
              "5 NBA    James Johnson  TOR  PF       57           924              \n",
              "6 NBA    James Jones    CLE  SG       48           466              \n",
              "7 NBA    James Mcadoo   GSW  SG       41           265              \n",
              "8 NBA    James Young    BOS  SG       29           200              \n",
              "  FieldGoalsMade FieldGoalsAttempted ThreesMade ThreesAttempted ⋯ Steals\n",
              "1  67             178                 23         86             ⋯  21   \n",
              "2  54             113                 26         58             ⋯  16   \n",
              "3 710            1617                236        656             ⋯ 138   \n",
              "4 737            1416                 87        282             ⋯ 104   \n",
              "5 114             240                 20         66             ⋯  29   \n",
              "6  59             143                 41        104             ⋯  11   \n",
              "7  45              84                  1          2             ⋯  10   \n",
              "8  11              36                  6         26             ⋯   6   \n",
              "  Turnovers Blocks PersonalFouls Disqualifications TotalPoints Technicals\n",
              "1  42       14      54           0                  179        0         \n",
              "2  19        5      28           1                  159        0         \n",
              "3 374       51     229           1                 2376        2         \n",
              "4 249       49     143           0                 1920        3         \n",
              "5  54       33      84           0                  287        0         \n",
              "6  13       10      50           0                  180        1         \n",
              "7  16        8      39           0                  117        0         \n",
              "8   5        1      17           0                   29        0         \n",
              "  Ejections FlagrantFouls GamesStarted\n",
              "1 0         0             15          \n",
              "2 0         0              5          \n",
              "3 0         0             82          \n",
              "4 0         0             76          \n",
              "5 0         0             32          \n",
              "6 0         0              0          \n",
              "7 0         0              1          \n",
              "8 0         0              0          "
            ],
            "text/latex": "A data.table: 8 × 25\n\\begin{tabular}{lllllllllllllllllllll}\n League & Name & Team & Position & GamesPlayed & TotalMinutesPlayed & FieldGoalsMade & FieldGoalsAttempted & ThreesMade & ThreesAttempted & ⋯ & Steals & Turnovers & Blocks & PersonalFouls & Disqualifications & TotalPoints & Technicals & Ejections & FlagrantFouls & GamesStarted\\\\\n <fct> & <chr> & <fct> & <fct> & <int> & <int> & <int> & <int> & <int> & <int> & ⋯ & <int> & <int> & <int> & <int> & <int> & <int> & <int> & <int> & <int> & <int>\\\\\n\\hline\n\t NBA & James Anderson & SAC & SG & 51 &  721 &  67 &  178 &  23 &  86 & ⋯ &  21 &  42 & 14 &  54 & 0 &  179 & 0 & 0 & 0 & 15\\\\\n\t NBA & James Ennis    & NOR & SF & 22 &  329 &  54 &  113 &  26 &  58 & ⋯ &  16 &  19 &  5 &  28 & 1 &  159 & 0 & 0 & 0 &  5\\\\\n\t NBA & James Harden   & HOU & SG & 82 & 3121 & 710 & 1617 & 236 & 656 & ⋯ & 138 & 374 & 51 & 229 & 1 & 2376 & 2 & 0 & 0 & 82\\\\\n\t NBA & Lebron James   & CLE & SF & 76 & 2710 & 737 & 1416 &  87 & 282 & ⋯ & 104 & 249 & 49 & 143 & 0 & 1920 & 3 & 0 & 0 & 76\\\\\n\t NBA & James Johnson  & TOR & PF & 57 &  924 & 114 &  240 &  20 &  66 & ⋯ &  29 &  54 & 33 &  84 & 0 &  287 & 0 & 0 & 0 & 32\\\\\n\t NBA & James Jones    & CLE & SG & 48 &  466 &  59 &  143 &  41 & 104 & ⋯ &  11 &  13 & 10 &  50 & 0 &  180 & 1 & 0 & 0 &  0\\\\\n\t NBA & James Mcadoo   & GSW & SG & 41 &  265 &  45 &   84 &   1 &   2 & ⋯ &  10 &  16 &  8 &  39 & 0 &  117 & 0 & 0 & 0 &  1\\\\\n\t NBA & James Young    & BOS & SG & 29 &  200 &  11 &   36 &   6 &  26 & ⋯ &   6 &   5 &  1 &  17 & 0 &   29 & 0 & 0 & 0 &  0\\\\\n\\end{tabular}\n",
            "text/markdown": "\nA data.table: 8 × 25\n\n| League &lt;fct&gt; | Name &lt;chr&gt; | Team &lt;fct&gt; | Position &lt;fct&gt; | GamesPlayed &lt;int&gt; | TotalMinutesPlayed &lt;int&gt; | FieldGoalsMade &lt;int&gt; | FieldGoalsAttempted &lt;int&gt; | ThreesMade &lt;int&gt; | ThreesAttempted &lt;int&gt; | ⋯ ⋯ | Steals &lt;int&gt; | Turnovers &lt;int&gt; | Blocks &lt;int&gt; | PersonalFouls &lt;int&gt; | Disqualifications &lt;int&gt; | TotalPoints &lt;int&gt; | Technicals &lt;int&gt; | Ejections &lt;int&gt; | FlagrantFouls &lt;int&gt; | GamesStarted &lt;int&gt; |\n|---|---|---|---|---|---|---|---|---|---|---|---|---|---|---|---|---|---|---|---|---|\n| NBA | James Anderson | SAC | SG | 51 |  721 |  67 |  178 |  23 |  86 | ⋯ |  21 |  42 | 14 |  54 | 0 |  179 | 0 | 0 | 0 | 15 |\n| NBA | James Ennis    | NOR | SF | 22 |  329 |  54 |  113 |  26 |  58 | ⋯ |  16 |  19 |  5 |  28 | 1 |  159 | 0 | 0 | 0 |  5 |\n| NBA | James Harden   | HOU | SG | 82 | 3121 | 710 | 1617 | 236 | 656 | ⋯ | 138 | 374 | 51 | 229 | 1 | 2376 | 2 | 0 | 0 | 82 |\n| NBA | Lebron James   | CLE | SF | 76 | 2710 | 737 | 1416 |  87 | 282 | ⋯ | 104 | 249 | 49 | 143 | 0 | 1920 | 3 | 0 | 0 | 76 |\n| NBA | James Johnson  | TOR | PF | 57 |  924 | 114 |  240 |  20 |  66 | ⋯ |  29 |  54 | 33 |  84 | 0 |  287 | 0 | 0 | 0 | 32 |\n| NBA | James Jones    | CLE | SG | 48 |  466 |  59 |  143 |  41 | 104 | ⋯ |  11 |  13 | 10 |  50 | 0 |  180 | 1 | 0 | 0 |  0 |\n| NBA | James Mcadoo   | GSW | SG | 41 |  265 |  45 |   84 |   1 |   2 | ⋯ |  10 |  16 |  8 |  39 | 0 |  117 | 0 | 0 | 0 |  1 |\n| NBA | James Young    | BOS | SG | 29 |  200 |  11 |   36 |   6 |  26 | ⋯ |   6 |   5 |  1 |  17 | 0 |   29 | 0 | 0 | 0 |  0 |\n\n",
            "text/html": [
              "<table>\n",
              "<caption>A data.table: 8 × 25</caption>\n",
              "<thead>\n",
              "\t<tr><th scope=col>League</th><th scope=col>Name</th><th scope=col>Team</th><th scope=col>Position</th><th scope=col>GamesPlayed</th><th scope=col>TotalMinutesPlayed</th><th scope=col>FieldGoalsMade</th><th scope=col>FieldGoalsAttempted</th><th scope=col>ThreesMade</th><th scope=col>ThreesAttempted</th><th scope=col>⋯</th><th scope=col>Steals</th><th scope=col>Turnovers</th><th scope=col>Blocks</th><th scope=col>PersonalFouls</th><th scope=col>Disqualifications</th><th scope=col>TotalPoints</th><th scope=col>Technicals</th><th scope=col>Ejections</th><th scope=col>FlagrantFouls</th><th scope=col>GamesStarted</th></tr>\n",
              "\t<tr><th scope=col>&lt;fct&gt;</th><th scope=col>&lt;chr&gt;</th><th scope=col>&lt;fct&gt;</th><th scope=col>&lt;fct&gt;</th><th scope=col>&lt;int&gt;</th><th scope=col>&lt;int&gt;</th><th scope=col>&lt;int&gt;</th><th scope=col>&lt;int&gt;</th><th scope=col>&lt;int&gt;</th><th scope=col>&lt;int&gt;</th><th scope=col>⋯</th><th scope=col>&lt;int&gt;</th><th scope=col>&lt;int&gt;</th><th scope=col>&lt;int&gt;</th><th scope=col>&lt;int&gt;</th><th scope=col>&lt;int&gt;</th><th scope=col>&lt;int&gt;</th><th scope=col>&lt;int&gt;</th><th scope=col>&lt;int&gt;</th><th scope=col>&lt;int&gt;</th><th scope=col>&lt;int&gt;</th></tr>\n",
              "</thead>\n",
              "<tbody>\n",
              "\t<tr><td>NBA</td><td>James Anderson</td><td>SAC</td><td>SG</td><td>51</td><td> 721</td><td> 67</td><td> 178</td><td> 23</td><td> 86</td><td>⋯</td><td> 21</td><td> 42</td><td>14</td><td> 54</td><td>0</td><td> 179</td><td>0</td><td>0</td><td>0</td><td>15</td></tr>\n",
              "\t<tr><td>NBA</td><td>James Ennis   </td><td>NOR</td><td>SF</td><td>22</td><td> 329</td><td> 54</td><td> 113</td><td> 26</td><td> 58</td><td>⋯</td><td> 16</td><td> 19</td><td> 5</td><td> 28</td><td>1</td><td> 159</td><td>0</td><td>0</td><td>0</td><td> 5</td></tr>\n",
              "\t<tr><td>NBA</td><td>James Harden  </td><td>HOU</td><td>SG</td><td>82</td><td>3121</td><td>710</td><td>1617</td><td>236</td><td>656</td><td>⋯</td><td>138</td><td>374</td><td>51</td><td>229</td><td>1</td><td>2376</td><td>2</td><td>0</td><td>0</td><td>82</td></tr>\n",
              "\t<tr><td>NBA</td><td>Lebron James  </td><td>CLE</td><td>SF</td><td>76</td><td>2710</td><td>737</td><td>1416</td><td> 87</td><td>282</td><td>⋯</td><td>104</td><td>249</td><td>49</td><td>143</td><td>0</td><td>1920</td><td>3</td><td>0</td><td>0</td><td>76</td></tr>\n",
              "\t<tr><td>NBA</td><td>James Johnson </td><td>TOR</td><td>PF</td><td>57</td><td> 924</td><td>114</td><td> 240</td><td> 20</td><td> 66</td><td>⋯</td><td> 29</td><td> 54</td><td>33</td><td> 84</td><td>0</td><td> 287</td><td>0</td><td>0</td><td>0</td><td>32</td></tr>\n",
              "\t<tr><td>NBA</td><td>James Jones   </td><td>CLE</td><td>SG</td><td>48</td><td> 466</td><td> 59</td><td> 143</td><td> 41</td><td>104</td><td>⋯</td><td> 11</td><td> 13</td><td>10</td><td> 50</td><td>0</td><td> 180</td><td>1</td><td>0</td><td>0</td><td> 0</td></tr>\n",
              "\t<tr><td>NBA</td><td>James Mcadoo  </td><td>GSW</td><td>SG</td><td>41</td><td> 265</td><td> 45</td><td>  84</td><td>  1</td><td>  2</td><td>⋯</td><td> 10</td><td> 16</td><td> 8</td><td> 39</td><td>0</td><td> 117</td><td>0</td><td>0</td><td>0</td><td> 1</td></tr>\n",
              "\t<tr><td>NBA</td><td>James Young   </td><td>BOS</td><td>SG</td><td>29</td><td> 200</td><td> 11</td><td>  36</td><td>  6</td><td> 26</td><td>⋯</td><td>  6</td><td>  5</td><td> 1</td><td> 17</td><td>0</td><td>  29</td><td>0</td><td>0</td><td>0</td><td> 0</td></tr>\n",
              "</tbody>\n",
              "</table>\n"
            ]
          },
          "metadata": {
            "tags": []
          }
        },
        {
          "output_type": "display_data",
          "data": {
            "text/plain": [
              "    League Name             Team Position GamesPlayed TotalMinutesPlayed\n",
              "1   NBA    Jordan Adams     MEM  SG        2            15              \n",
              "2   NBA    Arron Afflalo    NYK  SG       71          2359              \n",
              "3   NBA    Tony Allen       MEM  SG       64          1622              \n",
              "4   NBA    Alan Anderson    WAS  SG       13           193              \n",
              "5   NBA    James Anderson   SAC  SG       51           721              \n",
              "6   NBA    Justin Anderson  DAL  SG       55           644              \n",
              "7   NBA    Leandro Barbosa  GSW  SG       68          1079              \n",
              "8   NBA    Will Barton      DEN  SG       82          2355              \n",
              "9   NBA    Kent Bazemore    ATL  SG       75          2077              \n",
              "10  NBA    Bradley Beal     WAS  SG       55          1709              \n",
              "11  NBA    Bojan Bogdanovic BRO  SG       79          2114              \n",
              "12  NBA    Devin Booker     PHO  SG       76          2110              \n",
              "13  NBA    Corey Brewer     HOU  SG       82          1670              \n",
              "14  NBA    Markel Brown     BRO  SG       62           989              \n",
              "15  NBA    Kobe Bryant      LAL  SG       66          1861              \n",
              "16  NBA    Jimmy Butler     CHI  SG       67          2473              \n",
              "17  NBA    Ke Caldwell-pope DET  SG       76          2789              \n",
              "18  NBA    Vince Carter     MEM  SG       60          1009              \n",
              "19  NBA    Ian Clark        GSW  SG       66           579              \n",
              "20  NBA    Pat Connaughton  POR  SG       34           147              \n",
              "21  NBA    Jamal Crawford   LAC  SG       79          2126              \n",
              "22  NBA    Jared Cunningham MIL  SG       45           415              \n",
              "23  NBA    Seth Curry       SAC  SG       44           694              \n",
              "24  NBA    Troy Daniels     CHA  SG       43           478              \n",
              "25  NBA    Bry Dejean-jones NOR  SG       11           271              \n",
              "26  NBA    Demar Derozan    TOR  SG       78          2804              \n",
              "27  NBA    Goran Dragic     MIA  SG       72          2362              \n",
              "28  NBA    Jared Dudley     WAS  SG       81          2098              \n",
              "29  NBA    Mike Dunleavy    CHI  SG       31           702              \n",
              "30  NBA    Jarell Eddie     WAS  SG       26           147              \n",
              "⋮   ⋮      ⋮                ⋮    ⋮        ⋮           ⋮                 \n",
              "80  NBA    Norman Powell    TOR  SG       49           729              \n",
              "81  NBA    Phil Pressey     PHO  SG       22           280              \n",
              "82  NBA    J.j. Redick      LAC  SG       75          2098              \n",
              "83  NBA    Josh Richardson  MIA  SG       52          1105              \n",
              "84  NBA    Austin Rivers    LAC  SG       67          1466              \n",
              "85  NBA    Andre Roberson   OKL  SG       70          1552              \n",
              "86  NBA    Brandon Rush     GSW  SG       72          1050              \n",
              "87  NBA    Jakarr Sampson   DEN  SG       73          1166              \n",
              "88  NBA    Thabo Sefolosha  ATL  SG       75          1749              \n",
              "89  NBA    Iman Shumpert    CLE  SG       54          1319              \n",
              "90  NBA    Jonathon Simmons SAN  SG       55           811              \n",
              "91  NBA    J.r. Smith       CLE  SG       77          2367              \n",
              "92  NBA    Nik Stauskas     PHI  SG       73          1798              \n",
              "93  NBA    Garrett Temple   WAS  SG       80          1951              \n",
              "94  NBA    Jason Terry      HOU  SG       72          1261              \n",
              "95  NBA    Hollis Thompson  PHI  SG       77          2158              \n",
              "96  NBA    Klay Thompson    GSW  SG       80          2661              \n",
              "97  NBA    Marcus Thornton  WAS  SG       61          1110              \n",
              "98  NBA    Axel Toupane     DEN  SG       21           307              \n",
              "99  NBA    Evan Turner      BOS  SG       81          2270              \n",
              "100 NBA    Rashad Vaughn    MIL  SG       70          1000              \n",
              "101 NBA    Sasha Vujacic    NYK  SG       61           910              \n",
              "102 NBA    Dwyane Wade      MIA  SG       74          2258              \n",
              "103 NBA    Dion Waiters     OKL  SG       78          2157              \n",
              "104 NBA    Sonny Weems      PHI  SG       43           501              \n",
              "105 NBA    C.j. Wilcox      LAC  SG       23           168              \n",
              "106 NBA    Elliot Williams  MEM  SG        5            46              \n",
              "107 NBA    Louis Williams   LAL  SG       67          1911              \n",
              "108 NBA    Tony Wroten      PHI  SG        8           145              \n",
              "109 NBA    James Young      BOS  SG       29           200              \n",
              "    FieldGoalsMade FieldGoalsAttempted ThreesMade ThreesAttempted ⋯ Steals\n",
              "1     2               6                  0          1             ⋯   3   \n",
              "2   354             799                 91        238             ⋯  25   \n",
              "3   215             469                 15         42             ⋯ 109   \n",
              "4    21              59                 12         37             ⋯   4   \n",
              "5    67             178                 23         86             ⋯  21   \n",
              "6    71             176                 22         83             ⋯  19   \n",
              "7   171             370                 39        111             ⋯  44   \n",
              "8   426             984                112        324             ⋯  71   \n",
              "9   320             724                109        304             ⋯  98   \n",
              "10  359             799                105        271             ⋯  54   \n",
              "11  324             749                129        337             ⋯  29   \n",
              "12  367             867                 99        289             ⋯  44   \n",
              "13  212             552                 61        225             ⋯  84   \n",
              "14  127             322                 38        121             ⋯  38   \n",
              "15  398            1112                133        466             ⋯  62   \n",
              "16  470            1034                 64        206             ⋯ 110   \n",
              "17  403             960                114        368             ⋯ 110   \n",
              "18  133             343                 59        169             ⋯  38   \n",
              "19   89             202                 30         84             ⋯  17   \n",
              "20   13              49                  5         21             ⋯   2   \n",
              "21  379             940                117        345             ⋯  52   \n",
              "22   36             105                 12         39             ⋯  14   \n",
              "23  102             224                 50        111             ⋯  22   \n",
              "24   89             187                 59        122             ⋯  11   \n",
              "25   27              67                 11         30             ⋯  10   \n",
              "26  614            1377                 47        139             ⋯  82   \n",
              "27  417             875                 64        205             ⋯  71   \n",
              "28  233             487                100        239             ⋯  75   \n",
              "29   77             188                 39         99             ⋯  14   \n",
              "30   20              65                 15         47             ⋯   5   \n",
              "⋮   ⋮              ⋮                   ⋮          ⋮               ⋱ ⋮     \n",
              "80   97             229                 36         88             ⋯ 29    \n",
              "81   30              77                  4         17             ⋯ 17    \n",
              "82  422             880                200        420             ⋯ 42    \n",
              "83  123             272                 53        115             ⋯ 36    \n",
              "84  226             516                 62        185             ⋯ 48    \n",
              "85  136             274                 32        103             ⋯ 54    \n",
              "86  111             260                 65        157             ⋯ 21    \n",
              "87  140             318                 14         63             ⋯ 23    \n",
              "88  188             374                 42        125             ⋯ 84    \n",
              "89  114             305                 43        146             ⋯ 54    \n",
              "90  122             241                 18         47             ⋯ 24    \n",
              "91  353             849                204        510             ⋯ 81    \n",
              "92  210             542                106        324             ⋯ 44    \n",
              "93  201             505                 89        257             ⋯ 69    \n",
              "94  151             376                 93        261             ⋯ 47    \n",
              "95  270             681                149        393             ⋯ 36    \n",
              "96  651            1386                276        648             ⋯ 60    \n",
              "97  216             542                 91        271             ⋯ 47    \n",
              "98   25              70                 13         40             ⋯  7    \n",
              "99  343             753                 20         83             ⋯ 80    \n",
              "100  82             266                 44        147             ⋯ 29    \n",
              "101 106             277                 52        143             ⋯ 34    \n",
              "102 540            1183                  7         44             ⋯ 79    \n",
              "103 282             705                 86        241             ⋯ 81    \n",
              "104  42             111                 15         42             ⋯ 10    \n",
              "105  26              66                  9         23             ⋯ 10    \n",
              "106   2              10                  1          4             ⋯  1    \n",
              "107 283             695                110        321             ⋯ 62    \n",
              "108  22              65                  3         17             ⋯  3    \n",
              "109  11              36                  6         26             ⋯  6    \n",
              "    Turnovers Blocks PersonalFouls Disqualifications TotalPoints Technicals\n",
              "1     2        0       2           0                    7        0         \n",
              "2    82       10     142           1                  909        1         \n",
              "3    78       18     175           1                  535        1         \n",
              "4     2        1      25           0                   65        0         \n",
              "5    42       14      54           0                  179        0         \n",
              "6    24       25      45           0                  208        0         \n",
              "7    53       10     107           0                  433        1         \n",
              "8   139       39     147           0                 1180        2         \n",
              "9   138       38     176           2                  872        4         \n",
              "10  112       11     117           0                  958        0         \n",
              "11  115        5     119           0                  887        2         \n",
              "12  160       20     225           5                 1048        0         \n",
              "13   78       19     168           1                  590        0         \n",
              "14   54       15      94           1                  363        1         \n",
              "15  130       13     115           0                 1161        1         \n",
              "16  132       43     124           1                 1399        1         \n",
              "17  105       17     167           0                 1105        3         \n",
              "18   35       16     101           0                  395        1         \n",
              "19   43       13      58           0                  236        1         \n",
              "20   10        0       6           0                   36        0         \n",
              "21  113       12     122           0                 1120        3         \n",
              "22   21        2      42           0                  120        0         \n",
              "23   36        3      41           0                  299        0         \n",
              "24   24        3      40           0                  242        0         \n",
              "25   11        2      16           0                   76        0         \n",
              "26  174       21     167           0                 1830        2         \n",
              "27  185       17     188           1                 1018        1         \n",
              "28   80       18     190           1                  638        1         \n",
              "29   26       10      66           0                  222        0         \n",
              "30    1        1       5           0                   63        0         \n",
              "⋮   ⋮         ⋮      ⋮             ⋮                 ⋮           ⋮         \n",
              "80   32       10      59           0                  273        0         \n",
              "81   33        4      28           0                   77        0         \n",
              "82   79        5     135           0                 1226        1         \n",
              "83   35       25     107           0                  341        0         \n",
              "84   61       10     137           1                  593        2         \n",
              "85   35       42     133           0                  337        1         \n",
              "86   33       23      57           1                  305        0         \n",
              "87   70       33     142           1                  374        2         \n",
              "88   68       37     109           0                  480        0         \n",
              "89   56       19     119           1                  311        1         \n",
              "90   53        5     103           0                  331        0         \n",
              "91   59       21     204           1                  955        3         \n",
              "92   93       20     111           0                  617        0         \n",
              "93   64       18     195           3                  582        0         \n",
              "94   49        9      91           0                  422        1         \n",
              "95   76       24     187           2                  758        0         \n",
              "96  138       50     152           0                 1771        0         \n",
              "97   51        4      90           0                  590        0         \n",
              "98    6        6      40           0                   76        0         \n",
              "99  169       28     139           0                  854        2         \n",
              "100  28       16      73           0                  220        0         \n",
              "101  44        5      83           0                  296        1         \n",
              "102 203       42     116           0                 1409        3         \n",
              "103 120       15     143           0                  762        4         \n",
              "104  41        1      47           0                  107        0         \n",
              "105   2        2      15           0                   70        0         \n",
              "106   1        0       2           0                    8        0         \n",
              "107 107       19     107           1                 1028        1         \n",
              "108  29        0      11           0                   67        0         \n",
              "109   5        1      17           0                   29        0         \n",
              "    Ejections FlagrantFouls GamesStarted\n",
              "1   0         0              0          \n",
              "2   0         0             57          \n",
              "3   0         0             56          \n",
              "4   0         0              0          \n",
              "5   0         0             15          \n",
              "6   0         0              9          \n",
              "7   0         0              0          \n",
              "8   0         0              1          \n",
              "9   0         0             68          \n",
              "10  0         0             35          \n",
              "11  0         0             39          \n",
              "12  0         0             51          \n",
              "13  0         0             12          \n",
              "14  0         0              6          \n",
              "15  0         0             66          \n",
              "16  0         0             67          \n",
              "17  0         0             76          \n",
              "18  0         0              3          \n",
              "19  0         0              1          \n",
              "20  0         0              0          \n",
              "21  0         0              5          \n",
              "22  0         0              3          \n",
              "23  0         0              9          \n",
              "24  0         0              0          \n",
              "25  0         0             11          \n",
              "26  0         0             78          \n",
              "27  0         0             72          \n",
              "28  0         0             41          \n",
              "29  0         0             30          \n",
              "30  0         0              0          \n",
              "⋮   ⋮         ⋮             ⋮           \n",
              "80  0         0             24          \n",
              "81  0         0              0          \n",
              "82  0         0             75          \n",
              "83  0         0              2          \n",
              "84  0         0              7          \n",
              "85  0         0             70          \n",
              "86  0         0             25          \n",
              "87  0         0             40          \n",
              "88  0         0             11          \n",
              "89  0         0              5          \n",
              "90  0         0              2          \n",
              "91  0         0             77          \n",
              "92  0         0             35          \n",
              "93  0         0             43          \n",
              "94  0         0              7          \n",
              "95  0         0             17          \n",
              "96  0         0             80          \n",
              "97  0         0              8          \n",
              "98  0         0              0          \n",
              "99  0         0             12          \n",
              "100 0         0              6          \n",
              "101 0         0             25          \n",
              "102 0         0             73          \n",
              "103 0         0             15          \n",
              "104 0         0              0          \n",
              "105 0         0              0          \n",
              "106 0         0              0          \n",
              "107 0         0             35          \n",
              "108 0         0              3          \n",
              "109 0         0              0          "
            ],
            "text/latex": "A data.table: 109 × 25\n\\begin{tabular}{lllllllllllllllllllll}\n League & Name & Team & Position & GamesPlayed & TotalMinutesPlayed & FieldGoalsMade & FieldGoalsAttempted & ThreesMade & ThreesAttempted & ⋯ & Steals & Turnovers & Blocks & PersonalFouls & Disqualifications & TotalPoints & Technicals & Ejections & FlagrantFouls & GamesStarted\\\\\n <fct> & <chr> & <fct> & <fct> & <int> & <int> & <int> & <int> & <int> & <int> & ⋯ & <int> & <int> & <int> & <int> & <int> & <int> & <int> & <int> & <int> & <int>\\\\\n\\hline\n\t NBA & Jordan Adams     & MEM & SG &  2 &   15 &   2 &    6 &   0 &   1 & ⋯ &   3 &   2 &  0 &   2 & 0 &    7 & 0 & 0 & 0 &  0\\\\\n\t NBA & Arron Afflalo    & NYK & SG & 71 & 2359 & 354 &  799 &  91 & 238 & ⋯ &  25 &  82 & 10 & 142 & 1 &  909 & 1 & 0 & 0 & 57\\\\\n\t NBA & Tony Allen       & MEM & SG & 64 & 1622 & 215 &  469 &  15 &  42 & ⋯ & 109 &  78 & 18 & 175 & 1 &  535 & 1 & 0 & 0 & 56\\\\\n\t NBA & Alan Anderson    & WAS & SG & 13 &  193 &  21 &   59 &  12 &  37 & ⋯ &   4 &   2 &  1 &  25 & 0 &   65 & 0 & 0 & 0 &  0\\\\\n\t NBA & James Anderson   & SAC & SG & 51 &  721 &  67 &  178 &  23 &  86 & ⋯ &  21 &  42 & 14 &  54 & 0 &  179 & 0 & 0 & 0 & 15\\\\\n\t NBA & Justin Anderson  & DAL & SG & 55 &  644 &  71 &  176 &  22 &  83 & ⋯ &  19 &  24 & 25 &  45 & 0 &  208 & 0 & 0 & 0 &  9\\\\\n\t NBA & Leandro Barbosa  & GSW & SG & 68 & 1079 & 171 &  370 &  39 & 111 & ⋯ &  44 &  53 & 10 & 107 & 0 &  433 & 1 & 0 & 0 &  0\\\\\n\t NBA & Will Barton      & DEN & SG & 82 & 2355 & 426 &  984 & 112 & 324 & ⋯ &  71 & 139 & 39 & 147 & 0 & 1180 & 2 & 0 & 0 &  1\\\\\n\t NBA & Kent Bazemore    & ATL & SG & 75 & 2077 & 320 &  724 & 109 & 304 & ⋯ &  98 & 138 & 38 & 176 & 2 &  872 & 4 & 0 & 0 & 68\\\\\n\t NBA & Bradley Beal     & WAS & SG & 55 & 1709 & 359 &  799 & 105 & 271 & ⋯ &  54 & 112 & 11 & 117 & 0 &  958 & 0 & 0 & 0 & 35\\\\\n\t NBA & Bojan Bogdanovic & BRO & SG & 79 & 2114 & 324 &  749 & 129 & 337 & ⋯ &  29 & 115 &  5 & 119 & 0 &  887 & 2 & 0 & 0 & 39\\\\\n\t NBA & Devin Booker     & PHO & SG & 76 & 2110 & 367 &  867 &  99 & 289 & ⋯ &  44 & 160 & 20 & 225 & 5 & 1048 & 0 & 0 & 0 & 51\\\\\n\t NBA & Corey Brewer     & HOU & SG & 82 & 1670 & 212 &  552 &  61 & 225 & ⋯ &  84 &  78 & 19 & 168 & 1 &  590 & 0 & 0 & 0 & 12\\\\\n\t NBA & Markel Brown     & BRO & SG & 62 &  989 & 127 &  322 &  38 & 121 & ⋯ &  38 &  54 & 15 &  94 & 1 &  363 & 1 & 0 & 0 &  6\\\\\n\t NBA & Kobe Bryant      & LAL & SG & 66 & 1861 & 398 & 1112 & 133 & 466 & ⋯ &  62 & 130 & 13 & 115 & 0 & 1161 & 1 & 0 & 0 & 66\\\\\n\t NBA & Jimmy Butler     & CHI & SG & 67 & 2473 & 470 & 1034 &  64 & 206 & ⋯ & 110 & 132 & 43 & 124 & 1 & 1399 & 1 & 0 & 0 & 67\\\\\n\t NBA & Ke Caldwell-pope & DET & SG & 76 & 2789 & 403 &  960 & 114 & 368 & ⋯ & 110 & 105 & 17 & 167 & 0 & 1105 & 3 & 0 & 0 & 76\\\\\n\t NBA & Vince Carter     & MEM & SG & 60 & 1009 & 133 &  343 &  59 & 169 & ⋯ &  38 &  35 & 16 & 101 & 0 &  395 & 1 & 0 & 0 &  3\\\\\n\t NBA & Ian Clark        & GSW & SG & 66 &  579 &  89 &  202 &  30 &  84 & ⋯ &  17 &  43 & 13 &  58 & 0 &  236 & 1 & 0 & 0 &  1\\\\\n\t NBA & Pat Connaughton  & POR & SG & 34 &  147 &  13 &   49 &   5 &  21 & ⋯ &   2 &  10 &  0 &   6 & 0 &   36 & 0 & 0 & 0 &  0\\\\\n\t NBA & Jamal Crawford   & LAC & SG & 79 & 2126 & 379 &  940 & 117 & 345 & ⋯ &  52 & 113 & 12 & 122 & 0 & 1120 & 3 & 0 & 0 &  5\\\\\n\t NBA & Jared Cunningham & MIL & SG & 45 &  415 &  36 &  105 &  12 &  39 & ⋯ &  14 &  21 &  2 &  42 & 0 &  120 & 0 & 0 & 0 &  3\\\\\n\t NBA & Seth Curry       & SAC & SG & 44 &  694 & 102 &  224 &  50 & 111 & ⋯ &  22 &  36 &  3 &  41 & 0 &  299 & 0 & 0 & 0 &  9\\\\\n\t NBA & Troy Daniels     & CHA & SG & 43 &  478 &  89 &  187 &  59 & 122 & ⋯ &  11 &  24 &  3 &  40 & 0 &  242 & 0 & 0 & 0 &  0\\\\\n\t NBA & Bry Dejean-jones & NOR & SG & 11 &  271 &  27 &   67 &  11 &  30 & ⋯ &  10 &  11 &  2 &  16 & 0 &   76 & 0 & 0 & 0 & 11\\\\\n\t NBA & Demar Derozan    & TOR & SG & 78 & 2804 & 614 & 1377 &  47 & 139 & ⋯ &  82 & 174 & 21 & 167 & 0 & 1830 & 2 & 0 & 0 & 78\\\\\n\t NBA & Goran Dragic     & MIA & SG & 72 & 2362 & 417 &  875 &  64 & 205 & ⋯ &  71 & 185 & 17 & 188 & 1 & 1018 & 1 & 0 & 0 & 72\\\\\n\t NBA & Jared Dudley     & WAS & SG & 81 & 2098 & 233 &  487 & 100 & 239 & ⋯ &  75 &  80 & 18 & 190 & 1 &  638 & 1 & 0 & 0 & 41\\\\\n\t NBA & Mike Dunleavy    & CHI & SG & 31 &  702 &  77 &  188 &  39 &  99 & ⋯ &  14 &  26 & 10 &  66 & 0 &  222 & 0 & 0 & 0 & 30\\\\\n\t NBA & Jarell Eddie     & WAS & SG & 26 &  147 &  20 &   65 &  15 &  47 & ⋯ &   5 &   1 &  1 &   5 & 0 &   63 & 0 & 0 & 0 &  0\\\\\n\t ⋮ & ⋮ & ⋮ & ⋮ & ⋮ & ⋮ & ⋮ & ⋮ & ⋮ & ⋮ & ⋱ & ⋮ & ⋮ & ⋮ & ⋮ & ⋮ & ⋮ & ⋮ & ⋮ & ⋮ & ⋮\\\\\n\t NBA & Norman Powell    & TOR & SG & 49 &  729 &  97 &  229 &  36 &  88 & ⋯ & 29 &  32 & 10 &  59 & 0 &  273 & 0 & 0 & 0 & 24\\\\\n\t NBA & Phil Pressey     & PHO & SG & 22 &  280 &  30 &   77 &   4 &  17 & ⋯ & 17 &  33 &  4 &  28 & 0 &   77 & 0 & 0 & 0 &  0\\\\\n\t NBA & J.j. Redick      & LAC & SG & 75 & 2098 & 422 &  880 & 200 & 420 & ⋯ & 42 &  79 &  5 & 135 & 0 & 1226 & 1 & 0 & 0 & 75\\\\\n\t NBA & Josh Richardson  & MIA & SG & 52 & 1105 & 123 &  272 &  53 & 115 & ⋯ & 36 &  35 & 25 & 107 & 0 &  341 & 0 & 0 & 0 &  2\\\\\n\t NBA & Austin Rivers    & LAC & SG & 67 & 1466 & 226 &  516 &  62 & 185 & ⋯ & 48 &  61 & 10 & 137 & 1 &  593 & 2 & 0 & 0 &  7\\\\\n\t NBA & Andre Roberson   & OKL & SG & 70 & 1552 & 136 &  274 &  32 & 103 & ⋯ & 54 &  35 & 42 & 133 & 0 &  337 & 1 & 0 & 0 & 70\\\\\n\t NBA & Brandon Rush     & GSW & SG & 72 & 1050 & 111 &  260 &  65 & 157 & ⋯ & 21 &  33 & 23 &  57 & 1 &  305 & 0 & 0 & 0 & 25\\\\\n\t NBA & Jakarr Sampson   & DEN & SG & 73 & 1166 & 140 &  318 &  14 &  63 & ⋯ & 23 &  70 & 33 & 142 & 1 &  374 & 2 & 0 & 0 & 40\\\\\n\t NBA & Thabo Sefolosha  & ATL & SG & 75 & 1749 & 188 &  374 &  42 & 125 & ⋯ & 84 &  68 & 37 & 109 & 0 &  480 & 0 & 0 & 0 & 11\\\\\n\t NBA & Iman Shumpert    & CLE & SG & 54 & 1319 & 114 &  305 &  43 & 146 & ⋯ & 54 &  56 & 19 & 119 & 1 &  311 & 1 & 0 & 0 &  5\\\\\n\t NBA & Jonathon Simmons & SAN & SG & 55 &  811 & 122 &  241 &  18 &  47 & ⋯ & 24 &  53 &  5 & 103 & 0 &  331 & 0 & 0 & 0 &  2\\\\\n\t NBA & J.r. Smith       & CLE & SG & 77 & 2367 & 353 &  849 & 204 & 510 & ⋯ & 81 &  59 & 21 & 204 & 1 &  955 & 3 & 0 & 0 & 77\\\\\n\t NBA & Nik Stauskas     & PHI & SG & 73 & 1798 & 210 &  542 & 106 & 324 & ⋯ & 44 &  93 & 20 & 111 & 0 &  617 & 0 & 0 & 0 & 35\\\\\n\t NBA & Garrett Temple   & WAS & SG & 80 & 1951 & 201 &  505 &  89 & 257 & ⋯ & 69 &  64 & 18 & 195 & 3 &  582 & 0 & 0 & 0 & 43\\\\\n\t NBA & Jason Terry      & HOU & SG & 72 & 1261 & 151 &  376 &  93 & 261 & ⋯ & 47 &  49 &  9 &  91 & 0 &  422 & 1 & 0 & 0 &  7\\\\\n\t NBA & Hollis Thompson  & PHI & SG & 77 & 2158 & 270 &  681 & 149 & 393 & ⋯ & 36 &  76 & 24 & 187 & 2 &  758 & 0 & 0 & 0 & 17\\\\\n\t NBA & Klay Thompson    & GSW & SG & 80 & 2661 & 651 & 1386 & 276 & 648 & ⋯ & 60 & 138 & 50 & 152 & 0 & 1771 & 0 & 0 & 0 & 80\\\\\n\t NBA & Marcus Thornton  & WAS & SG & 61 & 1110 & 216 &  542 &  91 & 271 & ⋯ & 47 &  51 &  4 &  90 & 0 &  590 & 0 & 0 & 0 &  8\\\\\n\t NBA & Axel Toupane     & DEN & SG & 21 &  307 &  25 &   70 &  13 &  40 & ⋯ &  7 &   6 &  6 &  40 & 0 &   76 & 0 & 0 & 0 &  0\\\\\n\t NBA & Evan Turner      & BOS & SG & 81 & 2270 & 343 &  753 &  20 &  83 & ⋯ & 80 & 169 & 28 & 139 & 0 &  854 & 2 & 0 & 0 & 12\\\\\n\t NBA & Rashad Vaughn    & MIL & SG & 70 & 1000 &  82 &  266 &  44 & 147 & ⋯ & 29 &  28 & 16 &  73 & 0 &  220 & 0 & 0 & 0 &  6\\\\\n\t NBA & Sasha Vujacic    & NYK & SG & 61 &  910 & 106 &  277 &  52 & 143 & ⋯ & 34 &  44 &  5 &  83 & 0 &  296 & 1 & 0 & 0 & 25\\\\\n\t NBA & Dwyane Wade      & MIA & SG & 74 & 2258 & 540 & 1183 &   7 &  44 & ⋯ & 79 & 203 & 42 & 116 & 0 & 1409 & 3 & 0 & 0 & 73\\\\\n\t NBA & Dion Waiters     & OKL & SG & 78 & 2157 & 282 &  705 &  86 & 241 & ⋯ & 81 & 120 & 15 & 143 & 0 &  762 & 4 & 0 & 0 & 15\\\\\n\t NBA & Sonny Weems      & PHI & SG & 43 &  501 &  42 &  111 &  15 &  42 & ⋯ & 10 &  41 &  1 &  47 & 0 &  107 & 0 & 0 & 0 &  0\\\\\n\t NBA & C.j. Wilcox      & LAC & SG & 23 &  168 &  26 &   66 &   9 &  23 & ⋯ & 10 &   2 &  2 &  15 & 0 &   70 & 0 & 0 & 0 &  0\\\\\n\t NBA & Elliot Williams  & MEM & SG &  5 &   46 &   2 &   10 &   1 &   4 & ⋯ &  1 &   1 &  0 &   2 & 0 &    8 & 0 & 0 & 0 &  0\\\\\n\t NBA & Louis Williams   & LAL & SG & 67 & 1911 & 283 &  695 & 110 & 321 & ⋯ & 62 & 107 & 19 & 107 & 1 & 1028 & 1 & 0 & 0 & 35\\\\\n\t NBA & Tony Wroten      & PHI & SG &  8 &  145 &  22 &   65 &   3 &  17 & ⋯ &  3 &  29 &  0 &  11 & 0 &   67 & 0 & 0 & 0 &  3\\\\\n\t NBA & James Young      & BOS & SG & 29 &  200 &  11 &   36 &   6 &  26 & ⋯ &  6 &   5 &  1 &  17 & 0 &   29 & 0 & 0 & 0 &  0\\\\\n\\end{tabular}\n",
            "text/markdown": "\nA data.table: 109 × 25\n\n| League &lt;fct&gt; | Name &lt;chr&gt; | Team &lt;fct&gt; | Position &lt;fct&gt; | GamesPlayed &lt;int&gt; | TotalMinutesPlayed &lt;int&gt; | FieldGoalsMade &lt;int&gt; | FieldGoalsAttempted &lt;int&gt; | ThreesMade &lt;int&gt; | ThreesAttempted &lt;int&gt; | ⋯ ⋯ | Steals &lt;int&gt; | Turnovers &lt;int&gt; | Blocks &lt;int&gt; | PersonalFouls &lt;int&gt; | Disqualifications &lt;int&gt; | TotalPoints &lt;int&gt; | Technicals &lt;int&gt; | Ejections &lt;int&gt; | FlagrantFouls &lt;int&gt; | GamesStarted &lt;int&gt; |\n|---|---|---|---|---|---|---|---|---|---|---|---|---|---|---|---|---|---|---|---|---|\n| NBA | Jordan Adams     | MEM | SG |  2 |   15 |   2 |    6 |   0 |   1 | ⋯ |   3 |   2 |  0 |   2 | 0 |    7 | 0 | 0 | 0 |  0 |\n| NBA | Arron Afflalo    | NYK | SG | 71 | 2359 | 354 |  799 |  91 | 238 | ⋯ |  25 |  82 | 10 | 142 | 1 |  909 | 1 | 0 | 0 | 57 |\n| NBA | Tony Allen       | MEM | SG | 64 | 1622 | 215 |  469 |  15 |  42 | ⋯ | 109 |  78 | 18 | 175 | 1 |  535 | 1 | 0 | 0 | 56 |\n| NBA | Alan Anderson    | WAS | SG | 13 |  193 |  21 |   59 |  12 |  37 | ⋯ |   4 |   2 |  1 |  25 | 0 |   65 | 0 | 0 | 0 |  0 |\n| NBA | James Anderson   | SAC | SG | 51 |  721 |  67 |  178 |  23 |  86 | ⋯ |  21 |  42 | 14 |  54 | 0 |  179 | 0 | 0 | 0 | 15 |\n| NBA | Justin Anderson  | DAL | SG | 55 |  644 |  71 |  176 |  22 |  83 | ⋯ |  19 |  24 | 25 |  45 | 0 |  208 | 0 | 0 | 0 |  9 |\n| NBA | Leandro Barbosa  | GSW | SG | 68 | 1079 | 171 |  370 |  39 | 111 | ⋯ |  44 |  53 | 10 | 107 | 0 |  433 | 1 | 0 | 0 |  0 |\n| NBA | Will Barton      | DEN | SG | 82 | 2355 | 426 |  984 | 112 | 324 | ⋯ |  71 | 139 | 39 | 147 | 0 | 1180 | 2 | 0 | 0 |  1 |\n| NBA | Kent Bazemore    | ATL | SG | 75 | 2077 | 320 |  724 | 109 | 304 | ⋯ |  98 | 138 | 38 | 176 | 2 |  872 | 4 | 0 | 0 | 68 |\n| NBA | Bradley Beal     | WAS | SG | 55 | 1709 | 359 |  799 | 105 | 271 | ⋯ |  54 | 112 | 11 | 117 | 0 |  958 | 0 | 0 | 0 | 35 |\n| NBA | Bojan Bogdanovic | BRO | SG | 79 | 2114 | 324 |  749 | 129 | 337 | ⋯ |  29 | 115 |  5 | 119 | 0 |  887 | 2 | 0 | 0 | 39 |\n| NBA | Devin Booker     | PHO | SG | 76 | 2110 | 367 |  867 |  99 | 289 | ⋯ |  44 | 160 | 20 | 225 | 5 | 1048 | 0 | 0 | 0 | 51 |\n| NBA | Corey Brewer     | HOU | SG | 82 | 1670 | 212 |  552 |  61 | 225 | ⋯ |  84 |  78 | 19 | 168 | 1 |  590 | 0 | 0 | 0 | 12 |\n| NBA | Markel Brown     | BRO | SG | 62 |  989 | 127 |  322 |  38 | 121 | ⋯ |  38 |  54 | 15 |  94 | 1 |  363 | 1 | 0 | 0 |  6 |\n| NBA | Kobe Bryant      | LAL | SG | 66 | 1861 | 398 | 1112 | 133 | 466 | ⋯ |  62 | 130 | 13 | 115 | 0 | 1161 | 1 | 0 | 0 | 66 |\n| NBA | Jimmy Butler     | CHI | SG | 67 | 2473 | 470 | 1034 |  64 | 206 | ⋯ | 110 | 132 | 43 | 124 | 1 | 1399 | 1 | 0 | 0 | 67 |\n| NBA | Ke Caldwell-pope | DET | SG | 76 | 2789 | 403 |  960 | 114 | 368 | ⋯ | 110 | 105 | 17 | 167 | 0 | 1105 | 3 | 0 | 0 | 76 |\n| NBA | Vince Carter     | MEM | SG | 60 | 1009 | 133 |  343 |  59 | 169 | ⋯ |  38 |  35 | 16 | 101 | 0 |  395 | 1 | 0 | 0 |  3 |\n| NBA | Ian Clark        | GSW | SG | 66 |  579 |  89 |  202 |  30 |  84 | ⋯ |  17 |  43 | 13 |  58 | 0 |  236 | 1 | 0 | 0 |  1 |\n| NBA | Pat Connaughton  | POR | SG | 34 |  147 |  13 |   49 |   5 |  21 | ⋯ |   2 |  10 |  0 |   6 | 0 |   36 | 0 | 0 | 0 |  0 |\n| NBA | Jamal Crawford   | LAC | SG | 79 | 2126 | 379 |  940 | 117 | 345 | ⋯ |  52 | 113 | 12 | 122 | 0 | 1120 | 3 | 0 | 0 |  5 |\n| NBA | Jared Cunningham | MIL | SG | 45 |  415 |  36 |  105 |  12 |  39 | ⋯ |  14 |  21 |  2 |  42 | 0 |  120 | 0 | 0 | 0 |  3 |\n| NBA | Seth Curry       | SAC | SG | 44 |  694 | 102 |  224 |  50 | 111 | ⋯ |  22 |  36 |  3 |  41 | 0 |  299 | 0 | 0 | 0 |  9 |\n| NBA | Troy Daniels     | CHA | SG | 43 |  478 |  89 |  187 |  59 | 122 | ⋯ |  11 |  24 |  3 |  40 | 0 |  242 | 0 | 0 | 0 |  0 |\n| NBA | Bry Dejean-jones | NOR | SG | 11 |  271 |  27 |   67 |  11 |  30 | ⋯ |  10 |  11 |  2 |  16 | 0 |   76 | 0 | 0 | 0 | 11 |\n| NBA | Demar Derozan    | TOR | SG | 78 | 2804 | 614 | 1377 |  47 | 139 | ⋯ |  82 | 174 | 21 | 167 | 0 | 1830 | 2 | 0 | 0 | 78 |\n| NBA | Goran Dragic     | MIA | SG | 72 | 2362 | 417 |  875 |  64 | 205 | ⋯ |  71 | 185 | 17 | 188 | 1 | 1018 | 1 | 0 | 0 | 72 |\n| NBA | Jared Dudley     | WAS | SG | 81 | 2098 | 233 |  487 | 100 | 239 | ⋯ |  75 |  80 | 18 | 190 | 1 |  638 | 1 | 0 | 0 | 41 |\n| NBA | Mike Dunleavy    | CHI | SG | 31 |  702 |  77 |  188 |  39 |  99 | ⋯ |  14 |  26 | 10 |  66 | 0 |  222 | 0 | 0 | 0 | 30 |\n| NBA | Jarell Eddie     | WAS | SG | 26 |  147 |  20 |   65 |  15 |  47 | ⋯ |   5 |   1 |  1 |   5 | 0 |   63 | 0 | 0 | 0 |  0 |\n| ⋮ | ⋮ | ⋮ | ⋮ | ⋮ | ⋮ | ⋮ | ⋮ | ⋮ | ⋮ | ⋱ | ⋮ | ⋮ | ⋮ | ⋮ | ⋮ | ⋮ | ⋮ | ⋮ | ⋮ | ⋮ |\n| NBA | Norman Powell    | TOR | SG | 49 |  729 |  97 |  229 |  36 |  88 | ⋯ | 29 |  32 | 10 |  59 | 0 |  273 | 0 | 0 | 0 | 24 |\n| NBA | Phil Pressey     | PHO | SG | 22 |  280 |  30 |   77 |   4 |  17 | ⋯ | 17 |  33 |  4 |  28 | 0 |   77 | 0 | 0 | 0 |  0 |\n| NBA | J.j. Redick      | LAC | SG | 75 | 2098 | 422 |  880 | 200 | 420 | ⋯ | 42 |  79 |  5 | 135 | 0 | 1226 | 1 | 0 | 0 | 75 |\n| NBA | Josh Richardson  | MIA | SG | 52 | 1105 | 123 |  272 |  53 | 115 | ⋯ | 36 |  35 | 25 | 107 | 0 |  341 | 0 | 0 | 0 |  2 |\n| NBA | Austin Rivers    | LAC | SG | 67 | 1466 | 226 |  516 |  62 | 185 | ⋯ | 48 |  61 | 10 | 137 | 1 |  593 | 2 | 0 | 0 |  7 |\n| NBA | Andre Roberson   | OKL | SG | 70 | 1552 | 136 |  274 |  32 | 103 | ⋯ | 54 |  35 | 42 | 133 | 0 |  337 | 1 | 0 | 0 | 70 |\n| NBA | Brandon Rush     | GSW | SG | 72 | 1050 | 111 |  260 |  65 | 157 | ⋯ | 21 |  33 | 23 |  57 | 1 |  305 | 0 | 0 | 0 | 25 |\n| NBA | Jakarr Sampson   | DEN | SG | 73 | 1166 | 140 |  318 |  14 |  63 | ⋯ | 23 |  70 | 33 | 142 | 1 |  374 | 2 | 0 | 0 | 40 |\n| NBA | Thabo Sefolosha  | ATL | SG | 75 | 1749 | 188 |  374 |  42 | 125 | ⋯ | 84 |  68 | 37 | 109 | 0 |  480 | 0 | 0 | 0 | 11 |\n| NBA | Iman Shumpert    | CLE | SG | 54 | 1319 | 114 |  305 |  43 | 146 | ⋯ | 54 |  56 | 19 | 119 | 1 |  311 | 1 | 0 | 0 |  5 |\n| NBA | Jonathon Simmons | SAN | SG | 55 |  811 | 122 |  241 |  18 |  47 | ⋯ | 24 |  53 |  5 | 103 | 0 |  331 | 0 | 0 | 0 |  2 |\n| NBA | J.r. Smith       | CLE | SG | 77 | 2367 | 353 |  849 | 204 | 510 | ⋯ | 81 |  59 | 21 | 204 | 1 |  955 | 3 | 0 | 0 | 77 |\n| NBA | Nik Stauskas     | PHI | SG | 73 | 1798 | 210 |  542 | 106 | 324 | ⋯ | 44 |  93 | 20 | 111 | 0 |  617 | 0 | 0 | 0 | 35 |\n| NBA | Garrett Temple   | WAS | SG | 80 | 1951 | 201 |  505 |  89 | 257 | ⋯ | 69 |  64 | 18 | 195 | 3 |  582 | 0 | 0 | 0 | 43 |\n| NBA | Jason Terry      | HOU | SG | 72 | 1261 | 151 |  376 |  93 | 261 | ⋯ | 47 |  49 |  9 |  91 | 0 |  422 | 1 | 0 | 0 |  7 |\n| NBA | Hollis Thompson  | PHI | SG | 77 | 2158 | 270 |  681 | 149 | 393 | ⋯ | 36 |  76 | 24 | 187 | 2 |  758 | 0 | 0 | 0 | 17 |\n| NBA | Klay Thompson    | GSW | SG | 80 | 2661 | 651 | 1386 | 276 | 648 | ⋯ | 60 | 138 | 50 | 152 | 0 | 1771 | 0 | 0 | 0 | 80 |\n| NBA | Marcus Thornton  | WAS | SG | 61 | 1110 | 216 |  542 |  91 | 271 | ⋯ | 47 |  51 |  4 |  90 | 0 |  590 | 0 | 0 | 0 |  8 |\n| NBA | Axel Toupane     | DEN | SG | 21 |  307 |  25 |   70 |  13 |  40 | ⋯ |  7 |   6 |  6 |  40 | 0 |   76 | 0 | 0 | 0 |  0 |\n| NBA | Evan Turner      | BOS | SG | 81 | 2270 | 343 |  753 |  20 |  83 | ⋯ | 80 | 169 | 28 | 139 | 0 |  854 | 2 | 0 | 0 | 12 |\n| NBA | Rashad Vaughn    | MIL | SG | 70 | 1000 |  82 |  266 |  44 | 147 | ⋯ | 29 |  28 | 16 |  73 | 0 |  220 | 0 | 0 | 0 |  6 |\n| NBA | Sasha Vujacic    | NYK | SG | 61 |  910 | 106 |  277 |  52 | 143 | ⋯ | 34 |  44 |  5 |  83 | 0 |  296 | 1 | 0 | 0 | 25 |\n| NBA | Dwyane Wade      | MIA | SG | 74 | 2258 | 540 | 1183 |   7 |  44 | ⋯ | 79 | 203 | 42 | 116 | 0 | 1409 | 3 | 0 | 0 | 73 |\n| NBA | Dion Waiters     | OKL | SG | 78 | 2157 | 282 |  705 |  86 | 241 | ⋯ | 81 | 120 | 15 | 143 | 0 |  762 | 4 | 0 | 0 | 15 |\n| NBA | Sonny Weems      | PHI | SG | 43 |  501 |  42 |  111 |  15 |  42 | ⋯ | 10 |  41 |  1 |  47 | 0 |  107 | 0 | 0 | 0 |  0 |\n| NBA | C.j. Wilcox      | LAC | SG | 23 |  168 |  26 |   66 |   9 |  23 | ⋯ | 10 |   2 |  2 |  15 | 0 |   70 | 0 | 0 | 0 |  0 |\n| NBA | Elliot Williams  | MEM | SG |  5 |   46 |   2 |   10 |   1 |   4 | ⋯ |  1 |   1 |  0 |   2 | 0 |    8 | 0 | 0 | 0 |  0 |\n| NBA | Louis Williams   | LAL | SG | 67 | 1911 | 283 |  695 | 110 | 321 | ⋯ | 62 | 107 | 19 | 107 | 1 | 1028 | 1 | 0 | 0 | 35 |\n| NBA | Tony Wroten      | PHI | SG |  8 |  145 |  22 |   65 |   3 |  17 | ⋯ |  3 |  29 |  0 |  11 | 0 |   67 | 0 | 0 | 0 |  3 |\n| NBA | James Young      | BOS | SG | 29 |  200 |  11 |   36 |   6 |  26 | ⋯ |  6 |   5 |  1 |  17 | 0 |   29 | 0 | 0 | 0 |  0 |\n\n",
            "text/html": [
              "<table>\n",
              "<caption>A data.table: 109 × 25</caption>\n",
              "<thead>\n",
              "\t<tr><th scope=col>League</th><th scope=col>Name</th><th scope=col>Team</th><th scope=col>Position</th><th scope=col>GamesPlayed</th><th scope=col>TotalMinutesPlayed</th><th scope=col>FieldGoalsMade</th><th scope=col>FieldGoalsAttempted</th><th scope=col>ThreesMade</th><th scope=col>ThreesAttempted</th><th scope=col>⋯</th><th scope=col>Steals</th><th scope=col>Turnovers</th><th scope=col>Blocks</th><th scope=col>PersonalFouls</th><th scope=col>Disqualifications</th><th scope=col>TotalPoints</th><th scope=col>Technicals</th><th scope=col>Ejections</th><th scope=col>FlagrantFouls</th><th scope=col>GamesStarted</th></tr>\n",
              "\t<tr><th scope=col>&lt;fct&gt;</th><th scope=col>&lt;chr&gt;</th><th scope=col>&lt;fct&gt;</th><th scope=col>&lt;fct&gt;</th><th scope=col>&lt;int&gt;</th><th scope=col>&lt;int&gt;</th><th scope=col>&lt;int&gt;</th><th scope=col>&lt;int&gt;</th><th scope=col>&lt;int&gt;</th><th scope=col>&lt;int&gt;</th><th scope=col>⋯</th><th scope=col>&lt;int&gt;</th><th scope=col>&lt;int&gt;</th><th scope=col>&lt;int&gt;</th><th scope=col>&lt;int&gt;</th><th scope=col>&lt;int&gt;</th><th scope=col>&lt;int&gt;</th><th scope=col>&lt;int&gt;</th><th scope=col>&lt;int&gt;</th><th scope=col>&lt;int&gt;</th><th scope=col>&lt;int&gt;</th></tr>\n",
              "</thead>\n",
              "<tbody>\n",
              "\t<tr><td>NBA</td><td>Jordan Adams    </td><td>MEM</td><td>SG</td><td> 2</td><td>  15</td><td>  2</td><td>   6</td><td>  0</td><td>  1</td><td>⋯</td><td>  3</td><td>  2</td><td> 0</td><td>  2</td><td>0</td><td>   7</td><td>0</td><td>0</td><td>0</td><td> 0</td></tr>\n",
              "\t<tr><td>NBA</td><td>Arron Afflalo   </td><td>NYK</td><td>SG</td><td>71</td><td>2359</td><td>354</td><td> 799</td><td> 91</td><td>238</td><td>⋯</td><td> 25</td><td> 82</td><td>10</td><td>142</td><td>1</td><td> 909</td><td>1</td><td>0</td><td>0</td><td>57</td></tr>\n",
              "\t<tr><td>NBA</td><td>Tony Allen      </td><td>MEM</td><td>SG</td><td>64</td><td>1622</td><td>215</td><td> 469</td><td> 15</td><td> 42</td><td>⋯</td><td>109</td><td> 78</td><td>18</td><td>175</td><td>1</td><td> 535</td><td>1</td><td>0</td><td>0</td><td>56</td></tr>\n",
              "\t<tr><td>NBA</td><td>Alan Anderson   </td><td>WAS</td><td>SG</td><td>13</td><td> 193</td><td> 21</td><td>  59</td><td> 12</td><td> 37</td><td>⋯</td><td>  4</td><td>  2</td><td> 1</td><td> 25</td><td>0</td><td>  65</td><td>0</td><td>0</td><td>0</td><td> 0</td></tr>\n",
              "\t<tr><td>NBA</td><td>James Anderson  </td><td>SAC</td><td>SG</td><td>51</td><td> 721</td><td> 67</td><td> 178</td><td> 23</td><td> 86</td><td>⋯</td><td> 21</td><td> 42</td><td>14</td><td> 54</td><td>0</td><td> 179</td><td>0</td><td>0</td><td>0</td><td>15</td></tr>\n",
              "\t<tr><td>NBA</td><td>Justin Anderson </td><td>DAL</td><td>SG</td><td>55</td><td> 644</td><td> 71</td><td> 176</td><td> 22</td><td> 83</td><td>⋯</td><td> 19</td><td> 24</td><td>25</td><td> 45</td><td>0</td><td> 208</td><td>0</td><td>0</td><td>0</td><td> 9</td></tr>\n",
              "\t<tr><td>NBA</td><td>Leandro Barbosa </td><td>GSW</td><td>SG</td><td>68</td><td>1079</td><td>171</td><td> 370</td><td> 39</td><td>111</td><td>⋯</td><td> 44</td><td> 53</td><td>10</td><td>107</td><td>0</td><td> 433</td><td>1</td><td>0</td><td>0</td><td> 0</td></tr>\n",
              "\t<tr><td>NBA</td><td>Will Barton     </td><td>DEN</td><td>SG</td><td>82</td><td>2355</td><td>426</td><td> 984</td><td>112</td><td>324</td><td>⋯</td><td> 71</td><td>139</td><td>39</td><td>147</td><td>0</td><td>1180</td><td>2</td><td>0</td><td>0</td><td> 1</td></tr>\n",
              "\t<tr><td>NBA</td><td>Kent Bazemore   </td><td>ATL</td><td>SG</td><td>75</td><td>2077</td><td>320</td><td> 724</td><td>109</td><td>304</td><td>⋯</td><td> 98</td><td>138</td><td>38</td><td>176</td><td>2</td><td> 872</td><td>4</td><td>0</td><td>0</td><td>68</td></tr>\n",
              "\t<tr><td>NBA</td><td>Bradley Beal    </td><td>WAS</td><td>SG</td><td>55</td><td>1709</td><td>359</td><td> 799</td><td>105</td><td>271</td><td>⋯</td><td> 54</td><td>112</td><td>11</td><td>117</td><td>0</td><td> 958</td><td>0</td><td>0</td><td>0</td><td>35</td></tr>\n",
              "\t<tr><td>NBA</td><td>Bojan Bogdanovic</td><td>BRO</td><td>SG</td><td>79</td><td>2114</td><td>324</td><td> 749</td><td>129</td><td>337</td><td>⋯</td><td> 29</td><td>115</td><td> 5</td><td>119</td><td>0</td><td> 887</td><td>2</td><td>0</td><td>0</td><td>39</td></tr>\n",
              "\t<tr><td>NBA</td><td>Devin Booker    </td><td>PHO</td><td>SG</td><td>76</td><td>2110</td><td>367</td><td> 867</td><td> 99</td><td>289</td><td>⋯</td><td> 44</td><td>160</td><td>20</td><td>225</td><td>5</td><td>1048</td><td>0</td><td>0</td><td>0</td><td>51</td></tr>\n",
              "\t<tr><td>NBA</td><td>Corey Brewer    </td><td>HOU</td><td>SG</td><td>82</td><td>1670</td><td>212</td><td> 552</td><td> 61</td><td>225</td><td>⋯</td><td> 84</td><td> 78</td><td>19</td><td>168</td><td>1</td><td> 590</td><td>0</td><td>0</td><td>0</td><td>12</td></tr>\n",
              "\t<tr><td>NBA</td><td>Markel Brown    </td><td>BRO</td><td>SG</td><td>62</td><td> 989</td><td>127</td><td> 322</td><td> 38</td><td>121</td><td>⋯</td><td> 38</td><td> 54</td><td>15</td><td> 94</td><td>1</td><td> 363</td><td>1</td><td>0</td><td>0</td><td> 6</td></tr>\n",
              "\t<tr><td>NBA</td><td>Kobe Bryant     </td><td>LAL</td><td>SG</td><td>66</td><td>1861</td><td>398</td><td>1112</td><td>133</td><td>466</td><td>⋯</td><td> 62</td><td>130</td><td>13</td><td>115</td><td>0</td><td>1161</td><td>1</td><td>0</td><td>0</td><td>66</td></tr>\n",
              "\t<tr><td>NBA</td><td>Jimmy Butler    </td><td>CHI</td><td>SG</td><td>67</td><td>2473</td><td>470</td><td>1034</td><td> 64</td><td>206</td><td>⋯</td><td>110</td><td>132</td><td>43</td><td>124</td><td>1</td><td>1399</td><td>1</td><td>0</td><td>0</td><td>67</td></tr>\n",
              "\t<tr><td>NBA</td><td>Ke Caldwell-pope</td><td>DET</td><td>SG</td><td>76</td><td>2789</td><td>403</td><td> 960</td><td>114</td><td>368</td><td>⋯</td><td>110</td><td>105</td><td>17</td><td>167</td><td>0</td><td>1105</td><td>3</td><td>0</td><td>0</td><td>76</td></tr>\n",
              "\t<tr><td>NBA</td><td>Vince Carter    </td><td>MEM</td><td>SG</td><td>60</td><td>1009</td><td>133</td><td> 343</td><td> 59</td><td>169</td><td>⋯</td><td> 38</td><td> 35</td><td>16</td><td>101</td><td>0</td><td> 395</td><td>1</td><td>0</td><td>0</td><td> 3</td></tr>\n",
              "\t<tr><td>NBA</td><td>Ian Clark       </td><td>GSW</td><td>SG</td><td>66</td><td> 579</td><td> 89</td><td> 202</td><td> 30</td><td> 84</td><td>⋯</td><td> 17</td><td> 43</td><td>13</td><td> 58</td><td>0</td><td> 236</td><td>1</td><td>0</td><td>0</td><td> 1</td></tr>\n",
              "\t<tr><td>NBA</td><td>Pat Connaughton </td><td>POR</td><td>SG</td><td>34</td><td> 147</td><td> 13</td><td>  49</td><td>  5</td><td> 21</td><td>⋯</td><td>  2</td><td> 10</td><td> 0</td><td>  6</td><td>0</td><td>  36</td><td>0</td><td>0</td><td>0</td><td> 0</td></tr>\n",
              "\t<tr><td>NBA</td><td>Jamal Crawford  </td><td>LAC</td><td>SG</td><td>79</td><td>2126</td><td>379</td><td> 940</td><td>117</td><td>345</td><td>⋯</td><td> 52</td><td>113</td><td>12</td><td>122</td><td>0</td><td>1120</td><td>3</td><td>0</td><td>0</td><td> 5</td></tr>\n",
              "\t<tr><td>NBA</td><td>Jared Cunningham</td><td>MIL</td><td>SG</td><td>45</td><td> 415</td><td> 36</td><td> 105</td><td> 12</td><td> 39</td><td>⋯</td><td> 14</td><td> 21</td><td> 2</td><td> 42</td><td>0</td><td> 120</td><td>0</td><td>0</td><td>0</td><td> 3</td></tr>\n",
              "\t<tr><td>NBA</td><td>Seth Curry      </td><td>SAC</td><td>SG</td><td>44</td><td> 694</td><td>102</td><td> 224</td><td> 50</td><td>111</td><td>⋯</td><td> 22</td><td> 36</td><td> 3</td><td> 41</td><td>0</td><td> 299</td><td>0</td><td>0</td><td>0</td><td> 9</td></tr>\n",
              "\t<tr><td>NBA</td><td>Troy Daniels    </td><td>CHA</td><td>SG</td><td>43</td><td> 478</td><td> 89</td><td> 187</td><td> 59</td><td>122</td><td>⋯</td><td> 11</td><td> 24</td><td> 3</td><td> 40</td><td>0</td><td> 242</td><td>0</td><td>0</td><td>0</td><td> 0</td></tr>\n",
              "\t<tr><td>NBA</td><td>Bry Dejean-jones</td><td>NOR</td><td>SG</td><td>11</td><td> 271</td><td> 27</td><td>  67</td><td> 11</td><td> 30</td><td>⋯</td><td> 10</td><td> 11</td><td> 2</td><td> 16</td><td>0</td><td>  76</td><td>0</td><td>0</td><td>0</td><td>11</td></tr>\n",
              "\t<tr><td>NBA</td><td>Demar Derozan   </td><td>TOR</td><td>SG</td><td>78</td><td>2804</td><td>614</td><td>1377</td><td> 47</td><td>139</td><td>⋯</td><td> 82</td><td>174</td><td>21</td><td>167</td><td>0</td><td>1830</td><td>2</td><td>0</td><td>0</td><td>78</td></tr>\n",
              "\t<tr><td>NBA</td><td>Goran Dragic    </td><td>MIA</td><td>SG</td><td>72</td><td>2362</td><td>417</td><td> 875</td><td> 64</td><td>205</td><td>⋯</td><td> 71</td><td>185</td><td>17</td><td>188</td><td>1</td><td>1018</td><td>1</td><td>0</td><td>0</td><td>72</td></tr>\n",
              "\t<tr><td>NBA</td><td>Jared Dudley    </td><td>WAS</td><td>SG</td><td>81</td><td>2098</td><td>233</td><td> 487</td><td>100</td><td>239</td><td>⋯</td><td> 75</td><td> 80</td><td>18</td><td>190</td><td>1</td><td> 638</td><td>1</td><td>0</td><td>0</td><td>41</td></tr>\n",
              "\t<tr><td>NBA</td><td>Mike Dunleavy   </td><td>CHI</td><td>SG</td><td>31</td><td> 702</td><td> 77</td><td> 188</td><td> 39</td><td> 99</td><td>⋯</td><td> 14</td><td> 26</td><td>10</td><td> 66</td><td>0</td><td> 222</td><td>0</td><td>0</td><td>0</td><td>30</td></tr>\n",
              "\t<tr><td>NBA</td><td>Jarell Eddie    </td><td>WAS</td><td>SG</td><td>26</td><td> 147</td><td> 20</td><td>  65</td><td> 15</td><td> 47</td><td>⋯</td><td>  5</td><td>  1</td><td> 1</td><td>  5</td><td>0</td><td>  63</td><td>0</td><td>0</td><td>0</td><td> 0</td></tr>\n",
              "\t<tr><td>⋮</td><td>⋮</td><td>⋮</td><td>⋮</td><td>⋮</td><td>⋮</td><td>⋮</td><td>⋮</td><td>⋮</td><td>⋮</td><td>⋱</td><td>⋮</td><td>⋮</td><td>⋮</td><td>⋮</td><td>⋮</td><td>⋮</td><td>⋮</td><td>⋮</td><td>⋮</td><td>⋮</td></tr>\n",
              "\t<tr><td>NBA</td><td>Norman Powell   </td><td>TOR</td><td>SG</td><td>49</td><td> 729</td><td> 97</td><td> 229</td><td> 36</td><td> 88</td><td>⋯</td><td>29</td><td> 32</td><td>10</td><td> 59</td><td>0</td><td> 273</td><td>0</td><td>0</td><td>0</td><td>24</td></tr>\n",
              "\t<tr><td>NBA</td><td>Phil Pressey    </td><td>PHO</td><td>SG</td><td>22</td><td> 280</td><td> 30</td><td>  77</td><td>  4</td><td> 17</td><td>⋯</td><td>17</td><td> 33</td><td> 4</td><td> 28</td><td>0</td><td>  77</td><td>0</td><td>0</td><td>0</td><td> 0</td></tr>\n",
              "\t<tr><td>NBA</td><td>J.j. Redick     </td><td>LAC</td><td>SG</td><td>75</td><td>2098</td><td>422</td><td> 880</td><td>200</td><td>420</td><td>⋯</td><td>42</td><td> 79</td><td> 5</td><td>135</td><td>0</td><td>1226</td><td>1</td><td>0</td><td>0</td><td>75</td></tr>\n",
              "\t<tr><td>NBA</td><td>Josh Richardson </td><td>MIA</td><td>SG</td><td>52</td><td>1105</td><td>123</td><td> 272</td><td> 53</td><td>115</td><td>⋯</td><td>36</td><td> 35</td><td>25</td><td>107</td><td>0</td><td> 341</td><td>0</td><td>0</td><td>0</td><td> 2</td></tr>\n",
              "\t<tr><td>NBA</td><td>Austin Rivers   </td><td>LAC</td><td>SG</td><td>67</td><td>1466</td><td>226</td><td> 516</td><td> 62</td><td>185</td><td>⋯</td><td>48</td><td> 61</td><td>10</td><td>137</td><td>1</td><td> 593</td><td>2</td><td>0</td><td>0</td><td> 7</td></tr>\n",
              "\t<tr><td>NBA</td><td>Andre Roberson  </td><td>OKL</td><td>SG</td><td>70</td><td>1552</td><td>136</td><td> 274</td><td> 32</td><td>103</td><td>⋯</td><td>54</td><td> 35</td><td>42</td><td>133</td><td>0</td><td> 337</td><td>1</td><td>0</td><td>0</td><td>70</td></tr>\n",
              "\t<tr><td>NBA</td><td>Brandon Rush    </td><td>GSW</td><td>SG</td><td>72</td><td>1050</td><td>111</td><td> 260</td><td> 65</td><td>157</td><td>⋯</td><td>21</td><td> 33</td><td>23</td><td> 57</td><td>1</td><td> 305</td><td>0</td><td>0</td><td>0</td><td>25</td></tr>\n",
              "\t<tr><td>NBA</td><td>Jakarr Sampson  </td><td>DEN</td><td>SG</td><td>73</td><td>1166</td><td>140</td><td> 318</td><td> 14</td><td> 63</td><td>⋯</td><td>23</td><td> 70</td><td>33</td><td>142</td><td>1</td><td> 374</td><td>2</td><td>0</td><td>0</td><td>40</td></tr>\n",
              "\t<tr><td>NBA</td><td>Thabo Sefolosha </td><td>ATL</td><td>SG</td><td>75</td><td>1749</td><td>188</td><td> 374</td><td> 42</td><td>125</td><td>⋯</td><td>84</td><td> 68</td><td>37</td><td>109</td><td>0</td><td> 480</td><td>0</td><td>0</td><td>0</td><td>11</td></tr>\n",
              "\t<tr><td>NBA</td><td>Iman Shumpert   </td><td>CLE</td><td>SG</td><td>54</td><td>1319</td><td>114</td><td> 305</td><td> 43</td><td>146</td><td>⋯</td><td>54</td><td> 56</td><td>19</td><td>119</td><td>1</td><td> 311</td><td>1</td><td>0</td><td>0</td><td> 5</td></tr>\n",
              "\t<tr><td>NBA</td><td>Jonathon Simmons</td><td>SAN</td><td>SG</td><td>55</td><td> 811</td><td>122</td><td> 241</td><td> 18</td><td> 47</td><td>⋯</td><td>24</td><td> 53</td><td> 5</td><td>103</td><td>0</td><td> 331</td><td>0</td><td>0</td><td>0</td><td> 2</td></tr>\n",
              "\t<tr><td>NBA</td><td>J.r. Smith      </td><td>CLE</td><td>SG</td><td>77</td><td>2367</td><td>353</td><td> 849</td><td>204</td><td>510</td><td>⋯</td><td>81</td><td> 59</td><td>21</td><td>204</td><td>1</td><td> 955</td><td>3</td><td>0</td><td>0</td><td>77</td></tr>\n",
              "\t<tr><td>NBA</td><td>Nik Stauskas    </td><td>PHI</td><td>SG</td><td>73</td><td>1798</td><td>210</td><td> 542</td><td>106</td><td>324</td><td>⋯</td><td>44</td><td> 93</td><td>20</td><td>111</td><td>0</td><td> 617</td><td>0</td><td>0</td><td>0</td><td>35</td></tr>\n",
              "\t<tr><td>NBA</td><td>Garrett Temple  </td><td>WAS</td><td>SG</td><td>80</td><td>1951</td><td>201</td><td> 505</td><td> 89</td><td>257</td><td>⋯</td><td>69</td><td> 64</td><td>18</td><td>195</td><td>3</td><td> 582</td><td>0</td><td>0</td><td>0</td><td>43</td></tr>\n",
              "\t<tr><td>NBA</td><td>Jason Terry     </td><td>HOU</td><td>SG</td><td>72</td><td>1261</td><td>151</td><td> 376</td><td> 93</td><td>261</td><td>⋯</td><td>47</td><td> 49</td><td> 9</td><td> 91</td><td>0</td><td> 422</td><td>1</td><td>0</td><td>0</td><td> 7</td></tr>\n",
              "\t<tr><td>NBA</td><td>Hollis Thompson </td><td>PHI</td><td>SG</td><td>77</td><td>2158</td><td>270</td><td> 681</td><td>149</td><td>393</td><td>⋯</td><td>36</td><td> 76</td><td>24</td><td>187</td><td>2</td><td> 758</td><td>0</td><td>0</td><td>0</td><td>17</td></tr>\n",
              "\t<tr><td>NBA</td><td>Klay Thompson   </td><td>GSW</td><td>SG</td><td>80</td><td>2661</td><td>651</td><td>1386</td><td>276</td><td>648</td><td>⋯</td><td>60</td><td>138</td><td>50</td><td>152</td><td>0</td><td>1771</td><td>0</td><td>0</td><td>0</td><td>80</td></tr>\n",
              "\t<tr><td>NBA</td><td>Marcus Thornton </td><td>WAS</td><td>SG</td><td>61</td><td>1110</td><td>216</td><td> 542</td><td> 91</td><td>271</td><td>⋯</td><td>47</td><td> 51</td><td> 4</td><td> 90</td><td>0</td><td> 590</td><td>0</td><td>0</td><td>0</td><td> 8</td></tr>\n",
              "\t<tr><td>NBA</td><td>Axel Toupane    </td><td>DEN</td><td>SG</td><td>21</td><td> 307</td><td> 25</td><td>  70</td><td> 13</td><td> 40</td><td>⋯</td><td> 7</td><td>  6</td><td> 6</td><td> 40</td><td>0</td><td>  76</td><td>0</td><td>0</td><td>0</td><td> 0</td></tr>\n",
              "\t<tr><td>NBA</td><td>Evan Turner     </td><td>BOS</td><td>SG</td><td>81</td><td>2270</td><td>343</td><td> 753</td><td> 20</td><td> 83</td><td>⋯</td><td>80</td><td>169</td><td>28</td><td>139</td><td>0</td><td> 854</td><td>2</td><td>0</td><td>0</td><td>12</td></tr>\n",
              "\t<tr><td>NBA</td><td>Rashad Vaughn   </td><td>MIL</td><td>SG</td><td>70</td><td>1000</td><td> 82</td><td> 266</td><td> 44</td><td>147</td><td>⋯</td><td>29</td><td> 28</td><td>16</td><td> 73</td><td>0</td><td> 220</td><td>0</td><td>0</td><td>0</td><td> 6</td></tr>\n",
              "\t<tr><td>NBA</td><td>Sasha Vujacic   </td><td>NYK</td><td>SG</td><td>61</td><td> 910</td><td>106</td><td> 277</td><td> 52</td><td>143</td><td>⋯</td><td>34</td><td> 44</td><td> 5</td><td> 83</td><td>0</td><td> 296</td><td>1</td><td>0</td><td>0</td><td>25</td></tr>\n",
              "\t<tr><td>NBA</td><td>Dwyane Wade     </td><td>MIA</td><td>SG</td><td>74</td><td>2258</td><td>540</td><td>1183</td><td>  7</td><td> 44</td><td>⋯</td><td>79</td><td>203</td><td>42</td><td>116</td><td>0</td><td>1409</td><td>3</td><td>0</td><td>0</td><td>73</td></tr>\n",
              "\t<tr><td>NBA</td><td>Dion Waiters    </td><td>OKL</td><td>SG</td><td>78</td><td>2157</td><td>282</td><td> 705</td><td> 86</td><td>241</td><td>⋯</td><td>81</td><td>120</td><td>15</td><td>143</td><td>0</td><td> 762</td><td>4</td><td>0</td><td>0</td><td>15</td></tr>\n",
              "\t<tr><td>NBA</td><td>Sonny Weems     </td><td>PHI</td><td>SG</td><td>43</td><td> 501</td><td> 42</td><td> 111</td><td> 15</td><td> 42</td><td>⋯</td><td>10</td><td> 41</td><td> 1</td><td> 47</td><td>0</td><td> 107</td><td>0</td><td>0</td><td>0</td><td> 0</td></tr>\n",
              "\t<tr><td>NBA</td><td>C.j. Wilcox     </td><td>LAC</td><td>SG</td><td>23</td><td> 168</td><td> 26</td><td>  66</td><td>  9</td><td> 23</td><td>⋯</td><td>10</td><td>  2</td><td> 2</td><td> 15</td><td>0</td><td>  70</td><td>0</td><td>0</td><td>0</td><td> 0</td></tr>\n",
              "\t<tr><td>NBA</td><td>Elliot Williams </td><td>MEM</td><td>SG</td><td> 5</td><td>  46</td><td>  2</td><td>  10</td><td>  1</td><td>  4</td><td>⋯</td><td> 1</td><td>  1</td><td> 0</td><td>  2</td><td>0</td><td>   8</td><td>0</td><td>0</td><td>0</td><td> 0</td></tr>\n",
              "\t<tr><td>NBA</td><td>Louis Williams  </td><td>LAL</td><td>SG</td><td>67</td><td>1911</td><td>283</td><td> 695</td><td>110</td><td>321</td><td>⋯</td><td>62</td><td>107</td><td>19</td><td>107</td><td>1</td><td>1028</td><td>1</td><td>0</td><td>0</td><td>35</td></tr>\n",
              "\t<tr><td>NBA</td><td>Tony Wroten     </td><td>PHI</td><td>SG</td><td> 8</td><td> 145</td><td> 22</td><td>  65</td><td>  3</td><td> 17</td><td>⋯</td><td> 3</td><td> 29</td><td> 0</td><td> 11</td><td>0</td><td>  67</td><td>0</td><td>0</td><td>0</td><td> 3</td></tr>\n",
              "\t<tr><td>NBA</td><td>James Young     </td><td>BOS</td><td>SG</td><td>29</td><td> 200</td><td> 11</td><td>  36</td><td>  6</td><td> 26</td><td>⋯</td><td> 6</td><td>  5</td><td> 1</td><td> 17</td><td>0</td><td>  29</td><td>0</td><td>0</td><td>0</td><td> 0</td></tr>\n",
              "</tbody>\n",
              "</table>\n"
            ]
          },
          "metadata": {
            "tags": []
          }
        }
      ]
    },
    {
      "cell_type": "code",
      "metadata": {
        "id": "AW7GtB0Fpg3G",
        "outputId": "1e30176d-7be6-4a99-fe27-b6277e984d76",
        "colab": {
          "base_uri": "https://localhost:8080/",
          "height": 998
        }
      },
      "source": [
        "NBA1516DT[GamesPlayed > 80]"
      ],
      "execution_count": 57,
      "outputs": [
        {
          "output_type": "display_data",
          "data": {
            "text/plain": [
              "   League Name             Team Position GamesPlayed TotalMinutesPlayed\n",
              "1  NBA    Al-farouq Aminu  POR  SF       82          2342              \n",
              "2  NBA    Trevor Ariza     HOU  SF       81          2860              \n",
              "3  NBA    Will Barton      DEN  SG       82          2355              \n",
              "4  NBA    Aron Baynes      DET  PF       81          1241              \n",
              "5  NBA    Bismack Biyombo  TOR  PF       82          1810              \n",
              "6  NBA    Corey Brewer     HOU  SG       82          1670              \n",
              "7  NBA    Allen Crabbe     POR  SF       81          2111              \n",
              "8  NBA    Ed Davis         POR  PF       81          1684              \n",
              "9  NBA    Gorgui Dieng     MIN  C        82          2222              \n",
              "10 NBA    Andre Drummond   DET  C        81          2664              \n",
              "11 NBA    Jared Dudley     WAS  SG       81          2098              \n",
              "12 NBA    Monta Ellis      IND  PG       81          2733              \n",
              "13 NBA    Randy Foye       OKC  SG       81          1640              \n",
              "14 NBA    Langsto Galloway NYK  PG       82          2032              \n",
              "15 NBA    Paul George      IND  SF       81          2828              \n",
              "16 NBA    Draymond Green   GSW  SF       81          2807              \n",
              "17 NBA    James Harden     HOU  SG       82          3121              \n",
              "18 NBA    Roy Hibbert      LAL  C        81          1881              \n",
              "19 NBA    Al Horford       ATL  PF       82          2638              \n",
              "20 NBA    Joe Ingles       UTA  SF       81          1241              \n",
              "21 NBA    Joe Johnson      MIA  SF       81          2703              \n",
              "22 NBA    Frank Kaminsky   CHA  PF       81          1713              \n",
              "23 NBA    Enes Kanter      OKL  C        82          1721              \n",
              "24 NBA    Zach Lavine      MIN  PG       82          2295              \n",
              "25 NBA    Robin Lopez      NYK  C        82          2213              \n",
              "26 NBA    T.j. Mcconnell   PHI  PG       81          1609              \n",
              "27 NBA    Doug Mcdermott   CHI  SF       81          1860              \n",
              "28 NBA    Patty Mills      SAN  PG       81          1659              \n",
              "29 NBA    Paul Millsap     ATL  PF       81          2640              \n",
              "30 NBA    Shabazz Muhammad MIN  SF       82          1678              \n",
              "31 NBA    Raul Neto        UTA  PG       81          1501              \n",
              "32 NBA    Mason Plumlee    POR  PF       82          2087              \n",
              "33 NBA    Julius Randle    LAL  PF       81          2287              \n",
              "34 NBA    Ramon Sessions   WAS  PG       82          1667              \n",
              "35 NBA    Jared Sullinger  BOS  PF       81          1917              \n",
              "36 NBA    Isaiah Thomas    BOS  PG       82          2647              \n",
              "37 NBA    Tristan Thompson CLE  C        82          2269              \n",
              "38 NBA    Karl-antho Towns MIN  C        82          2621              \n",
              "39 NBA    P.j. Tucker      PHO  SF       82          2540              \n",
              "40 NBA    Evan Turner      BOS  SG       81          2270              \n",
              "41 NBA    Kemba Walker     CHA  PG       81          2885              \n",
              "42 NBA    Andrew Wiggins   MIN  SF       81          2844              \n",
              "43 NBA    Marvin Williams  CHA  PF       81          2339              \n",
              "   FieldGoalsMade FieldGoalsAttempted ThreesMade ThreesAttempted ⋯ Steals\n",
              "1  299             719                126        349             ⋯  72   \n",
              "2  357             858                185        497             ⋯ 161   \n",
              "3  426             984                112        324             ⋯  71   \n",
              "4  194             384                  0          2             ⋯  21   \n",
              "5  156             288                  0          1             ⋯  19   \n",
              "6  212             552                 61        225             ⋯  84   \n",
              "7  312             678                112        284             ⋯  63   \n",
              "8  206             337                  0          0             ⋯  57   \n",
              "9  308             578                  6         20             ⋯  94   \n",
              "10 552            1061                  2          6             ⋯ 119   \n",
              "11 233             487                100        239             ⋯  75   \n",
              "12 436            1021                 87        281             ⋯ 149   \n",
              "13 168             481                 75        250             ⋯  39   \n",
              "14 231             588                 77        224             ⋯  77   \n",
              "15 605            1448                210        565             ⋯ 152   \n",
              "16 401             819                100        258             ⋯ 118   \n",
              "17 710            1617                236        656             ⋯ 138   \n",
              "18 182             411                  0          2             ⋯  32   \n",
              "19 529            1049                 88        257             ⋯  67   \n",
              "20 124             291                 81        210             ⋯  55   \n",
              "21 377             859                120        313             ⋯  61   \n",
              "22 215             525                 68        202             ⋯  37   \n",
              "23 415             720                 10         21             ⋯  26   \n",
              "24 433             960                123        316             ⋯  69   \n",
              "25 357             662                  0          1             ⋯  16   \n",
              "26 218             464                 31         89             ⋯  95   \n",
              "27 291             644                110        259             ⋯  14   \n",
              "28 260             612                123        320             ⋯  59   \n",
              "29 501            1067                 74        232             ⋯ 148   \n",
              "30 317             681                 44        152             ⋯  24   \n",
              "31 180             418                 64        162             ⋯  62   \n",
              "32 267             517                  0          4             ⋯  68   \n",
              "33 358             835                 10         36             ⋯  53   \n",
              "34 280             592                 36        111             ⋯  47   \n",
              "35 351             807                 29        104             ⋯  75   \n",
              "36 591            1382                167        465             ⋯  91   \n",
              "37 247             420                  0          0             ⋯  38   \n",
              "38 625            1152                 30         88             ⋯  58   \n",
              "39 239             582                 68        206             ⋯ 106   \n",
              "40 343             753                 20         83             ⋯  80   \n",
              "41 568            1332                182        490             ⋯ 127   \n",
              "42 594            1294                 57        190             ⋯  78   \n",
              "43 338             747                152        379             ⋯  58   \n",
              "   Turnovers Blocks PersonalFouls Disqualifications TotalPoints Technicals\n",
              "1  120        53    171           0                  839         3        \n",
              "2  113        26    177           0                 1025         2        \n",
              "3  139        39    147           0                 1180         2        \n",
              "4   67        52    151           0                  514         0        \n",
              "5   71       133    225           2                  454         3        \n",
              "6   78        19    168           1                  590         0        \n",
              "7   64        16    192           2                  834         0        \n",
              "8   64        72    202           2                  526         2        \n",
              "9  140        96    219           0                  827         1        \n",
              "10 154       112    245           2                 1314         7        \n",
              "11  80        18    190           1                  638         1        \n",
              "12 203        38    174           0                 1121         1        \n",
              "13  86        29    131           0                  472         0        \n",
              "14  61        22    177           2                  625         0        \n",
              "15 265        29    230           1                 1874         6        \n",
              "16 259       111    240           2                 1131        11        \n",
              "17 374        51    229           1                 2376         2        \n",
              "18  76       110    252           3                  481         2        \n",
              "19 107       122    163           0                 1249         1        \n",
              "20  65         4     98           0                  342         1        \n",
              "21 160         4    146           0                  992         1        \n",
              "22  58        43    126           0                  606         0        \n",
              "23 115        33    166           1                 1040         2        \n",
              "24 155        17    193           1                 1150         0        \n",
              "25 133       129    182           2                  842         3        \n",
              "26 140        10    114           0                  493         0        \n",
              "27  52         6    127           0                  764         0        \n",
              "28  76         6    102           0                  690         0        \n",
              "29 191       140    237           2                 1385         4        \n",
              "30  70         7     94           0                  863         0        \n",
              "31 109         2    122           1                  476         0        \n",
              "32 154        82    253           4                  749         1        \n",
              "33 149        29    242           2                  919         0        \n",
              "34 115         5    102           0                  810         0        \n",
              "35 102        47    209           2                  834         2        \n",
              "36 220         9    167           1                 1823         9        \n",
              "37  61        51    202           0                  643         1        \n",
              "38 183       138    245           1                 1503         2        \n",
              "39 111        20    202           3                  652         4        \n",
              "40 169        28    139           0                  854         2        \n",
              "41 171        39    111           0                 1689         5        \n",
              "42 182        46    165           1                 1675         1        \n",
              "43  62        77    133           1                  948         0        \n",
              "   Ejections FlagrantFouls GamesStarted\n",
              "1  0         0             82          \n",
              "2  0         0             81          \n",
              "3  0         0              1          \n",
              "4  0         0              1          \n",
              "5  0         0             22          \n",
              "6  0         0             12          \n",
              "7  0         0              8          \n",
              "8  0         0              0          \n",
              "9  0         0             39          \n",
              "10 0         0             81          \n",
              "11 0         0             41          \n",
              "12 0         0             81          \n",
              "13 0         0              8          \n",
              "14 0         0              7          \n",
              "15 0         0             81          \n",
              "16 0         0             81          \n",
              "17 0         0             82          \n",
              "18 0         0             81          \n",
              "19 0         0             82          \n",
              "20 0         0              2          \n",
              "21 0         0             81          \n",
              "22 0         0              3          \n",
              "23 0         0              1          \n",
              "24 0         0             33          \n",
              "25 0         0             82          \n",
              "26 0         0             17          \n",
              "27 0         0              4          \n",
              "28 0         0              3          \n",
              "29 0         0             81          \n",
              "30 0         0              0          \n",
              "31 0         0             53          \n",
              "32 0         0             82          \n",
              "33 0         0             60          \n",
              "34 0         0              5          \n",
              "35 0         0             73          \n",
              "36 0         0             79          \n",
              "37 0         0             34          \n",
              "38 0         0             82          \n",
              "39 0         0             80          \n",
              "40 0         0             12          \n",
              "41 0         0             81          \n",
              "42 0         0             81          \n",
              "43 0         0             81          "
            ],
            "text/latex": "A data.table: 43 × 25\n\\begin{tabular}{lllllllllllllllllllll}\n League & Name & Team & Position & GamesPlayed & TotalMinutesPlayed & FieldGoalsMade & FieldGoalsAttempted & ThreesMade & ThreesAttempted & ⋯ & Steals & Turnovers & Blocks & PersonalFouls & Disqualifications & TotalPoints & Technicals & Ejections & FlagrantFouls & GamesStarted\\\\\n <fct> & <chr> & <fct> & <fct> & <int> & <int> & <int> & <int> & <int> & <int> & ⋯ & <int> & <int> & <int> & <int> & <int> & <int> & <int> & <int> & <int> & <int>\\\\\n\\hline\n\t NBA & Al-farouq Aminu  & POR & SF & 82 & 2342 & 299 &  719 & 126 & 349 & ⋯ &  72 & 120 &  53 & 171 & 0 &  839 &  3 & 0 & 0 & 82\\\\\n\t NBA & Trevor Ariza     & HOU & SF & 81 & 2860 & 357 &  858 & 185 & 497 & ⋯ & 161 & 113 &  26 & 177 & 0 & 1025 &  2 & 0 & 0 & 81\\\\\n\t NBA & Will Barton      & DEN & SG & 82 & 2355 & 426 &  984 & 112 & 324 & ⋯ &  71 & 139 &  39 & 147 & 0 & 1180 &  2 & 0 & 0 &  1\\\\\n\t NBA & Aron Baynes      & DET & PF & 81 & 1241 & 194 &  384 &   0 &   2 & ⋯ &  21 &  67 &  52 & 151 & 0 &  514 &  0 & 0 & 0 &  1\\\\\n\t NBA & Bismack Biyombo  & TOR & PF & 82 & 1810 & 156 &  288 &   0 &   1 & ⋯ &  19 &  71 & 133 & 225 & 2 &  454 &  3 & 0 & 0 & 22\\\\\n\t NBA & Corey Brewer     & HOU & SG & 82 & 1670 & 212 &  552 &  61 & 225 & ⋯ &  84 &  78 &  19 & 168 & 1 &  590 &  0 & 0 & 0 & 12\\\\\n\t NBA & Allen Crabbe     & POR & SF & 81 & 2111 & 312 &  678 & 112 & 284 & ⋯ &  63 &  64 &  16 & 192 & 2 &  834 &  0 & 0 & 0 &  8\\\\\n\t NBA & Ed Davis         & POR & PF & 81 & 1684 & 206 &  337 &   0 &   0 & ⋯ &  57 &  64 &  72 & 202 & 2 &  526 &  2 & 0 & 0 &  0\\\\\n\t NBA & Gorgui Dieng     & MIN & C  & 82 & 2222 & 308 &  578 &   6 &  20 & ⋯ &  94 & 140 &  96 & 219 & 0 &  827 &  1 & 0 & 0 & 39\\\\\n\t NBA & Andre Drummond   & DET & C  & 81 & 2664 & 552 & 1061 &   2 &   6 & ⋯ & 119 & 154 & 112 & 245 & 2 & 1314 &  7 & 0 & 0 & 81\\\\\n\t NBA & Jared Dudley     & WAS & SG & 81 & 2098 & 233 &  487 & 100 & 239 & ⋯ &  75 &  80 &  18 & 190 & 1 &  638 &  1 & 0 & 0 & 41\\\\\n\t NBA & Monta Ellis      & IND & PG & 81 & 2733 & 436 & 1021 &  87 & 281 & ⋯ & 149 & 203 &  38 & 174 & 0 & 1121 &  1 & 0 & 0 & 81\\\\\n\t NBA & Randy Foye       & OKC & SG & 81 & 1640 & 168 &  481 &  75 & 250 & ⋯ &  39 &  86 &  29 & 131 & 0 &  472 &  0 & 0 & 0 &  8\\\\\n\t NBA & Langsto Galloway & NYK & PG & 82 & 2032 & 231 &  588 &  77 & 224 & ⋯ &  77 &  61 &  22 & 177 & 2 &  625 &  0 & 0 & 0 &  7\\\\\n\t NBA & Paul George      & IND & SF & 81 & 2828 & 605 & 1448 & 210 & 565 & ⋯ & 152 & 265 &  29 & 230 & 1 & 1874 &  6 & 0 & 0 & 81\\\\\n\t NBA & Draymond Green   & GSW & SF & 81 & 2807 & 401 &  819 & 100 & 258 & ⋯ & 118 & 259 & 111 & 240 & 2 & 1131 & 11 & 0 & 0 & 81\\\\\n\t NBA & James Harden     & HOU & SG & 82 & 3121 & 710 & 1617 & 236 & 656 & ⋯ & 138 & 374 &  51 & 229 & 1 & 2376 &  2 & 0 & 0 & 82\\\\\n\t NBA & Roy Hibbert      & LAL & C  & 81 & 1881 & 182 &  411 &   0 &   2 & ⋯ &  32 &  76 & 110 & 252 & 3 &  481 &  2 & 0 & 0 & 81\\\\\n\t NBA & Al Horford       & ATL & PF & 82 & 2638 & 529 & 1049 &  88 & 257 & ⋯ &  67 & 107 & 122 & 163 & 0 & 1249 &  1 & 0 & 0 & 82\\\\\n\t NBA & Joe Ingles       & UTA & SF & 81 & 1241 & 124 &  291 &  81 & 210 & ⋯ &  55 &  65 &   4 &  98 & 0 &  342 &  1 & 0 & 0 &  2\\\\\n\t NBA & Joe Johnson      & MIA & SF & 81 & 2703 & 377 &  859 & 120 & 313 & ⋯ &  61 & 160 &   4 & 146 & 0 &  992 &  1 & 0 & 0 & 81\\\\\n\t NBA & Frank Kaminsky   & CHA & PF & 81 & 1713 & 215 &  525 &  68 & 202 & ⋯ &  37 &  58 &  43 & 126 & 0 &  606 &  0 & 0 & 0 &  3\\\\\n\t NBA & Enes Kanter      & OKL & C  & 82 & 1721 & 415 &  720 &  10 &  21 & ⋯ &  26 & 115 &  33 & 166 & 1 & 1040 &  2 & 0 & 0 &  1\\\\\n\t NBA & Zach Lavine      & MIN & PG & 82 & 2295 & 433 &  960 & 123 & 316 & ⋯ &  69 & 155 &  17 & 193 & 1 & 1150 &  0 & 0 & 0 & 33\\\\\n\t NBA & Robin Lopez      & NYK & C  & 82 & 2213 & 357 &  662 &   0 &   1 & ⋯ &  16 & 133 & 129 & 182 & 2 &  842 &  3 & 0 & 0 & 82\\\\\n\t NBA & T.j. Mcconnell   & PHI & PG & 81 & 1609 & 218 &  464 &  31 &  89 & ⋯ &  95 & 140 &  10 & 114 & 0 &  493 &  0 & 0 & 0 & 17\\\\\n\t NBA & Doug Mcdermott   & CHI & SF & 81 & 1860 & 291 &  644 & 110 & 259 & ⋯ &  14 &  52 &   6 & 127 & 0 &  764 &  0 & 0 & 0 &  4\\\\\n\t NBA & Patty Mills      & SAN & PG & 81 & 1659 & 260 &  612 & 123 & 320 & ⋯ &  59 &  76 &   6 & 102 & 0 &  690 &  0 & 0 & 0 &  3\\\\\n\t NBA & Paul Millsap     & ATL & PF & 81 & 2640 & 501 & 1067 &  74 & 232 & ⋯ & 148 & 191 & 140 & 237 & 2 & 1385 &  4 & 0 & 0 & 81\\\\\n\t NBA & Shabazz Muhammad & MIN & SF & 82 & 1678 & 317 &  681 &  44 & 152 & ⋯ &  24 &  70 &   7 &  94 & 0 &  863 &  0 & 0 & 0 &  0\\\\\n\t NBA & Raul Neto        & UTA & PG & 81 & 1501 & 180 &  418 &  64 & 162 & ⋯ &  62 & 109 &   2 & 122 & 1 &  476 &  0 & 0 & 0 & 53\\\\\n\t NBA & Mason Plumlee    & POR & PF & 82 & 2087 & 267 &  517 &   0 &   4 & ⋯ &  68 & 154 &  82 & 253 & 4 &  749 &  1 & 0 & 0 & 82\\\\\n\t NBA & Julius Randle    & LAL & PF & 81 & 2287 & 358 &  835 &  10 &  36 & ⋯ &  53 & 149 &  29 & 242 & 2 &  919 &  0 & 0 & 0 & 60\\\\\n\t NBA & Ramon Sessions   & WAS & PG & 82 & 1667 & 280 &  592 &  36 & 111 & ⋯ &  47 & 115 &   5 & 102 & 0 &  810 &  0 & 0 & 0 &  5\\\\\n\t NBA & Jared Sullinger  & BOS & PF & 81 & 1917 & 351 &  807 &  29 & 104 & ⋯ &  75 & 102 &  47 & 209 & 2 &  834 &  2 & 0 & 0 & 73\\\\\n\t NBA & Isaiah Thomas    & BOS & PG & 82 & 2647 & 591 & 1382 & 167 & 465 & ⋯ &  91 & 220 &   9 & 167 & 1 & 1823 &  9 & 0 & 0 & 79\\\\\n\t NBA & Tristan Thompson & CLE & C  & 82 & 2269 & 247 &  420 &   0 &   0 & ⋯ &  38 &  61 &  51 & 202 & 0 &  643 &  1 & 0 & 0 & 34\\\\\n\t NBA & Karl-antho Towns & MIN & C  & 82 & 2621 & 625 & 1152 &  30 &  88 & ⋯ &  58 & 183 & 138 & 245 & 1 & 1503 &  2 & 0 & 0 & 82\\\\\n\t NBA & P.j. Tucker      & PHO & SF & 82 & 2540 & 239 &  582 &  68 & 206 & ⋯ & 106 & 111 &  20 & 202 & 3 &  652 &  4 & 0 & 0 & 80\\\\\n\t NBA & Evan Turner      & BOS & SG & 81 & 2270 & 343 &  753 &  20 &  83 & ⋯ &  80 & 169 &  28 & 139 & 0 &  854 &  2 & 0 & 0 & 12\\\\\n\t NBA & Kemba Walker     & CHA & PG & 81 & 2885 & 568 & 1332 & 182 & 490 & ⋯ & 127 & 171 &  39 & 111 & 0 & 1689 &  5 & 0 & 0 & 81\\\\\n\t NBA & Andrew Wiggins   & MIN & SF & 81 & 2844 & 594 & 1294 &  57 & 190 & ⋯ &  78 & 182 &  46 & 165 & 1 & 1675 &  1 & 0 & 0 & 81\\\\\n\t NBA & Marvin Williams  & CHA & PF & 81 & 2339 & 338 &  747 & 152 & 379 & ⋯ &  58 &  62 &  77 & 133 & 1 &  948 &  0 & 0 & 0 & 81\\\\\n\\end{tabular}\n",
            "text/markdown": "\nA data.table: 43 × 25\n\n| League &lt;fct&gt; | Name &lt;chr&gt; | Team &lt;fct&gt; | Position &lt;fct&gt; | GamesPlayed &lt;int&gt; | TotalMinutesPlayed &lt;int&gt; | FieldGoalsMade &lt;int&gt; | FieldGoalsAttempted &lt;int&gt; | ThreesMade &lt;int&gt; | ThreesAttempted &lt;int&gt; | ⋯ ⋯ | Steals &lt;int&gt; | Turnovers &lt;int&gt; | Blocks &lt;int&gt; | PersonalFouls &lt;int&gt; | Disqualifications &lt;int&gt; | TotalPoints &lt;int&gt; | Technicals &lt;int&gt; | Ejections &lt;int&gt; | FlagrantFouls &lt;int&gt; | GamesStarted &lt;int&gt; |\n|---|---|---|---|---|---|---|---|---|---|---|---|---|---|---|---|---|---|---|---|---|\n| NBA | Al-farouq Aminu  | POR | SF | 82 | 2342 | 299 |  719 | 126 | 349 | ⋯ |  72 | 120 |  53 | 171 | 0 |  839 |  3 | 0 | 0 | 82 |\n| NBA | Trevor Ariza     | HOU | SF | 81 | 2860 | 357 |  858 | 185 | 497 | ⋯ | 161 | 113 |  26 | 177 | 0 | 1025 |  2 | 0 | 0 | 81 |\n| NBA | Will Barton      | DEN | SG | 82 | 2355 | 426 |  984 | 112 | 324 | ⋯ |  71 | 139 |  39 | 147 | 0 | 1180 |  2 | 0 | 0 |  1 |\n| NBA | Aron Baynes      | DET | PF | 81 | 1241 | 194 |  384 |   0 |   2 | ⋯ |  21 |  67 |  52 | 151 | 0 |  514 |  0 | 0 | 0 |  1 |\n| NBA | Bismack Biyombo  | TOR | PF | 82 | 1810 | 156 |  288 |   0 |   1 | ⋯ |  19 |  71 | 133 | 225 | 2 |  454 |  3 | 0 | 0 | 22 |\n| NBA | Corey Brewer     | HOU | SG | 82 | 1670 | 212 |  552 |  61 | 225 | ⋯ |  84 |  78 |  19 | 168 | 1 |  590 |  0 | 0 | 0 | 12 |\n| NBA | Allen Crabbe     | POR | SF | 81 | 2111 | 312 |  678 | 112 | 284 | ⋯ |  63 |  64 |  16 | 192 | 2 |  834 |  0 | 0 | 0 |  8 |\n| NBA | Ed Davis         | POR | PF | 81 | 1684 | 206 |  337 |   0 |   0 | ⋯ |  57 |  64 |  72 | 202 | 2 |  526 |  2 | 0 | 0 |  0 |\n| NBA | Gorgui Dieng     | MIN | C  | 82 | 2222 | 308 |  578 |   6 |  20 | ⋯ |  94 | 140 |  96 | 219 | 0 |  827 |  1 | 0 | 0 | 39 |\n| NBA | Andre Drummond   | DET | C  | 81 | 2664 | 552 | 1061 |   2 |   6 | ⋯ | 119 | 154 | 112 | 245 | 2 | 1314 |  7 | 0 | 0 | 81 |\n| NBA | Jared Dudley     | WAS | SG | 81 | 2098 | 233 |  487 | 100 | 239 | ⋯ |  75 |  80 |  18 | 190 | 1 |  638 |  1 | 0 | 0 | 41 |\n| NBA | Monta Ellis      | IND | PG | 81 | 2733 | 436 | 1021 |  87 | 281 | ⋯ | 149 | 203 |  38 | 174 | 0 | 1121 |  1 | 0 | 0 | 81 |\n| NBA | Randy Foye       | OKC | SG | 81 | 1640 | 168 |  481 |  75 | 250 | ⋯ |  39 |  86 |  29 | 131 | 0 |  472 |  0 | 0 | 0 |  8 |\n| NBA | Langsto Galloway | NYK | PG | 82 | 2032 | 231 |  588 |  77 | 224 | ⋯ |  77 |  61 |  22 | 177 | 2 |  625 |  0 | 0 | 0 |  7 |\n| NBA | Paul George      | IND | SF | 81 | 2828 | 605 | 1448 | 210 | 565 | ⋯ | 152 | 265 |  29 | 230 | 1 | 1874 |  6 | 0 | 0 | 81 |\n| NBA | Draymond Green   | GSW | SF | 81 | 2807 | 401 |  819 | 100 | 258 | ⋯ | 118 | 259 | 111 | 240 | 2 | 1131 | 11 | 0 | 0 | 81 |\n| NBA | James Harden     | HOU | SG | 82 | 3121 | 710 | 1617 | 236 | 656 | ⋯ | 138 | 374 |  51 | 229 | 1 | 2376 |  2 | 0 | 0 | 82 |\n| NBA | Roy Hibbert      | LAL | C  | 81 | 1881 | 182 |  411 |   0 |   2 | ⋯ |  32 |  76 | 110 | 252 | 3 |  481 |  2 | 0 | 0 | 81 |\n| NBA | Al Horford       | ATL | PF | 82 | 2638 | 529 | 1049 |  88 | 257 | ⋯ |  67 | 107 | 122 | 163 | 0 | 1249 |  1 | 0 | 0 | 82 |\n| NBA | Joe Ingles       | UTA | SF | 81 | 1241 | 124 |  291 |  81 | 210 | ⋯ |  55 |  65 |   4 |  98 | 0 |  342 |  1 | 0 | 0 |  2 |\n| NBA | Joe Johnson      | MIA | SF | 81 | 2703 | 377 |  859 | 120 | 313 | ⋯ |  61 | 160 |   4 | 146 | 0 |  992 |  1 | 0 | 0 | 81 |\n| NBA | Frank Kaminsky   | CHA | PF | 81 | 1713 | 215 |  525 |  68 | 202 | ⋯ |  37 |  58 |  43 | 126 | 0 |  606 |  0 | 0 | 0 |  3 |\n| NBA | Enes Kanter      | OKL | C  | 82 | 1721 | 415 |  720 |  10 |  21 | ⋯ |  26 | 115 |  33 | 166 | 1 | 1040 |  2 | 0 | 0 |  1 |\n| NBA | Zach Lavine      | MIN | PG | 82 | 2295 | 433 |  960 | 123 | 316 | ⋯ |  69 | 155 |  17 | 193 | 1 | 1150 |  0 | 0 | 0 | 33 |\n| NBA | Robin Lopez      | NYK | C  | 82 | 2213 | 357 |  662 |   0 |   1 | ⋯ |  16 | 133 | 129 | 182 | 2 |  842 |  3 | 0 | 0 | 82 |\n| NBA | T.j. Mcconnell   | PHI | PG | 81 | 1609 | 218 |  464 |  31 |  89 | ⋯ |  95 | 140 |  10 | 114 | 0 |  493 |  0 | 0 | 0 | 17 |\n| NBA | Doug Mcdermott   | CHI | SF | 81 | 1860 | 291 |  644 | 110 | 259 | ⋯ |  14 |  52 |   6 | 127 | 0 |  764 |  0 | 0 | 0 |  4 |\n| NBA | Patty Mills      | SAN | PG | 81 | 1659 | 260 |  612 | 123 | 320 | ⋯ |  59 |  76 |   6 | 102 | 0 |  690 |  0 | 0 | 0 |  3 |\n| NBA | Paul Millsap     | ATL | PF | 81 | 2640 | 501 | 1067 |  74 | 232 | ⋯ | 148 | 191 | 140 | 237 | 2 | 1385 |  4 | 0 | 0 | 81 |\n| NBA | Shabazz Muhammad | MIN | SF | 82 | 1678 | 317 |  681 |  44 | 152 | ⋯ |  24 |  70 |   7 |  94 | 0 |  863 |  0 | 0 | 0 |  0 |\n| NBA | Raul Neto        | UTA | PG | 81 | 1501 | 180 |  418 |  64 | 162 | ⋯ |  62 | 109 |   2 | 122 | 1 |  476 |  0 | 0 | 0 | 53 |\n| NBA | Mason Plumlee    | POR | PF | 82 | 2087 | 267 |  517 |   0 |   4 | ⋯ |  68 | 154 |  82 | 253 | 4 |  749 |  1 | 0 | 0 | 82 |\n| NBA | Julius Randle    | LAL | PF | 81 | 2287 | 358 |  835 |  10 |  36 | ⋯ |  53 | 149 |  29 | 242 | 2 |  919 |  0 | 0 | 0 | 60 |\n| NBA | Ramon Sessions   | WAS | PG | 82 | 1667 | 280 |  592 |  36 | 111 | ⋯ |  47 | 115 |   5 | 102 | 0 |  810 |  0 | 0 | 0 |  5 |\n| NBA | Jared Sullinger  | BOS | PF | 81 | 1917 | 351 |  807 |  29 | 104 | ⋯ |  75 | 102 |  47 | 209 | 2 |  834 |  2 | 0 | 0 | 73 |\n| NBA | Isaiah Thomas    | BOS | PG | 82 | 2647 | 591 | 1382 | 167 | 465 | ⋯ |  91 | 220 |   9 | 167 | 1 | 1823 |  9 | 0 | 0 | 79 |\n| NBA | Tristan Thompson | CLE | C  | 82 | 2269 | 247 |  420 |   0 |   0 | ⋯ |  38 |  61 |  51 | 202 | 0 |  643 |  1 | 0 | 0 | 34 |\n| NBA | Karl-antho Towns | MIN | C  | 82 | 2621 | 625 | 1152 |  30 |  88 | ⋯ |  58 | 183 | 138 | 245 | 1 | 1503 |  2 | 0 | 0 | 82 |\n| NBA | P.j. Tucker      | PHO | SF | 82 | 2540 | 239 |  582 |  68 | 206 | ⋯ | 106 | 111 |  20 | 202 | 3 |  652 |  4 | 0 | 0 | 80 |\n| NBA | Evan Turner      | BOS | SG | 81 | 2270 | 343 |  753 |  20 |  83 | ⋯ |  80 | 169 |  28 | 139 | 0 |  854 |  2 | 0 | 0 | 12 |\n| NBA | Kemba Walker     | CHA | PG | 81 | 2885 | 568 | 1332 | 182 | 490 | ⋯ | 127 | 171 |  39 | 111 | 0 | 1689 |  5 | 0 | 0 | 81 |\n| NBA | Andrew Wiggins   | MIN | SF | 81 | 2844 | 594 | 1294 |  57 | 190 | ⋯ |  78 | 182 |  46 | 165 | 1 | 1675 |  1 | 0 | 0 | 81 |\n| NBA | Marvin Williams  | CHA | PF | 81 | 2339 | 338 |  747 | 152 | 379 | ⋯ |  58 |  62 |  77 | 133 | 1 |  948 |  0 | 0 | 0 | 81 |\n\n",
            "text/html": [
              "<table>\n",
              "<caption>A data.table: 43 × 25</caption>\n",
              "<thead>\n",
              "\t<tr><th scope=col>League</th><th scope=col>Name</th><th scope=col>Team</th><th scope=col>Position</th><th scope=col>GamesPlayed</th><th scope=col>TotalMinutesPlayed</th><th scope=col>FieldGoalsMade</th><th scope=col>FieldGoalsAttempted</th><th scope=col>ThreesMade</th><th scope=col>ThreesAttempted</th><th scope=col>⋯</th><th scope=col>Steals</th><th scope=col>Turnovers</th><th scope=col>Blocks</th><th scope=col>PersonalFouls</th><th scope=col>Disqualifications</th><th scope=col>TotalPoints</th><th scope=col>Technicals</th><th scope=col>Ejections</th><th scope=col>FlagrantFouls</th><th scope=col>GamesStarted</th></tr>\n",
              "\t<tr><th scope=col>&lt;fct&gt;</th><th scope=col>&lt;chr&gt;</th><th scope=col>&lt;fct&gt;</th><th scope=col>&lt;fct&gt;</th><th scope=col>&lt;int&gt;</th><th scope=col>&lt;int&gt;</th><th scope=col>&lt;int&gt;</th><th scope=col>&lt;int&gt;</th><th scope=col>&lt;int&gt;</th><th scope=col>&lt;int&gt;</th><th scope=col>⋯</th><th scope=col>&lt;int&gt;</th><th scope=col>&lt;int&gt;</th><th scope=col>&lt;int&gt;</th><th scope=col>&lt;int&gt;</th><th scope=col>&lt;int&gt;</th><th scope=col>&lt;int&gt;</th><th scope=col>&lt;int&gt;</th><th scope=col>&lt;int&gt;</th><th scope=col>&lt;int&gt;</th><th scope=col>&lt;int&gt;</th></tr>\n",
              "</thead>\n",
              "<tbody>\n",
              "\t<tr><td>NBA</td><td>Al-farouq Aminu </td><td>POR</td><td>SF</td><td>82</td><td>2342</td><td>299</td><td> 719</td><td>126</td><td>349</td><td>⋯</td><td> 72</td><td>120</td><td> 53</td><td>171</td><td>0</td><td> 839</td><td> 3</td><td>0</td><td>0</td><td>82</td></tr>\n",
              "\t<tr><td>NBA</td><td>Trevor Ariza    </td><td>HOU</td><td>SF</td><td>81</td><td>2860</td><td>357</td><td> 858</td><td>185</td><td>497</td><td>⋯</td><td>161</td><td>113</td><td> 26</td><td>177</td><td>0</td><td>1025</td><td> 2</td><td>0</td><td>0</td><td>81</td></tr>\n",
              "\t<tr><td>NBA</td><td>Will Barton     </td><td>DEN</td><td>SG</td><td>82</td><td>2355</td><td>426</td><td> 984</td><td>112</td><td>324</td><td>⋯</td><td> 71</td><td>139</td><td> 39</td><td>147</td><td>0</td><td>1180</td><td> 2</td><td>0</td><td>0</td><td> 1</td></tr>\n",
              "\t<tr><td>NBA</td><td>Aron Baynes     </td><td>DET</td><td>PF</td><td>81</td><td>1241</td><td>194</td><td> 384</td><td>  0</td><td>  2</td><td>⋯</td><td> 21</td><td> 67</td><td> 52</td><td>151</td><td>0</td><td> 514</td><td> 0</td><td>0</td><td>0</td><td> 1</td></tr>\n",
              "\t<tr><td>NBA</td><td>Bismack Biyombo </td><td>TOR</td><td>PF</td><td>82</td><td>1810</td><td>156</td><td> 288</td><td>  0</td><td>  1</td><td>⋯</td><td> 19</td><td> 71</td><td>133</td><td>225</td><td>2</td><td> 454</td><td> 3</td><td>0</td><td>0</td><td>22</td></tr>\n",
              "\t<tr><td>NBA</td><td>Corey Brewer    </td><td>HOU</td><td>SG</td><td>82</td><td>1670</td><td>212</td><td> 552</td><td> 61</td><td>225</td><td>⋯</td><td> 84</td><td> 78</td><td> 19</td><td>168</td><td>1</td><td> 590</td><td> 0</td><td>0</td><td>0</td><td>12</td></tr>\n",
              "\t<tr><td>NBA</td><td>Allen Crabbe    </td><td>POR</td><td>SF</td><td>81</td><td>2111</td><td>312</td><td> 678</td><td>112</td><td>284</td><td>⋯</td><td> 63</td><td> 64</td><td> 16</td><td>192</td><td>2</td><td> 834</td><td> 0</td><td>0</td><td>0</td><td> 8</td></tr>\n",
              "\t<tr><td>NBA</td><td>Ed Davis        </td><td>POR</td><td>PF</td><td>81</td><td>1684</td><td>206</td><td> 337</td><td>  0</td><td>  0</td><td>⋯</td><td> 57</td><td> 64</td><td> 72</td><td>202</td><td>2</td><td> 526</td><td> 2</td><td>0</td><td>0</td><td> 0</td></tr>\n",
              "\t<tr><td>NBA</td><td>Gorgui Dieng    </td><td>MIN</td><td>C </td><td>82</td><td>2222</td><td>308</td><td> 578</td><td>  6</td><td> 20</td><td>⋯</td><td> 94</td><td>140</td><td> 96</td><td>219</td><td>0</td><td> 827</td><td> 1</td><td>0</td><td>0</td><td>39</td></tr>\n",
              "\t<tr><td>NBA</td><td>Andre Drummond  </td><td>DET</td><td>C </td><td>81</td><td>2664</td><td>552</td><td>1061</td><td>  2</td><td>  6</td><td>⋯</td><td>119</td><td>154</td><td>112</td><td>245</td><td>2</td><td>1314</td><td> 7</td><td>0</td><td>0</td><td>81</td></tr>\n",
              "\t<tr><td>NBA</td><td>Jared Dudley    </td><td>WAS</td><td>SG</td><td>81</td><td>2098</td><td>233</td><td> 487</td><td>100</td><td>239</td><td>⋯</td><td> 75</td><td> 80</td><td> 18</td><td>190</td><td>1</td><td> 638</td><td> 1</td><td>0</td><td>0</td><td>41</td></tr>\n",
              "\t<tr><td>NBA</td><td>Monta Ellis     </td><td>IND</td><td>PG</td><td>81</td><td>2733</td><td>436</td><td>1021</td><td> 87</td><td>281</td><td>⋯</td><td>149</td><td>203</td><td> 38</td><td>174</td><td>0</td><td>1121</td><td> 1</td><td>0</td><td>0</td><td>81</td></tr>\n",
              "\t<tr><td>NBA</td><td>Randy Foye      </td><td>OKC</td><td>SG</td><td>81</td><td>1640</td><td>168</td><td> 481</td><td> 75</td><td>250</td><td>⋯</td><td> 39</td><td> 86</td><td> 29</td><td>131</td><td>0</td><td> 472</td><td> 0</td><td>0</td><td>0</td><td> 8</td></tr>\n",
              "\t<tr><td>NBA</td><td>Langsto Galloway</td><td>NYK</td><td>PG</td><td>82</td><td>2032</td><td>231</td><td> 588</td><td> 77</td><td>224</td><td>⋯</td><td> 77</td><td> 61</td><td> 22</td><td>177</td><td>2</td><td> 625</td><td> 0</td><td>0</td><td>0</td><td> 7</td></tr>\n",
              "\t<tr><td>NBA</td><td>Paul George     </td><td>IND</td><td>SF</td><td>81</td><td>2828</td><td>605</td><td>1448</td><td>210</td><td>565</td><td>⋯</td><td>152</td><td>265</td><td> 29</td><td>230</td><td>1</td><td>1874</td><td> 6</td><td>0</td><td>0</td><td>81</td></tr>\n",
              "\t<tr><td>NBA</td><td>Draymond Green  </td><td>GSW</td><td>SF</td><td>81</td><td>2807</td><td>401</td><td> 819</td><td>100</td><td>258</td><td>⋯</td><td>118</td><td>259</td><td>111</td><td>240</td><td>2</td><td>1131</td><td>11</td><td>0</td><td>0</td><td>81</td></tr>\n",
              "\t<tr><td>NBA</td><td>James Harden    </td><td>HOU</td><td>SG</td><td>82</td><td>3121</td><td>710</td><td>1617</td><td>236</td><td>656</td><td>⋯</td><td>138</td><td>374</td><td> 51</td><td>229</td><td>1</td><td>2376</td><td> 2</td><td>0</td><td>0</td><td>82</td></tr>\n",
              "\t<tr><td>NBA</td><td>Roy Hibbert     </td><td>LAL</td><td>C </td><td>81</td><td>1881</td><td>182</td><td> 411</td><td>  0</td><td>  2</td><td>⋯</td><td> 32</td><td> 76</td><td>110</td><td>252</td><td>3</td><td> 481</td><td> 2</td><td>0</td><td>0</td><td>81</td></tr>\n",
              "\t<tr><td>NBA</td><td>Al Horford      </td><td>ATL</td><td>PF</td><td>82</td><td>2638</td><td>529</td><td>1049</td><td> 88</td><td>257</td><td>⋯</td><td> 67</td><td>107</td><td>122</td><td>163</td><td>0</td><td>1249</td><td> 1</td><td>0</td><td>0</td><td>82</td></tr>\n",
              "\t<tr><td>NBA</td><td>Joe Ingles      </td><td>UTA</td><td>SF</td><td>81</td><td>1241</td><td>124</td><td> 291</td><td> 81</td><td>210</td><td>⋯</td><td> 55</td><td> 65</td><td>  4</td><td> 98</td><td>0</td><td> 342</td><td> 1</td><td>0</td><td>0</td><td> 2</td></tr>\n",
              "\t<tr><td>NBA</td><td>Joe Johnson     </td><td>MIA</td><td>SF</td><td>81</td><td>2703</td><td>377</td><td> 859</td><td>120</td><td>313</td><td>⋯</td><td> 61</td><td>160</td><td>  4</td><td>146</td><td>0</td><td> 992</td><td> 1</td><td>0</td><td>0</td><td>81</td></tr>\n",
              "\t<tr><td>NBA</td><td>Frank Kaminsky  </td><td>CHA</td><td>PF</td><td>81</td><td>1713</td><td>215</td><td> 525</td><td> 68</td><td>202</td><td>⋯</td><td> 37</td><td> 58</td><td> 43</td><td>126</td><td>0</td><td> 606</td><td> 0</td><td>0</td><td>0</td><td> 3</td></tr>\n",
              "\t<tr><td>NBA</td><td>Enes Kanter     </td><td>OKL</td><td>C </td><td>82</td><td>1721</td><td>415</td><td> 720</td><td> 10</td><td> 21</td><td>⋯</td><td> 26</td><td>115</td><td> 33</td><td>166</td><td>1</td><td>1040</td><td> 2</td><td>0</td><td>0</td><td> 1</td></tr>\n",
              "\t<tr><td>NBA</td><td>Zach Lavine     </td><td>MIN</td><td>PG</td><td>82</td><td>2295</td><td>433</td><td> 960</td><td>123</td><td>316</td><td>⋯</td><td> 69</td><td>155</td><td> 17</td><td>193</td><td>1</td><td>1150</td><td> 0</td><td>0</td><td>0</td><td>33</td></tr>\n",
              "\t<tr><td>NBA</td><td>Robin Lopez     </td><td>NYK</td><td>C </td><td>82</td><td>2213</td><td>357</td><td> 662</td><td>  0</td><td>  1</td><td>⋯</td><td> 16</td><td>133</td><td>129</td><td>182</td><td>2</td><td> 842</td><td> 3</td><td>0</td><td>0</td><td>82</td></tr>\n",
              "\t<tr><td>NBA</td><td>T.j. Mcconnell  </td><td>PHI</td><td>PG</td><td>81</td><td>1609</td><td>218</td><td> 464</td><td> 31</td><td> 89</td><td>⋯</td><td> 95</td><td>140</td><td> 10</td><td>114</td><td>0</td><td> 493</td><td> 0</td><td>0</td><td>0</td><td>17</td></tr>\n",
              "\t<tr><td>NBA</td><td>Doug Mcdermott  </td><td>CHI</td><td>SF</td><td>81</td><td>1860</td><td>291</td><td> 644</td><td>110</td><td>259</td><td>⋯</td><td> 14</td><td> 52</td><td>  6</td><td>127</td><td>0</td><td> 764</td><td> 0</td><td>0</td><td>0</td><td> 4</td></tr>\n",
              "\t<tr><td>NBA</td><td>Patty Mills     </td><td>SAN</td><td>PG</td><td>81</td><td>1659</td><td>260</td><td> 612</td><td>123</td><td>320</td><td>⋯</td><td> 59</td><td> 76</td><td>  6</td><td>102</td><td>0</td><td> 690</td><td> 0</td><td>0</td><td>0</td><td> 3</td></tr>\n",
              "\t<tr><td>NBA</td><td>Paul Millsap    </td><td>ATL</td><td>PF</td><td>81</td><td>2640</td><td>501</td><td>1067</td><td> 74</td><td>232</td><td>⋯</td><td>148</td><td>191</td><td>140</td><td>237</td><td>2</td><td>1385</td><td> 4</td><td>0</td><td>0</td><td>81</td></tr>\n",
              "\t<tr><td>NBA</td><td>Shabazz Muhammad</td><td>MIN</td><td>SF</td><td>82</td><td>1678</td><td>317</td><td> 681</td><td> 44</td><td>152</td><td>⋯</td><td> 24</td><td> 70</td><td>  7</td><td> 94</td><td>0</td><td> 863</td><td> 0</td><td>0</td><td>0</td><td> 0</td></tr>\n",
              "\t<tr><td>NBA</td><td>Raul Neto       </td><td>UTA</td><td>PG</td><td>81</td><td>1501</td><td>180</td><td> 418</td><td> 64</td><td>162</td><td>⋯</td><td> 62</td><td>109</td><td>  2</td><td>122</td><td>1</td><td> 476</td><td> 0</td><td>0</td><td>0</td><td>53</td></tr>\n",
              "\t<tr><td>NBA</td><td>Mason Plumlee   </td><td>POR</td><td>PF</td><td>82</td><td>2087</td><td>267</td><td> 517</td><td>  0</td><td>  4</td><td>⋯</td><td> 68</td><td>154</td><td> 82</td><td>253</td><td>4</td><td> 749</td><td> 1</td><td>0</td><td>0</td><td>82</td></tr>\n",
              "\t<tr><td>NBA</td><td>Julius Randle   </td><td>LAL</td><td>PF</td><td>81</td><td>2287</td><td>358</td><td> 835</td><td> 10</td><td> 36</td><td>⋯</td><td> 53</td><td>149</td><td> 29</td><td>242</td><td>2</td><td> 919</td><td> 0</td><td>0</td><td>0</td><td>60</td></tr>\n",
              "\t<tr><td>NBA</td><td>Ramon Sessions  </td><td>WAS</td><td>PG</td><td>82</td><td>1667</td><td>280</td><td> 592</td><td> 36</td><td>111</td><td>⋯</td><td> 47</td><td>115</td><td>  5</td><td>102</td><td>0</td><td> 810</td><td> 0</td><td>0</td><td>0</td><td> 5</td></tr>\n",
              "\t<tr><td>NBA</td><td>Jared Sullinger </td><td>BOS</td><td>PF</td><td>81</td><td>1917</td><td>351</td><td> 807</td><td> 29</td><td>104</td><td>⋯</td><td> 75</td><td>102</td><td> 47</td><td>209</td><td>2</td><td> 834</td><td> 2</td><td>0</td><td>0</td><td>73</td></tr>\n",
              "\t<tr><td>NBA</td><td>Isaiah Thomas   </td><td>BOS</td><td>PG</td><td>82</td><td>2647</td><td>591</td><td>1382</td><td>167</td><td>465</td><td>⋯</td><td> 91</td><td>220</td><td>  9</td><td>167</td><td>1</td><td>1823</td><td> 9</td><td>0</td><td>0</td><td>79</td></tr>\n",
              "\t<tr><td>NBA</td><td>Tristan Thompson</td><td>CLE</td><td>C </td><td>82</td><td>2269</td><td>247</td><td> 420</td><td>  0</td><td>  0</td><td>⋯</td><td> 38</td><td> 61</td><td> 51</td><td>202</td><td>0</td><td> 643</td><td> 1</td><td>0</td><td>0</td><td>34</td></tr>\n",
              "\t<tr><td>NBA</td><td>Karl-antho Towns</td><td>MIN</td><td>C </td><td>82</td><td>2621</td><td>625</td><td>1152</td><td> 30</td><td> 88</td><td>⋯</td><td> 58</td><td>183</td><td>138</td><td>245</td><td>1</td><td>1503</td><td> 2</td><td>0</td><td>0</td><td>82</td></tr>\n",
              "\t<tr><td>NBA</td><td>P.j. Tucker     </td><td>PHO</td><td>SF</td><td>82</td><td>2540</td><td>239</td><td> 582</td><td> 68</td><td>206</td><td>⋯</td><td>106</td><td>111</td><td> 20</td><td>202</td><td>3</td><td> 652</td><td> 4</td><td>0</td><td>0</td><td>80</td></tr>\n",
              "\t<tr><td>NBA</td><td>Evan Turner     </td><td>BOS</td><td>SG</td><td>81</td><td>2270</td><td>343</td><td> 753</td><td> 20</td><td> 83</td><td>⋯</td><td> 80</td><td>169</td><td> 28</td><td>139</td><td>0</td><td> 854</td><td> 2</td><td>0</td><td>0</td><td>12</td></tr>\n",
              "\t<tr><td>NBA</td><td>Kemba Walker    </td><td>CHA</td><td>PG</td><td>81</td><td>2885</td><td>568</td><td>1332</td><td>182</td><td>490</td><td>⋯</td><td>127</td><td>171</td><td> 39</td><td>111</td><td>0</td><td>1689</td><td> 5</td><td>0</td><td>0</td><td>81</td></tr>\n",
              "\t<tr><td>NBA</td><td>Andrew Wiggins  </td><td>MIN</td><td>SF</td><td>81</td><td>2844</td><td>594</td><td>1294</td><td> 57</td><td>190</td><td>⋯</td><td> 78</td><td>182</td><td> 46</td><td>165</td><td>1</td><td>1675</td><td> 1</td><td>0</td><td>0</td><td>81</td></tr>\n",
              "\t<tr><td>NBA</td><td>Marvin Williams </td><td>CHA</td><td>PF</td><td>81</td><td>2339</td><td>338</td><td> 747</td><td>152</td><td>379</td><td>⋯</td><td> 58</td><td> 62</td><td> 77</td><td>133</td><td>1</td><td> 948</td><td> 0</td><td>0</td><td>0</td><td>81</td></tr>\n",
              "</tbody>\n",
              "</table>\n"
            ]
          },
          "metadata": {
            "tags": []
          }
        }
      ]
    },
    {
      "cell_type": "code",
      "metadata": {
        "id": "G5ZT2HSSqh-i",
        "outputId": "b8193603-c4e8-4336-c94d-f148679f85b4",
        "colab": {
          "base_uri": "https://localhost:8080/",
          "height": 372
        }
      },
      "source": [
        "NBA1516DT[grepl(\"C\",Name)&Position ==\"PG\"]"
      ],
      "execution_count": 61,
      "outputs": [
        {
          "output_type": "display_data",
          "data": {
            "text/plain": [
              "   League Name            Team Position GamesPlayed TotalMinutesPlayed\n",
              "1  NBA    Jose Calderon   NYK  PG       72          2021              \n",
              "2  NBA    Isaiah Canaan   PHI  PG       77          1968              \n",
              "3  NBA    Carter-williams MIL  PG       54          1649              \n",
              "4  NBA    Mario Chalmers  MEM  PG       61          1378              \n",
              "5  NBA    Jordan Clarkson LAL  PG       79          2556              \n",
              "6  NBA    Norris Cole     NOR  PG       45          1199              \n",
              "7  NBA    Darren Collison SAC  PG       74          2216              \n",
              "8  NBA    Mike Conley     MEM  PG       56          1754              \n",
              "9  NBA    Bryce Cotton    MEM  PG        8            41              \n",
              "10 NBA    Stephen Curry   GSW  PG       79          2705              \n",
              "11 NBA    Cory Joseph     TOR  PG       80          2053              \n",
              "12 NBA    Chris Paul      LAC  PG       74          2425              \n",
              "13 NBA    Cameron Payne   OKL  PG       57           703              \n",
              "14 NBA    C.j. Watson     ORL  PG       33           655              \n",
              "   FieldGoalsMade FieldGoalsAttempted ThreesMade ThreesAttempted ⋯ Steals\n",
              "1  209             455                 84        203             ⋯  63   \n",
              "2  260             722                176        484             ⋯  56   \n",
              "3  251             555                 15         55             ⋯  80   \n",
              "4  182             444                 46        149             ⋯  88   \n",
              "5  475            1099                111        318             ⋯  88   \n",
              "6  196             485                 33        103             ⋯  37   \n",
              "7  377             776                 87        217             ⋯  76   \n",
              "8  294             696                 78        215             ⋯  67   \n",
              "9    4              10                  0          3             ⋯   3   \n",
              "10 805            1597                402        887             ⋯ 169   \n",
              "11 257             585                 30        110             ⋯  63   \n",
              "12 515            1114                122        329             ⋯ 151   \n",
              "13 114             278                 36        111             ⋯  36   \n",
              "14  47             137                 14         48             ⋯  19   \n",
              "   Turnovers Blocks PersonalFouls Disqualifications TotalPoints Technicals\n",
              "1   87        7     135           1                  544        2         \n",
              "2   91       12     133           0                  846        1         \n",
              "3  153       41     162           0                  623        3         \n",
              "4  111       13     181           0                  628        5         \n",
              "5  135        7     168           1                 1225        0         \n",
              "6   75        5     102           0                  477        0         \n",
              "7  129        4     142           0                 1035        1         \n",
              "8   84       16     100           0                  857        0         \n",
              "9    5        0       2           0                    8        0         \n",
              "10 261       16     161           0                 2375        1         \n",
              "11 102       20     131           0                  677        1         \n",
              "12 193       13     185           0                 1446        7         \n",
              "13  44        6      80           0                  283        0         \n",
              "14  25        5      49           0                  142        0         \n",
              "   Ejections FlagrantFouls GamesStarted\n",
              "1  0         0             72          \n",
              "2  0         0             39          \n",
              "3  0         0             37          \n",
              "4  0         0              7          \n",
              "5  0         0             79          \n",
              "6  0         0             23          \n",
              "7  0         0             15          \n",
              "8  0         0             56          \n",
              "9  0         0              0          \n",
              "10 0         0             79          \n",
              "11 0         0              4          \n",
              "12 0         0             74          \n",
              "13 0         0              1          \n",
              "14 0         0              2          "
            ],
            "text/latex": "A data.table: 14 × 25\n\\begin{tabular}{lllllllllllllllllllll}\n League & Name & Team & Position & GamesPlayed & TotalMinutesPlayed & FieldGoalsMade & FieldGoalsAttempted & ThreesMade & ThreesAttempted & ⋯ & Steals & Turnovers & Blocks & PersonalFouls & Disqualifications & TotalPoints & Technicals & Ejections & FlagrantFouls & GamesStarted\\\\\n <fct> & <chr> & <fct> & <fct> & <int> & <int> & <int> & <int> & <int> & <int> & ⋯ & <int> & <int> & <int> & <int> & <int> & <int> & <int> & <int> & <int> & <int>\\\\\n\\hline\n\t NBA & Jose Calderon   & NYK & PG & 72 & 2021 & 209 &  455 &  84 & 203 & ⋯ &  63 &  87 &  7 & 135 & 1 &  544 & 2 & 0 & 0 & 72\\\\\n\t NBA & Isaiah Canaan   & PHI & PG & 77 & 1968 & 260 &  722 & 176 & 484 & ⋯ &  56 &  91 & 12 & 133 & 0 &  846 & 1 & 0 & 0 & 39\\\\\n\t NBA & Carter-williams & MIL & PG & 54 & 1649 & 251 &  555 &  15 &  55 & ⋯ &  80 & 153 & 41 & 162 & 0 &  623 & 3 & 0 & 0 & 37\\\\\n\t NBA & Mario Chalmers  & MEM & PG & 61 & 1378 & 182 &  444 &  46 & 149 & ⋯ &  88 & 111 & 13 & 181 & 0 &  628 & 5 & 0 & 0 &  7\\\\\n\t NBA & Jordan Clarkson & LAL & PG & 79 & 2556 & 475 & 1099 & 111 & 318 & ⋯ &  88 & 135 &  7 & 168 & 1 & 1225 & 0 & 0 & 0 & 79\\\\\n\t NBA & Norris Cole     & NOR & PG & 45 & 1199 & 196 &  485 &  33 & 103 & ⋯ &  37 &  75 &  5 & 102 & 0 &  477 & 0 & 0 & 0 & 23\\\\\n\t NBA & Darren Collison & SAC & PG & 74 & 2216 & 377 &  776 &  87 & 217 & ⋯ &  76 & 129 &  4 & 142 & 0 & 1035 & 1 & 0 & 0 & 15\\\\\n\t NBA & Mike Conley     & MEM & PG & 56 & 1754 & 294 &  696 &  78 & 215 & ⋯ &  67 &  84 & 16 & 100 & 0 &  857 & 0 & 0 & 0 & 56\\\\\n\t NBA & Bryce Cotton    & MEM & PG &  8 &   41 &   4 &   10 &   0 &   3 & ⋯ &   3 &   5 &  0 &   2 & 0 &    8 & 0 & 0 & 0 &  0\\\\\n\t NBA & Stephen Curry   & GSW & PG & 79 & 2705 & 805 & 1597 & 402 & 887 & ⋯ & 169 & 261 & 16 & 161 & 0 & 2375 & 1 & 0 & 0 & 79\\\\\n\t NBA & Cory Joseph     & TOR & PG & 80 & 2053 & 257 &  585 &  30 & 110 & ⋯ &  63 & 102 & 20 & 131 & 0 &  677 & 1 & 0 & 0 &  4\\\\\n\t NBA & Chris Paul      & LAC & PG & 74 & 2425 & 515 & 1114 & 122 & 329 & ⋯ & 151 & 193 & 13 & 185 & 0 & 1446 & 7 & 0 & 0 & 74\\\\\n\t NBA & Cameron Payne   & OKL & PG & 57 &  703 & 114 &  278 &  36 & 111 & ⋯ &  36 &  44 &  6 &  80 & 0 &  283 & 0 & 0 & 0 &  1\\\\\n\t NBA & C.j. Watson     & ORL & PG & 33 &  655 &  47 &  137 &  14 &  48 & ⋯ &  19 &  25 &  5 &  49 & 0 &  142 & 0 & 0 & 0 &  2\\\\\n\\end{tabular}\n",
            "text/markdown": "\nA data.table: 14 × 25\n\n| League &lt;fct&gt; | Name &lt;chr&gt; | Team &lt;fct&gt; | Position &lt;fct&gt; | GamesPlayed &lt;int&gt; | TotalMinutesPlayed &lt;int&gt; | FieldGoalsMade &lt;int&gt; | FieldGoalsAttempted &lt;int&gt; | ThreesMade &lt;int&gt; | ThreesAttempted &lt;int&gt; | ⋯ ⋯ | Steals &lt;int&gt; | Turnovers &lt;int&gt; | Blocks &lt;int&gt; | PersonalFouls &lt;int&gt; | Disqualifications &lt;int&gt; | TotalPoints &lt;int&gt; | Technicals &lt;int&gt; | Ejections &lt;int&gt; | FlagrantFouls &lt;int&gt; | GamesStarted &lt;int&gt; |\n|---|---|---|---|---|---|---|---|---|---|---|---|---|---|---|---|---|---|---|---|---|\n| NBA | Jose Calderon   | NYK | PG | 72 | 2021 | 209 |  455 |  84 | 203 | ⋯ |  63 |  87 |  7 | 135 | 1 |  544 | 2 | 0 | 0 | 72 |\n| NBA | Isaiah Canaan   | PHI | PG | 77 | 1968 | 260 |  722 | 176 | 484 | ⋯ |  56 |  91 | 12 | 133 | 0 |  846 | 1 | 0 | 0 | 39 |\n| NBA | Carter-williams | MIL | PG | 54 | 1649 | 251 |  555 |  15 |  55 | ⋯ |  80 | 153 | 41 | 162 | 0 |  623 | 3 | 0 | 0 | 37 |\n| NBA | Mario Chalmers  | MEM | PG | 61 | 1378 | 182 |  444 |  46 | 149 | ⋯ |  88 | 111 | 13 | 181 | 0 |  628 | 5 | 0 | 0 |  7 |\n| NBA | Jordan Clarkson | LAL | PG | 79 | 2556 | 475 | 1099 | 111 | 318 | ⋯ |  88 | 135 |  7 | 168 | 1 | 1225 | 0 | 0 | 0 | 79 |\n| NBA | Norris Cole     | NOR | PG | 45 | 1199 | 196 |  485 |  33 | 103 | ⋯ |  37 |  75 |  5 | 102 | 0 |  477 | 0 | 0 | 0 | 23 |\n| NBA | Darren Collison | SAC | PG | 74 | 2216 | 377 |  776 |  87 | 217 | ⋯ |  76 | 129 |  4 | 142 | 0 | 1035 | 1 | 0 | 0 | 15 |\n| NBA | Mike Conley     | MEM | PG | 56 | 1754 | 294 |  696 |  78 | 215 | ⋯ |  67 |  84 | 16 | 100 | 0 |  857 | 0 | 0 | 0 | 56 |\n| NBA | Bryce Cotton    | MEM | PG |  8 |   41 |   4 |   10 |   0 |   3 | ⋯ |   3 |   5 |  0 |   2 | 0 |    8 | 0 | 0 | 0 |  0 |\n| NBA | Stephen Curry   | GSW | PG | 79 | 2705 | 805 | 1597 | 402 | 887 | ⋯ | 169 | 261 | 16 | 161 | 0 | 2375 | 1 | 0 | 0 | 79 |\n| NBA | Cory Joseph     | TOR | PG | 80 | 2053 | 257 |  585 |  30 | 110 | ⋯ |  63 | 102 | 20 | 131 | 0 |  677 | 1 | 0 | 0 |  4 |\n| NBA | Chris Paul      | LAC | PG | 74 | 2425 | 515 | 1114 | 122 | 329 | ⋯ | 151 | 193 | 13 | 185 | 0 | 1446 | 7 | 0 | 0 | 74 |\n| NBA | Cameron Payne   | OKL | PG | 57 |  703 | 114 |  278 |  36 | 111 | ⋯ |  36 |  44 |  6 |  80 | 0 |  283 | 0 | 0 | 0 |  1 |\n| NBA | C.j. Watson     | ORL | PG | 33 |  655 |  47 |  137 |  14 |  48 | ⋯ |  19 |  25 |  5 |  49 | 0 |  142 | 0 | 0 | 0 |  2 |\n\n",
            "text/html": [
              "<table>\n",
              "<caption>A data.table: 14 × 25</caption>\n",
              "<thead>\n",
              "\t<tr><th scope=col>League</th><th scope=col>Name</th><th scope=col>Team</th><th scope=col>Position</th><th scope=col>GamesPlayed</th><th scope=col>TotalMinutesPlayed</th><th scope=col>FieldGoalsMade</th><th scope=col>FieldGoalsAttempted</th><th scope=col>ThreesMade</th><th scope=col>ThreesAttempted</th><th scope=col>⋯</th><th scope=col>Steals</th><th scope=col>Turnovers</th><th scope=col>Blocks</th><th scope=col>PersonalFouls</th><th scope=col>Disqualifications</th><th scope=col>TotalPoints</th><th scope=col>Technicals</th><th scope=col>Ejections</th><th scope=col>FlagrantFouls</th><th scope=col>GamesStarted</th></tr>\n",
              "\t<tr><th scope=col>&lt;fct&gt;</th><th scope=col>&lt;chr&gt;</th><th scope=col>&lt;fct&gt;</th><th scope=col>&lt;fct&gt;</th><th scope=col>&lt;int&gt;</th><th scope=col>&lt;int&gt;</th><th scope=col>&lt;int&gt;</th><th scope=col>&lt;int&gt;</th><th scope=col>&lt;int&gt;</th><th scope=col>&lt;int&gt;</th><th scope=col>⋯</th><th scope=col>&lt;int&gt;</th><th scope=col>&lt;int&gt;</th><th scope=col>&lt;int&gt;</th><th scope=col>&lt;int&gt;</th><th scope=col>&lt;int&gt;</th><th scope=col>&lt;int&gt;</th><th scope=col>&lt;int&gt;</th><th scope=col>&lt;int&gt;</th><th scope=col>&lt;int&gt;</th><th scope=col>&lt;int&gt;</th></tr>\n",
              "</thead>\n",
              "<tbody>\n",
              "\t<tr><td>NBA</td><td>Jose Calderon  </td><td>NYK</td><td>PG</td><td>72</td><td>2021</td><td>209</td><td> 455</td><td> 84</td><td>203</td><td>⋯</td><td> 63</td><td> 87</td><td> 7</td><td>135</td><td>1</td><td> 544</td><td>2</td><td>0</td><td>0</td><td>72</td></tr>\n",
              "\t<tr><td>NBA</td><td>Isaiah Canaan  </td><td>PHI</td><td>PG</td><td>77</td><td>1968</td><td>260</td><td> 722</td><td>176</td><td>484</td><td>⋯</td><td> 56</td><td> 91</td><td>12</td><td>133</td><td>0</td><td> 846</td><td>1</td><td>0</td><td>0</td><td>39</td></tr>\n",
              "\t<tr><td>NBA</td><td>Carter-williams</td><td>MIL</td><td>PG</td><td>54</td><td>1649</td><td>251</td><td> 555</td><td> 15</td><td> 55</td><td>⋯</td><td> 80</td><td>153</td><td>41</td><td>162</td><td>0</td><td> 623</td><td>3</td><td>0</td><td>0</td><td>37</td></tr>\n",
              "\t<tr><td>NBA</td><td>Mario Chalmers </td><td>MEM</td><td>PG</td><td>61</td><td>1378</td><td>182</td><td> 444</td><td> 46</td><td>149</td><td>⋯</td><td> 88</td><td>111</td><td>13</td><td>181</td><td>0</td><td> 628</td><td>5</td><td>0</td><td>0</td><td> 7</td></tr>\n",
              "\t<tr><td>NBA</td><td>Jordan Clarkson</td><td>LAL</td><td>PG</td><td>79</td><td>2556</td><td>475</td><td>1099</td><td>111</td><td>318</td><td>⋯</td><td> 88</td><td>135</td><td> 7</td><td>168</td><td>1</td><td>1225</td><td>0</td><td>0</td><td>0</td><td>79</td></tr>\n",
              "\t<tr><td>NBA</td><td>Norris Cole    </td><td>NOR</td><td>PG</td><td>45</td><td>1199</td><td>196</td><td> 485</td><td> 33</td><td>103</td><td>⋯</td><td> 37</td><td> 75</td><td> 5</td><td>102</td><td>0</td><td> 477</td><td>0</td><td>0</td><td>0</td><td>23</td></tr>\n",
              "\t<tr><td>NBA</td><td>Darren Collison</td><td>SAC</td><td>PG</td><td>74</td><td>2216</td><td>377</td><td> 776</td><td> 87</td><td>217</td><td>⋯</td><td> 76</td><td>129</td><td> 4</td><td>142</td><td>0</td><td>1035</td><td>1</td><td>0</td><td>0</td><td>15</td></tr>\n",
              "\t<tr><td>NBA</td><td>Mike Conley    </td><td>MEM</td><td>PG</td><td>56</td><td>1754</td><td>294</td><td> 696</td><td> 78</td><td>215</td><td>⋯</td><td> 67</td><td> 84</td><td>16</td><td>100</td><td>0</td><td> 857</td><td>0</td><td>0</td><td>0</td><td>56</td></tr>\n",
              "\t<tr><td>NBA</td><td>Bryce Cotton   </td><td>MEM</td><td>PG</td><td> 8</td><td>  41</td><td>  4</td><td>  10</td><td>  0</td><td>  3</td><td>⋯</td><td>  3</td><td>  5</td><td> 0</td><td>  2</td><td>0</td><td>   8</td><td>0</td><td>0</td><td>0</td><td> 0</td></tr>\n",
              "\t<tr><td>NBA</td><td>Stephen Curry  </td><td>GSW</td><td>PG</td><td>79</td><td>2705</td><td>805</td><td>1597</td><td>402</td><td>887</td><td>⋯</td><td>169</td><td>261</td><td>16</td><td>161</td><td>0</td><td>2375</td><td>1</td><td>0</td><td>0</td><td>79</td></tr>\n",
              "\t<tr><td>NBA</td><td>Cory Joseph    </td><td>TOR</td><td>PG</td><td>80</td><td>2053</td><td>257</td><td> 585</td><td> 30</td><td>110</td><td>⋯</td><td> 63</td><td>102</td><td>20</td><td>131</td><td>0</td><td> 677</td><td>1</td><td>0</td><td>0</td><td> 4</td></tr>\n",
              "\t<tr><td>NBA</td><td>Chris Paul     </td><td>LAC</td><td>PG</td><td>74</td><td>2425</td><td>515</td><td>1114</td><td>122</td><td>329</td><td>⋯</td><td>151</td><td>193</td><td>13</td><td>185</td><td>0</td><td>1446</td><td>7</td><td>0</td><td>0</td><td>74</td></tr>\n",
              "\t<tr><td>NBA</td><td>Cameron Payne  </td><td>OKL</td><td>PG</td><td>57</td><td> 703</td><td>114</td><td> 278</td><td> 36</td><td>111</td><td>⋯</td><td> 36</td><td> 44</td><td> 6</td><td> 80</td><td>0</td><td> 283</td><td>0</td><td>0</td><td>0</td><td> 1</td></tr>\n",
              "\t<tr><td>NBA</td><td>C.j. Watson    </td><td>ORL</td><td>PG</td><td>33</td><td> 655</td><td> 47</td><td> 137</td><td> 14</td><td> 48</td><td>⋯</td><td> 19</td><td> 25</td><td> 5</td><td> 49</td><td>0</td><td> 142</td><td>0</td><td>0</td><td>0</td><td> 2</td></tr>\n",
              "</tbody>\n",
              "</table>\n"
            ]
          },
          "metadata": {
            "tags": []
          }
        }
      ]
    },
    {
      "cell_type": "code",
      "metadata": {
        "id": "eNrMJKR_q-NZ",
        "outputId": "64fa311e-6f8c-47da-f283-a137a7250456",
        "colab": {
          "base_uri": "https://localhost:8080/",
          "height": 414
        }
      },
      "source": [
        "NBA1516DT[grepl(\"J\",Name)&Position ==\"SF\"]"
      ],
      "execution_count": 62,
      "outputs": [
        {
          "output_type": "display_data",
          "data": {
            "text/plain": [
              "   League Name             Team Position GamesPlayed TotalMinutesPlayed\n",
              "1  NBA    Jae Crowder      BOS  SF       73          2310              \n",
              "2  NBA    James Ennis      NOR  SF       22           329              \n",
              "3  NBA    Jeremy Evans     DAL  SF       30           251              \n",
              "4  NBA    Jerami Grant     PHI  SF       77          2068              \n",
              "5  NBA    Jeff Green       LAC  SF       80          2258              \n",
              "6  NBA    Josh Huestis     OKL  SF        5            55              \n",
              "7  NBA    Joe Ingles       UTA  SF       81          1241              \n",
              "8  NBA    Lebron James     CLE  SF       76          2710              \n",
              "9  NBA    Richar Jefferson CLE  SF       74          1326              \n",
              "10 NBA    Chris Johnson    UTA  SF       70           858              \n",
              "11 NBA    Joe Johnson      MIA  SF       81          2703              \n",
              "12 NBA    Stanley Johnson  DET  SF       73          1685              \n",
              "13 NBA    J.j. O'brien     UTA  SF        1             2              \n",
              "14 NBA    Jabari Parker    MIL  SF       76          2407              \n",
              "15 NBA    Josh Smith       HOU  SF       55           878              \n",
              "16 NBA    Justise Winslow  MIA  SF       78          2237              \n",
              "   FieldGoalsMade FieldGoalsAttempted ThreesMade ThreesAttempted ⋯ Steals\n",
              "1  359             812                122        363             ⋯ 126   \n",
              "2   54             113                 26         58             ⋯  16   \n",
              "3   26              48                  4         16             ⋯   6   \n",
              "4  251             599                 35        146             ⋯  54   \n",
              "5  354             824                 67        213             ⋯  58   \n",
              "6    5              12                  4          6             ⋯   1   \n",
              "7  124             291                 81        210             ⋯  55   \n",
              "8  737            1416                 87        282             ⋯ 104   \n",
              "9  143             312                 66        173             ⋯  33   \n",
              "10  72             194                 27         99             ⋯  32   \n",
              "11 377             859                120        313             ⋯  61   \n",
              "12 225             600                 63        205             ⋯  55   \n",
              "13   0               1                  0          0             ⋯   0   \n",
              "14 443             899                  9         35             ⋯  69   \n",
              "15 127             349                 41        143             ⋯  34   \n",
              "16 196             463                 32        116             ⋯  68   \n",
              "   Turnovers Blocks PersonalFouls Disqualifications TotalPoints Technicals\n",
              "1   83        35    198           4                 1036        3         \n",
              "2   19         5     28           1                  159        0         \n",
              "3    7         9     19           0                   71        0         \n",
              "4  110       127    215           1                  749        2         \n",
              "5   93        40    164           0                  939        0         \n",
              "6    3         2      3           0                   14        0         \n",
              "7   65         4     98           0                  342        1         \n",
              "8  249        49    143           0                 1920        3         \n",
              "9   43        14    129           0                  410        1         \n",
              "10  40        20    100           1                  205        0         \n",
              "11 160         4    146           0                  992        1         \n",
              "12 114        12    178           2                  593        2         \n",
              "13   0         0      0           0                    0        0         \n",
              "14 116        29    154           0                 1070        0         \n",
              "15  77        47    118           1                  332        1         \n",
              "16  95        26    184           0                  504        0         \n",
              "   Ejections FlagrantFouls GamesStarted\n",
              "1  0         0             73          \n",
              "2  0         0              5          \n",
              "3  0         0              2          \n",
              "4  0         0             52          \n",
              "5  0         0             41          \n",
              "6  0         0              0          \n",
              "7  0         0              2          \n",
              "8  0         0             76          \n",
              "9  0         0              5          \n",
              "10 0         0              2          \n",
              "11 0         0             81          \n",
              "12 0         0              6          \n",
              "13 0         0              0          \n",
              "14 0         0             72          \n",
              "15 0         0              7          \n",
              "16 0         0              8          "
            ],
            "text/latex": "A data.table: 16 × 25\n\\begin{tabular}{lllllllllllllllllllll}\n League & Name & Team & Position & GamesPlayed & TotalMinutesPlayed & FieldGoalsMade & FieldGoalsAttempted & ThreesMade & ThreesAttempted & ⋯ & Steals & Turnovers & Blocks & PersonalFouls & Disqualifications & TotalPoints & Technicals & Ejections & FlagrantFouls & GamesStarted\\\\\n <fct> & <chr> & <fct> & <fct> & <int> & <int> & <int> & <int> & <int> & <int> & ⋯ & <int> & <int> & <int> & <int> & <int> & <int> & <int> & <int> & <int> & <int>\\\\\n\\hline\n\t NBA & Jae Crowder      & BOS & SF & 73 & 2310 & 359 &  812 & 122 & 363 & ⋯ & 126 &  83 &  35 & 198 & 4 & 1036 & 3 & 0 & 0 & 73\\\\\n\t NBA & James Ennis      & NOR & SF & 22 &  329 &  54 &  113 &  26 &  58 & ⋯ &  16 &  19 &   5 &  28 & 1 &  159 & 0 & 0 & 0 &  5\\\\\n\t NBA & Jeremy Evans     & DAL & SF & 30 &  251 &  26 &   48 &   4 &  16 & ⋯ &   6 &   7 &   9 &  19 & 0 &   71 & 0 & 0 & 0 &  2\\\\\n\t NBA & Jerami Grant     & PHI & SF & 77 & 2068 & 251 &  599 &  35 & 146 & ⋯ &  54 & 110 & 127 & 215 & 1 &  749 & 2 & 0 & 0 & 52\\\\\n\t NBA & Jeff Green       & LAC & SF & 80 & 2258 & 354 &  824 &  67 & 213 & ⋯ &  58 &  93 &  40 & 164 & 0 &  939 & 0 & 0 & 0 & 41\\\\\n\t NBA & Josh Huestis     & OKL & SF &  5 &   55 &   5 &   12 &   4 &   6 & ⋯ &   1 &   3 &   2 &   3 & 0 &   14 & 0 & 0 & 0 &  0\\\\\n\t NBA & Joe Ingles       & UTA & SF & 81 & 1241 & 124 &  291 &  81 & 210 & ⋯ &  55 &  65 &   4 &  98 & 0 &  342 & 1 & 0 & 0 &  2\\\\\n\t NBA & Lebron James     & CLE & SF & 76 & 2710 & 737 & 1416 &  87 & 282 & ⋯ & 104 & 249 &  49 & 143 & 0 & 1920 & 3 & 0 & 0 & 76\\\\\n\t NBA & Richar Jefferson & CLE & SF & 74 & 1326 & 143 &  312 &  66 & 173 & ⋯ &  33 &  43 &  14 & 129 & 0 &  410 & 1 & 0 & 0 &  5\\\\\n\t NBA & Chris Johnson    & UTA & SF & 70 &  858 &  72 &  194 &  27 &  99 & ⋯ &  32 &  40 &  20 & 100 & 1 &  205 & 0 & 0 & 0 &  2\\\\\n\t NBA & Joe Johnson      & MIA & SF & 81 & 2703 & 377 &  859 & 120 & 313 & ⋯ &  61 & 160 &   4 & 146 & 0 &  992 & 1 & 0 & 0 & 81\\\\\n\t NBA & Stanley Johnson  & DET & SF & 73 & 1685 & 225 &  600 &  63 & 205 & ⋯ &  55 & 114 &  12 & 178 & 2 &  593 & 2 & 0 & 0 &  6\\\\\n\t NBA & J.j. O'brien     & UTA & SF &  1 &    2 &   0 &    1 &   0 &   0 & ⋯ &   0 &   0 &   0 &   0 & 0 &    0 & 0 & 0 & 0 &  0\\\\\n\t NBA & Jabari Parker    & MIL & SF & 76 & 2407 & 443 &  899 &   9 &  35 & ⋯ &  69 & 116 &  29 & 154 & 0 & 1070 & 0 & 0 & 0 & 72\\\\\n\t NBA & Josh Smith       & HOU & SF & 55 &  878 & 127 &  349 &  41 & 143 & ⋯ &  34 &  77 &  47 & 118 & 1 &  332 & 1 & 0 & 0 &  7\\\\\n\t NBA & Justise Winslow  & MIA & SF & 78 & 2237 & 196 &  463 &  32 & 116 & ⋯ &  68 &  95 &  26 & 184 & 0 &  504 & 0 & 0 & 0 &  8\\\\\n\\end{tabular}\n",
            "text/markdown": "\nA data.table: 16 × 25\n\n| League &lt;fct&gt; | Name &lt;chr&gt; | Team &lt;fct&gt; | Position &lt;fct&gt; | GamesPlayed &lt;int&gt; | TotalMinutesPlayed &lt;int&gt; | FieldGoalsMade &lt;int&gt; | FieldGoalsAttempted &lt;int&gt; | ThreesMade &lt;int&gt; | ThreesAttempted &lt;int&gt; | ⋯ ⋯ | Steals &lt;int&gt; | Turnovers &lt;int&gt; | Blocks &lt;int&gt; | PersonalFouls &lt;int&gt; | Disqualifications &lt;int&gt; | TotalPoints &lt;int&gt; | Technicals &lt;int&gt; | Ejections &lt;int&gt; | FlagrantFouls &lt;int&gt; | GamesStarted &lt;int&gt; |\n|---|---|---|---|---|---|---|---|---|---|---|---|---|---|---|---|---|---|---|---|---|\n| NBA | Jae Crowder      | BOS | SF | 73 | 2310 | 359 |  812 | 122 | 363 | ⋯ | 126 |  83 |  35 | 198 | 4 | 1036 | 3 | 0 | 0 | 73 |\n| NBA | James Ennis      | NOR | SF | 22 |  329 |  54 |  113 |  26 |  58 | ⋯ |  16 |  19 |   5 |  28 | 1 |  159 | 0 | 0 | 0 |  5 |\n| NBA | Jeremy Evans     | DAL | SF | 30 |  251 |  26 |   48 |   4 |  16 | ⋯ |   6 |   7 |   9 |  19 | 0 |   71 | 0 | 0 | 0 |  2 |\n| NBA | Jerami Grant     | PHI | SF | 77 | 2068 | 251 |  599 |  35 | 146 | ⋯ |  54 | 110 | 127 | 215 | 1 |  749 | 2 | 0 | 0 | 52 |\n| NBA | Jeff Green       | LAC | SF | 80 | 2258 | 354 |  824 |  67 | 213 | ⋯ |  58 |  93 |  40 | 164 | 0 |  939 | 0 | 0 | 0 | 41 |\n| NBA | Josh Huestis     | OKL | SF |  5 |   55 |   5 |   12 |   4 |   6 | ⋯ |   1 |   3 |   2 |   3 | 0 |   14 | 0 | 0 | 0 |  0 |\n| NBA | Joe Ingles       | UTA | SF | 81 | 1241 | 124 |  291 |  81 | 210 | ⋯ |  55 |  65 |   4 |  98 | 0 |  342 | 1 | 0 | 0 |  2 |\n| NBA | Lebron James     | CLE | SF | 76 | 2710 | 737 | 1416 |  87 | 282 | ⋯ | 104 | 249 |  49 | 143 | 0 | 1920 | 3 | 0 | 0 | 76 |\n| NBA | Richar Jefferson | CLE | SF | 74 | 1326 | 143 |  312 |  66 | 173 | ⋯ |  33 |  43 |  14 | 129 | 0 |  410 | 1 | 0 | 0 |  5 |\n| NBA | Chris Johnson    | UTA | SF | 70 |  858 |  72 |  194 |  27 |  99 | ⋯ |  32 |  40 |  20 | 100 | 1 |  205 | 0 | 0 | 0 |  2 |\n| NBA | Joe Johnson      | MIA | SF | 81 | 2703 | 377 |  859 | 120 | 313 | ⋯ |  61 | 160 |   4 | 146 | 0 |  992 | 1 | 0 | 0 | 81 |\n| NBA | Stanley Johnson  | DET | SF | 73 | 1685 | 225 |  600 |  63 | 205 | ⋯ |  55 | 114 |  12 | 178 | 2 |  593 | 2 | 0 | 0 |  6 |\n| NBA | J.j. O'brien     | UTA | SF |  1 |    2 |   0 |    1 |   0 |   0 | ⋯ |   0 |   0 |   0 |   0 | 0 |    0 | 0 | 0 | 0 |  0 |\n| NBA | Jabari Parker    | MIL | SF | 76 | 2407 | 443 |  899 |   9 |  35 | ⋯ |  69 | 116 |  29 | 154 | 0 | 1070 | 0 | 0 | 0 | 72 |\n| NBA | Josh Smith       | HOU | SF | 55 |  878 | 127 |  349 |  41 | 143 | ⋯ |  34 |  77 |  47 | 118 | 1 |  332 | 1 | 0 | 0 |  7 |\n| NBA | Justise Winslow  | MIA | SF | 78 | 2237 | 196 |  463 |  32 | 116 | ⋯ |  68 |  95 |  26 | 184 | 0 |  504 | 0 | 0 | 0 |  8 |\n\n",
            "text/html": [
              "<table>\n",
              "<caption>A data.table: 16 × 25</caption>\n",
              "<thead>\n",
              "\t<tr><th scope=col>League</th><th scope=col>Name</th><th scope=col>Team</th><th scope=col>Position</th><th scope=col>GamesPlayed</th><th scope=col>TotalMinutesPlayed</th><th scope=col>FieldGoalsMade</th><th scope=col>FieldGoalsAttempted</th><th scope=col>ThreesMade</th><th scope=col>ThreesAttempted</th><th scope=col>⋯</th><th scope=col>Steals</th><th scope=col>Turnovers</th><th scope=col>Blocks</th><th scope=col>PersonalFouls</th><th scope=col>Disqualifications</th><th scope=col>TotalPoints</th><th scope=col>Technicals</th><th scope=col>Ejections</th><th scope=col>FlagrantFouls</th><th scope=col>GamesStarted</th></tr>\n",
              "\t<tr><th scope=col>&lt;fct&gt;</th><th scope=col>&lt;chr&gt;</th><th scope=col>&lt;fct&gt;</th><th scope=col>&lt;fct&gt;</th><th scope=col>&lt;int&gt;</th><th scope=col>&lt;int&gt;</th><th scope=col>&lt;int&gt;</th><th scope=col>&lt;int&gt;</th><th scope=col>&lt;int&gt;</th><th scope=col>&lt;int&gt;</th><th scope=col>⋯</th><th scope=col>&lt;int&gt;</th><th scope=col>&lt;int&gt;</th><th scope=col>&lt;int&gt;</th><th scope=col>&lt;int&gt;</th><th scope=col>&lt;int&gt;</th><th scope=col>&lt;int&gt;</th><th scope=col>&lt;int&gt;</th><th scope=col>&lt;int&gt;</th><th scope=col>&lt;int&gt;</th><th scope=col>&lt;int&gt;</th></tr>\n",
              "</thead>\n",
              "<tbody>\n",
              "\t<tr><td>NBA</td><td>Jae Crowder     </td><td>BOS</td><td>SF</td><td>73</td><td>2310</td><td>359</td><td> 812</td><td>122</td><td>363</td><td>⋯</td><td>126</td><td> 83</td><td> 35</td><td>198</td><td>4</td><td>1036</td><td>3</td><td>0</td><td>0</td><td>73</td></tr>\n",
              "\t<tr><td>NBA</td><td>James Ennis     </td><td>NOR</td><td>SF</td><td>22</td><td> 329</td><td> 54</td><td> 113</td><td> 26</td><td> 58</td><td>⋯</td><td> 16</td><td> 19</td><td>  5</td><td> 28</td><td>1</td><td> 159</td><td>0</td><td>0</td><td>0</td><td> 5</td></tr>\n",
              "\t<tr><td>NBA</td><td>Jeremy Evans    </td><td>DAL</td><td>SF</td><td>30</td><td> 251</td><td> 26</td><td>  48</td><td>  4</td><td> 16</td><td>⋯</td><td>  6</td><td>  7</td><td>  9</td><td> 19</td><td>0</td><td>  71</td><td>0</td><td>0</td><td>0</td><td> 2</td></tr>\n",
              "\t<tr><td>NBA</td><td>Jerami Grant    </td><td>PHI</td><td>SF</td><td>77</td><td>2068</td><td>251</td><td> 599</td><td> 35</td><td>146</td><td>⋯</td><td> 54</td><td>110</td><td>127</td><td>215</td><td>1</td><td> 749</td><td>2</td><td>0</td><td>0</td><td>52</td></tr>\n",
              "\t<tr><td>NBA</td><td>Jeff Green      </td><td>LAC</td><td>SF</td><td>80</td><td>2258</td><td>354</td><td> 824</td><td> 67</td><td>213</td><td>⋯</td><td> 58</td><td> 93</td><td> 40</td><td>164</td><td>0</td><td> 939</td><td>0</td><td>0</td><td>0</td><td>41</td></tr>\n",
              "\t<tr><td>NBA</td><td>Josh Huestis    </td><td>OKL</td><td>SF</td><td> 5</td><td>  55</td><td>  5</td><td>  12</td><td>  4</td><td>  6</td><td>⋯</td><td>  1</td><td>  3</td><td>  2</td><td>  3</td><td>0</td><td>  14</td><td>0</td><td>0</td><td>0</td><td> 0</td></tr>\n",
              "\t<tr><td>NBA</td><td>Joe Ingles      </td><td>UTA</td><td>SF</td><td>81</td><td>1241</td><td>124</td><td> 291</td><td> 81</td><td>210</td><td>⋯</td><td> 55</td><td> 65</td><td>  4</td><td> 98</td><td>0</td><td> 342</td><td>1</td><td>0</td><td>0</td><td> 2</td></tr>\n",
              "\t<tr><td>NBA</td><td>Lebron James    </td><td>CLE</td><td>SF</td><td>76</td><td>2710</td><td>737</td><td>1416</td><td> 87</td><td>282</td><td>⋯</td><td>104</td><td>249</td><td> 49</td><td>143</td><td>0</td><td>1920</td><td>3</td><td>0</td><td>0</td><td>76</td></tr>\n",
              "\t<tr><td>NBA</td><td>Richar Jefferson</td><td>CLE</td><td>SF</td><td>74</td><td>1326</td><td>143</td><td> 312</td><td> 66</td><td>173</td><td>⋯</td><td> 33</td><td> 43</td><td> 14</td><td>129</td><td>0</td><td> 410</td><td>1</td><td>0</td><td>0</td><td> 5</td></tr>\n",
              "\t<tr><td>NBA</td><td>Chris Johnson   </td><td>UTA</td><td>SF</td><td>70</td><td> 858</td><td> 72</td><td> 194</td><td> 27</td><td> 99</td><td>⋯</td><td> 32</td><td> 40</td><td> 20</td><td>100</td><td>1</td><td> 205</td><td>0</td><td>0</td><td>0</td><td> 2</td></tr>\n",
              "\t<tr><td>NBA</td><td>Joe Johnson     </td><td>MIA</td><td>SF</td><td>81</td><td>2703</td><td>377</td><td> 859</td><td>120</td><td>313</td><td>⋯</td><td> 61</td><td>160</td><td>  4</td><td>146</td><td>0</td><td> 992</td><td>1</td><td>0</td><td>0</td><td>81</td></tr>\n",
              "\t<tr><td>NBA</td><td>Stanley Johnson </td><td>DET</td><td>SF</td><td>73</td><td>1685</td><td>225</td><td> 600</td><td> 63</td><td>205</td><td>⋯</td><td> 55</td><td>114</td><td> 12</td><td>178</td><td>2</td><td> 593</td><td>2</td><td>0</td><td>0</td><td> 6</td></tr>\n",
              "\t<tr><td>NBA</td><td>J.j. O'brien    </td><td>UTA</td><td>SF</td><td> 1</td><td>   2</td><td>  0</td><td>   1</td><td>  0</td><td>  0</td><td>⋯</td><td>  0</td><td>  0</td><td>  0</td><td>  0</td><td>0</td><td>   0</td><td>0</td><td>0</td><td>0</td><td> 0</td></tr>\n",
              "\t<tr><td>NBA</td><td>Jabari Parker   </td><td>MIL</td><td>SF</td><td>76</td><td>2407</td><td>443</td><td> 899</td><td>  9</td><td> 35</td><td>⋯</td><td> 69</td><td>116</td><td> 29</td><td>154</td><td>0</td><td>1070</td><td>0</td><td>0</td><td>0</td><td>72</td></tr>\n",
              "\t<tr><td>NBA</td><td>Josh Smith      </td><td>HOU</td><td>SF</td><td>55</td><td> 878</td><td>127</td><td> 349</td><td> 41</td><td>143</td><td>⋯</td><td> 34</td><td> 77</td><td> 47</td><td>118</td><td>1</td><td> 332</td><td>1</td><td>0</td><td>0</td><td> 7</td></tr>\n",
              "\t<tr><td>NBA</td><td>Justise Winslow </td><td>MIA</td><td>SF</td><td>78</td><td>2237</td><td>196</td><td> 463</td><td> 32</td><td>116</td><td>⋯</td><td> 68</td><td> 95</td><td> 26</td><td>184</td><td>0</td><td> 504</td><td>0</td><td>0</td><td>0</td><td> 8</td></tr>\n",
              "</tbody>\n",
              "</table>\n"
            ]
          },
          "metadata": {
            "tags": []
          }
        }
      ]
    }
  ]
}